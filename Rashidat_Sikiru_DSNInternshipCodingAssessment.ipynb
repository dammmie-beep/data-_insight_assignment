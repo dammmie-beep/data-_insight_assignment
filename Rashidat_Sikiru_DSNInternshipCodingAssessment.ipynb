{
  "nbformat": 4,
  "nbformat_minor": 0,
  "metadata": {
    "colab": {
      "provenance": [],
      "include_colab_link": true
    },
    "kernelspec": {
      "name": "python3",
      "display_name": "Python 3"
    },
    "language_info": {
      "name": "python"
    }
  },
  "cells": [
    {
      "cell_type": "markdown",
      "metadata": {
        "id": "view-in-github",
        "colab_type": "text"
      },
      "source": [
        "<a href=\"https://colab.research.google.com/github/dammmie-beep/data-_insight_assignment/blob/main/Rashidat_Sikiru_DSNInternshipCodingAssessment.ipynb\" target=\"_parent\"><img src=\"https://colab.research.google.com/assets/colab-badge.svg\" alt=\"Open In Colab\"/></a>"
      ]
    },
    {
      "cell_type": "markdown",
      "source": [
        "## Introduction\n",
        "\n",
        "Welcome to the DSN Internship Coding Challenge! This assessment will put your Python programming and problem-solving abilities to the test. The assessment is divided into two sections:\n",
        "\n",
        "- Section one of the assessmnet will require you to build a recall evaluation metric without using any external libraries.\n",
        "\n",
        "- Section two of the assessment will put your knowledge of \"list\" in Python to the test.\n",
        "\n",
        "Good luck! If you have questions about the framing of the questions, please contact **recruitment@datasciencenigeria.ai**\n",
        "\n",
        "### How to Use and Submit this Notebook.\n",
        "- Make a copy of this document and rename it **Firstname_Lastname_DSNInternshipCodingAssessment.ipynb**\n",
        "- Before attempting to submit, ensure that you have ran all of the cells in your notebook and the output visible.\n",
        "- Once you’ve completed all tasks, save and download a copy of the notebook as .ipynb\n",
        "- Submit a link (make sure that the link is set to \"Anyone on the internet with the link can view\") and the downloaded copy of your final notebook via this [link](https://forms.gle/wCnajnhCZBvqJH5Q9).\n",
        "\n",
        "### What Not to Do.\n",
        "- Do not share this document with any external party\n",
        "- No teamwork is permitted\n",
        "- No external libraries like (NumPy, Pandas, Keras, etc.) is allowed. Use only pure python\n",
        "- After submitting a copy of your script, you are not permitted to make any changes to the online version; any discrepancy between the online and submitted copies will render your application null and void."
      ],
      "metadata": {
        "id": "mNzNT79JEDS1"
      }
    },
    {
      "cell_type": "markdown",
      "source": [
        "## Section One\n",
        "\n",
        "Without using any external libraries (NumPy, Pandas, Keras, SkLearn etc.), build a **Recall Algorithm** that is capable of handling only binary classification (You can assume the positive label is 0). The function should take in two keyword arguments, “actual” and “predicted”. Both arguments are a list of numbers (integers) of equal length. The function should return a float value between 0 and 1 rounded up to two significant figures. \n",
        "\n",
        "**Example 1:** \n",
        "\n",
        "Input: actual = [0, 1, 0, 0, 1, 1], predicted = [0, 0, 1, 0, 0, 1] \n",
        "\n",
        "recall (actual, predicted)\n",
        "\n",
        "Output: 0.67 \n",
        "\n",
        "**Example 2:** \n",
        "\n",
        "Input: actual = [1, 1, 1, 0, 1, 0, 0, 1], predicted = [1, 0, 1, 0, 0, 1, 0, 1]  \n",
        "\n",
        "recall (actual, predicted)\n",
        "\n",
        "Output: 0.67"
      ],
      "metadata": {
        "id": "wZ2tUoaxMLM6"
      }
    },
    {
      "cell_type": "code",
      "execution_count": null,
      "metadata": {
        "id": "Gv4ehXiyD8Rx"
      },
      "outputs": [],
      "source": [
        "# Do not change the name of the function and arguments\n",
        "def recall (actual, predicted):\n",
        "  ''''''\n",
        "  TP = 0\n",
        "  FN = 0\n",
        "\n",
        "  for i in range(len(actual)): \n",
        "    if actual[i]==predicted[i]==0:\n",
        "        TP += 1\n",
        "    if predicted[i]==1 and actual[i]!=predicted[i]:\n",
        "        FN += 1\n",
        "  recall = round((TP)/(TP+FN),2)\n",
        "  return recall"
      ]
    },
    {
      "cell_type": "code",
      "source": [
        "# Do not edit this section\n",
        "result_1 = recall([0, 1, 0, 0, 1, 1], [0, 0, 1, 0, 0, 1])\n",
        "\n",
        "print(f\"Example 1: The Recall value is {result_1}\")\n",
        "\n",
        "result_2 = recall([1, 1, 1, 0, 1, 0, 0, 1], [1, 0, 1, 0, 0, 1, 0, 1])\n",
        "\n",
        "print(f\"Example 2: The Recall value is {result_2}\")"
      ],
      "metadata": {
        "colab": {
          "base_uri": "https://localhost:8080/"
        },
        "id": "fMMrsNkhPJyc",
        "outputId": "3c63ea59-8d04-48f6-9bf4-3626b6c2423f"
      },
      "execution_count": null,
      "outputs": [
        {
          "output_type": "stream",
          "name": "stdout",
          "text": [
            "Example 1: The Recall value is 0.67\n",
            "Example 2: The Recall value is 0.67\n"
          ]
        }
      ]
    },
    {
      "cell_type": "markdown",
      "source": [
        "## Section Two\n",
        "\n",
        "Write a function flatten_lists that takes in a list of lists and outputs a sorted list of elements of sublists of the input list.\n",
        "\n",
        "> **Example 1:**\n",
        ">\n",
        "> Input: actual = [ [2,13,44], [6,7] ]\n",
        ">\n",
        "> flatten_lists (list_of_list)\n",
        ">\n",
        "> Output: [2, 6, 7, 13, 44]\n",
        "\n",
        "> **Example 2:** \n",
        ">\n",
        "> Input: actual = [ [10], [90, 30], [11,12] ]\n",
        ">\n",
        "> flatten_lists (list_of_list)\n",
        "> \n",
        "> Output: [10, 11, 12, 30, 90]\n",
        "\n",
        "\n"
      ],
      "metadata": {
        "id": "ajatrt0HEB7e"
      }
    },
    {
      "cell_type": "code",
      "source": [
        "# Do not change the name of the function and arguments\n",
        "def flatten_lists(list_of_list):\n",
        "  flat_list = []\n",
        "  # loop through the outer list\n",
        "  for i in list_of_list:\n",
        "    if type(i) is list:\n",
        "      # If the element is of type list, loop through the nested list\n",
        "      for k in i:\n",
        "          flat_list.append(k)\n",
        "    else:\n",
        "      flat_list.append(i)\n",
        "  flat_list.sort()\n",
        "  return flat_list"
      ],
      "metadata": {
        "id": "410j-TJlO5t6"
      },
      "execution_count": null,
      "outputs": []
    },
    {
      "cell_type": "code",
      "source": [
        "# Do not edit this section\n",
        "result_1 = flatten_lists([ [2,13,44], [6,7] ])\n",
        "\n",
        "print(f\"Example 1: The flatten lists is {result_1}\")\n",
        "\n",
        "result_2 = flatten_lists([ [10], [90, 30], [11,12] ])\n",
        "\n",
        "print(f\"Example 2: The flatten lists is {result_2}\")"
      ],
      "metadata": {
        "colab": {
          "base_uri": "https://localhost:8080/"
        },
        "id": "8Cex0bAaO_bG",
        "outputId": "fde16953-e036-49ee-8c32-877e3425620a"
      },
      "execution_count": null,
      "outputs": [
        {
          "output_type": "stream",
          "name": "stdout",
          "text": [
            "Example 1: The flatten lists is [2, 6, 7, 13, 44]\n",
            "Example 2: The flatten lists is [10, 11, 12, 30, 90]\n"
          ]
        }
      ]
    },
    {
      "cell_type": "markdown",
      "source": [
        "## Addtional Point\n",
        "Kindly outline your solution for the two section, explaining your solution and why you favour one method over another."
      ],
      "metadata": {
        "id": "xg5DiYB1S6Nk"
      }
    },
    {
      "cell_type": "markdown",
      "source": [
        "### Section 1\n",
        "my solution is an alorithm that returns the recall score of a dataset. A recall score checks the ability of a model to find all relevant cases within a dataset.\n",
        "it is represented mathematically as:\n",
        "recall_score = True Positive(TP)/ (True Positive(TP) +False Negative(FN)\n",
        "\n",
        "**True Positve** represents an obervation that is predicted positively and it is actually positive while **False Negative** represents an obeservation that is predicted postive but it is actually negative.\n",
        "\n",
        "The solution above helps return a recall score of two lists termed actual and predicted. We also assumed that all positive labels are zero. The following steps were taken to return the desired output:\n",
        "\n",
        "__step 1:__ I defined a function called recall that takes two parameters of list type and they are called actual and predicted.\n",
        "\n",
        "__step 2:__ I created two  local variable called TP and FN set to zeros as it will help us hold the counts of true postive and false negative respectively later in the code \n",
        "\n",
        "__step 3:__ i iterate through the lenght of the lisys while considering the range the values fall within. The lenght helps to check if the two lists are equal as inconsistent lenght will return error. because we have equal lenghs of list and the value within the same range, we may decide to iterate through with either of the list\n",
        "\n",
        "__step 4:__ while iterating, we used if statement to check the condition that helps count our true positive and false negative and increase the initial TP and NP set to zero\n",
        "The first if statement checks for the postive label(0), that is if the value in actual and predicted are equal to zero. if true, its counts and increase our initial TP\n",
        "\n",
        "The second if statement checks for when predicted is negative(1) and actual is postive(0), that is if the value in actual and predicted are not eqal. if true, its counts and increase our initial FN.\n",
        "\n",
        "\n",
        "__step 5:__ moving out of the foor loop, i created a variable called recall to help us carry out our recall_score calculation(TP/(TP+FN)) and also round our result to two significant figures.\n",
        "\n",
        "__step 6:__ the last step return recall which is the result of our function\n",
        "\n",
        "**Test 1** return 0.67, **Test 2** also returns 0.67\n",
        "\n",
        "5his function can efficiently work on a very small dataset, if we have a large dataset it may take forever to loop through. I5 is therefore preferred to use the libraries required to perform this calculation to make our work easy.\n",
        "\n",
        "\n",
        "\n",
        "\n",
        "### Section 2\n",
        "my solution is a function that helps to flatten list of lits or nested list . Flattening of list basically means making nested lists into a single list. the following are the steps written to return the desired output:\n",
        "\n",
        "__step 1:__   I defined a function called flatten_list which takes one parameter\n",
        "called list_of_list.\n",
        "\n",
        "__step 2:__ Inside the function i created a new variable called flat_list that contains an empty list that will help hold our new single  list of elements.\n",
        "\n",
        "__step 3:__ Using **for loop**, i iterate through the Outer list.\n",
        "\n",
        "__step 4:__ while iterating, an if statement is written to check if the element in the outer list is also a list, \n",
        "if this condition is true, a **for loop**  is used to iterate through the inner list, and then i used the append function to include or attach the elements in the nested list into the empty list called **flat_list**\n",
        "\n",
        "if the condition is not true(the else statement), that is,the element in the is not list, then i append the elemnent directly into the empty list called **flat_list**\n",
        "\n",
        "__step 5:__ i moved out of the two for loops and used the sort function to rearrange my new list(flat_list) that contains all the elemnts in the list of lists. The default setting of the sort funtion is in ascending order, which is what is required.\n",
        "\n",
        "__step 6:__  using **return**, i returned thr new sorted list\n",
        "\n",
        "__Example 1__  and __Example 2__ returns a sorted single list."
      ],
      "metadata": {
        "id": "X0UW_2LeTpDz"
      }
    }
  ]
}