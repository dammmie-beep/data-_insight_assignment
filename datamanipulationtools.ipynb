{
 "cells": [
  {
   "cell_type": "markdown",
   "source": "# Python Data Manipulation Tools\n",
   "metadata": {
    "tags": [],
    "is_collapsed": false,
    "cell_id": "00001-b6f61ee8-a1dc-4ad5-bf54-e851391485aa",
    "deepnote_cell_type": "text-cell-h1"
   }
  },
  {
   "cell_type": "markdown",
   "source": " Author: Rashidat Sikiru",
   "metadata": {
    "tags": [],
    "is_collapsed": false,
    "cell_id": "00001-2675d8b0-8360-478b-846e-54d37503446c",
    "deepnote_cell_type": "text-cell-p"
   }
  },
  {
   "cell_type": "markdown",
   "source": "Pandas is an open-source python library for highly specialized data analysis. It is a perfect tool for anyone\nwho wants to perform data analysis using python as a programming language.\nIn this article, I will be taking us through the pandas techniques for data manipulation. There are several data manipulation tools, but this article will we be discussing five powerful pandas data manipulation tools. These are:",
   "metadata": {
    "tags": [],
    "is_collapsed": false,
    "cell_id": "00002-fe9f26ca-ed28-4e93-9433-2106c58ef380",
    "deepnote_cell_type": "text-cell-p"
   }
  },
  {
   "cell_type": "markdown",
   "source": "1.&nbsp;Merging\n2.&nbsp;Mapping\n3. Removing Duplicates\n4.&nbsp;Binning\n5. Sorting\n",
   "metadata": {
    "tags": [],
    "is_collapsed": false,
    "cell_id": "00003-0220c8b3-f4f0-4a61-aae0-cd7d19cbeb05",
    "deepnote_cell_type": "text-cell-p"
   }
  },
  {
   "cell_type": "markdown",
   "source": "## 1. Merging",
   "metadata": {
    "tags": [],
    "is_collapsed": false,
    "cell_id": "00004-15ef6a37-4f54-4d9e-844c-0d9dc17b740d",
    "deepnote_cell_type": "text-cell-h2"
   }
  },
  {
   "cell_type": "markdown",
   "source": "Merging also referred to as joining consists of a combination of data frames through the connection of rows using one or more\nkeys. It can be likened to the “JOIN” operation for those who are familiar with the Structured Query Language(SQL) and merge() is the function to perform this kind of operation.\n",
   "metadata": {
    "tags": [],
    "is_collapsed": false,
    "cell_id": "00005-3deb6312-6c11-45cd-88a6-55d0d7920673",
    "deepnote_cell_type": "text-cell-p"
   }
  },
  {
   "cell_type": "markdown",
   "source": "Let’s import the pandas library and define two data frames that will serve as examples for this section:\n",
   "metadata": {
    "tags": [],
    "is_collapsed": false,
    "cell_id": "00006-ccb208a7-091c-4fc1-8210-7f64dc908a05",
    "deepnote_cell_type": "text-cell-p"
   }
  },
  {
   "cell_type": "code",
   "metadata": {
    "tags": [],
    "cell_id": "00007-c94f6496-f264-4311-aed9-82b97b63dbdb",
    "deepnote_to_be_reexecuted": false,
    "source_hash": "fa531bc6",
    "execution_start": 1637296978183,
    "execution_millis": 44,
    "deepnote_cell_type": "code"
   },
   "source": "# import pandas and numpy\nimport numpy as np\nimport pandas as pd\n\n# define the first dataframe\ndata1 = pd.DataFrame( {'id':['ball','pencil','pen','mug','ashtray'],\n                      'price': [12.33,11.44,33.21,13.23,33.62]})\ndata1\n",
   "execution_count": 1,
   "outputs": [
    {
     "output_type": "execute_result",
     "execution_count": 1,
     "data": {
      "application/vnd.deepnote.dataframe.v2+json": {
       "row_count": 5,
       "column_count": 2,
       "columns": [
        {
         "name": "id",
         "dtype": "object",
         "stats": {
          "unique_count": 5,
          "nan_count": 0,
          "categories": [
           {
            "name": "ball",
            "count": 1
           },
           {
            "name": "pencil",
            "count": 1
           },
           {
            "name": "3 others",
            "count": 3
           }
          ]
         }
        },
        {
         "name": "price",
         "dtype": "float64",
         "stats": {
          "unique_count": 5,
          "nan_count": 0,
          "min": "11.44",
          "max": "33.62",
          "histogram": [
           {
            "bin_start": 11.44,
            "bin_end": 13.658,
            "count": 3
           },
           {
            "bin_start": 13.658,
            "bin_end": 15.876,
            "count": 0
           },
           {
            "bin_start": 15.876,
            "bin_end": 18.094,
            "count": 0
           },
           {
            "bin_start": 18.094,
            "bin_end": 20.311999999999998,
            "count": 0
           },
           {
            "bin_start": 20.311999999999998,
            "bin_end": 22.53,
            "count": 0
           },
           {
            "bin_start": 22.53,
            "bin_end": 24.747999999999998,
            "count": 0
           },
           {
            "bin_start": 24.747999999999998,
            "bin_end": 26.966,
            "count": 0
           },
           {
            "bin_start": 26.966,
            "bin_end": 29.183999999999997,
            "count": 0
           },
           {
            "bin_start": 29.183999999999997,
            "bin_end": 31.402,
            "count": 0
           },
           {
            "bin_start": 31.402,
            "bin_end": 33.62,
            "count": 2
           }
          ]
         }
        },
        {
         "name": "_deepnote_index_column",
         "dtype": "int64"
        }
       ],
       "rows_top": [
        {
         "id": "ball",
         "price": 12.33,
         "_deepnote_index_column": 0
        },
        {
         "id": "pencil",
         "price": 11.44,
         "_deepnote_index_column": 1
        },
        {
         "id": "pen",
         "price": 33.21,
         "_deepnote_index_column": 2
        },
        {
         "id": "mug",
         "price": 13.23,
         "_deepnote_index_column": 3
        },
        {
         "id": "ashtray",
         "price": 33.62,
         "_deepnote_index_column": 4
        }
       ],
       "rows_bottom": null
      },
      "text/plain": "        id  price\n0     ball  12.33\n1   pencil  11.44\n2      pen  33.21\n3      mug  13.23\n4  ashtray  33.62",
      "text/html": "<div>\n<style scoped>\n    .dataframe tbody tr th:only-of-type {\n        vertical-align: middle;\n    }\n\n    .dataframe tbody tr th {\n        vertical-align: top;\n    }\n\n    .dataframe thead th {\n        text-align: right;\n    }\n</style>\n<table border=\"1\" class=\"dataframe\">\n  <thead>\n    <tr style=\"text-align: right;\">\n      <th></th>\n      <th>id</th>\n      <th>price</th>\n    </tr>\n  </thead>\n  <tbody>\n    <tr>\n      <th>0</th>\n      <td>ball</td>\n      <td>12.33</td>\n    </tr>\n    <tr>\n      <th>1</th>\n      <td>pencil</td>\n      <td>11.44</td>\n    </tr>\n    <tr>\n      <th>2</th>\n      <td>pen</td>\n      <td>33.21</td>\n    </tr>\n    <tr>\n      <th>3</th>\n      <td>mug</td>\n      <td>13.23</td>\n    </tr>\n    <tr>\n      <th>4</th>\n      <td>ashtray</td>\n      <td>33.62</td>\n    </tr>\n  </tbody>\n</table>\n</div>"
     },
     "metadata": {}
    }
   ]
  },
  {
   "cell_type": "code",
   "metadata": {
    "tags": [],
    "cell_id": "00008-4f5ba5a2-c42f-4909-97d1-70042c544385",
    "deepnote_to_be_reexecuted": false,
    "source_hash": "e4c3875d",
    "execution_start": 1637296978302,
    "execution_millis": 5,
    "deepnote_cell_type": "code"
   },
   "source": "# define the second dataframe\ndata2 = pd.DataFrame( {'id':['pencil','pencil','ball','pen'], 'color': ['white','red','red','black']})\ndata2",
   "execution_count": 2,
   "outputs": [
    {
     "output_type": "execute_result",
     "execution_count": 2,
     "data": {
      "application/vnd.deepnote.dataframe.v2+json": {
       "row_count": 4,
       "column_count": 2,
       "columns": [
        {
         "name": "id",
         "dtype": "object",
         "stats": {
          "unique_count": 3,
          "nan_count": 0,
          "categories": [
           {
            "name": "pencil",
            "count": 2
           },
           {
            "name": "ball",
            "count": 1
           },
           {
            "name": "pen",
            "count": 1
           }
          ]
         }
        },
        {
         "name": "color",
         "dtype": "object",
         "stats": {
          "unique_count": 3,
          "nan_count": 0,
          "categories": [
           {
            "name": "red",
            "count": 2
           },
           {
            "name": "white",
            "count": 1
           },
           {
            "name": "black",
            "count": 1
           }
          ]
         }
        },
        {
         "name": "_deepnote_index_column",
         "dtype": "int64"
        }
       ],
       "rows_top": [
        {
         "id": "pencil",
         "color": "white",
         "_deepnote_index_column": 0
        },
        {
         "id": "pencil",
         "color": "red",
         "_deepnote_index_column": 1
        },
        {
         "id": "ball",
         "color": "red",
         "_deepnote_index_column": 2
        },
        {
         "id": "pen",
         "color": "black",
         "_deepnote_index_column": 3
        }
       ],
       "rows_bottom": null
      },
      "text/plain": "       id  color\n0  pencil  white\n1  pencil    red\n2    ball    red\n3     pen  black",
      "text/html": "<div>\n<style scoped>\n    .dataframe tbody tr th:only-of-type {\n        vertical-align: middle;\n    }\n\n    .dataframe tbody tr th {\n        vertical-align: top;\n    }\n\n    .dataframe thead th {\n        text-align: right;\n    }\n</style>\n<table border=\"1\" class=\"dataframe\">\n  <thead>\n    <tr style=\"text-align: right;\">\n      <th></th>\n      <th>id</th>\n      <th>color</th>\n    </tr>\n  </thead>\n  <tbody>\n    <tr>\n      <th>0</th>\n      <td>pencil</td>\n      <td>white</td>\n    </tr>\n    <tr>\n      <th>1</th>\n      <td>pencil</td>\n      <td>red</td>\n    </tr>\n    <tr>\n      <th>2</th>\n      <td>ball</td>\n      <td>red</td>\n    </tr>\n    <tr>\n      <th>3</th>\n      <td>pen</td>\n      <td>black</td>\n    </tr>\n  </tbody>\n</table>\n</div>"
     },
     "metadata": {}
    }
   ]
  },
  {
   "cell_type": "markdown",
   "source": "Now we can carry out merging by applying the merge() function to the two data frame objects.\n",
   "metadata": {
    "tags": [],
    "is_collapsed": false,
    "cell_id": "00009-c85e7a2d-c68e-4712-a850-3572d3500b03",
    "deepnote_cell_type": "text-cell-p"
   }
  },
  {
   "cell_type": "code",
   "metadata": {
    "tags": [],
    "cell_id": "00010-357388d0-8aac-47e8-8675-4eb8ff27676d",
    "deepnote_to_be_reexecuted": false,
    "source_hash": "54127ba0",
    "execution_start": 1637296978303,
    "execution_millis": 56,
    "deepnote_cell_type": "code"
   },
   "source": "pd.merge(data1,data2)",
   "execution_count": 3,
   "outputs": [
    {
     "output_type": "execute_result",
     "execution_count": 3,
     "data": {
      "application/vnd.deepnote.dataframe.v2+json": {
       "row_count": 4,
       "column_count": 3,
       "columns": [
        {
         "name": "id",
         "dtype": "object",
         "stats": {
          "unique_count": 3,
          "nan_count": 0,
          "categories": [
           {
            "name": "pencil",
            "count": 2
           },
           {
            "name": "ball",
            "count": 1
           },
           {
            "name": "pen",
            "count": 1
           }
          ]
         }
        },
        {
         "name": "price",
         "dtype": "float64",
         "stats": {
          "unique_count": 3,
          "nan_count": 0,
          "min": "11.44",
          "max": "33.21",
          "histogram": [
           {
            "bin_start": 11.44,
            "bin_end": 13.617,
            "count": 3
           },
           {
            "bin_start": 13.617,
            "bin_end": 15.794,
            "count": 0
           },
           {
            "bin_start": 15.794,
            "bin_end": 17.971,
            "count": 0
           },
           {
            "bin_start": 17.971,
            "bin_end": 20.148000000000003,
            "count": 0
           },
           {
            "bin_start": 20.148000000000003,
            "bin_end": 22.325000000000003,
            "count": 0
           },
           {
            "bin_start": 22.325000000000003,
            "bin_end": 24.502000000000002,
            "count": 0
           },
           {
            "bin_start": 24.502000000000002,
            "bin_end": 26.679000000000002,
            "count": 0
           },
           {
            "bin_start": 26.679000000000002,
            "bin_end": 28.856,
            "count": 0
           },
           {
            "bin_start": 28.856,
            "bin_end": 31.033,
            "count": 0
           },
           {
            "bin_start": 31.033,
            "bin_end": 33.21,
            "count": 1
           }
          ]
         }
        },
        {
         "name": "color",
         "dtype": "object",
         "stats": {
          "unique_count": 3,
          "nan_count": 0,
          "categories": [
           {
            "name": "red",
            "count": 2
           },
           {
            "name": "white",
            "count": 1
           },
           {
            "name": "black",
            "count": 1
           }
          ]
         }
        },
        {
         "name": "_deepnote_index_column",
         "dtype": "int64"
        }
       ],
       "rows_top": [
        {
         "id": "ball",
         "price": 12.33,
         "color": "red",
         "_deepnote_index_column": 0
        },
        {
         "id": "pencil",
         "price": 11.44,
         "color": "white",
         "_deepnote_index_column": 1
        },
        {
         "id": "pencil",
         "price": 11.44,
         "color": "red",
         "_deepnote_index_column": 2
        },
        {
         "id": "pen",
         "price": 33.21,
         "color": "black",
         "_deepnote_index_column": 3
        }
       ],
       "rows_bottom": null
      },
      "text/plain": "       id  price  color\n0    ball  12.33    red\n1  pencil  11.44  white\n2  pencil  11.44    red\n3     pen  33.21  black",
      "text/html": "<div>\n<style scoped>\n    .dataframe tbody tr th:only-of-type {\n        vertical-align: middle;\n    }\n\n    .dataframe tbody tr th {\n        vertical-align: top;\n    }\n\n    .dataframe thead th {\n        text-align: right;\n    }\n</style>\n<table border=\"1\" class=\"dataframe\">\n  <thead>\n    <tr style=\"text-align: right;\">\n      <th></th>\n      <th>id</th>\n      <th>price</th>\n      <th>color</th>\n    </tr>\n  </thead>\n  <tbody>\n    <tr>\n      <th>0</th>\n      <td>ball</td>\n      <td>12.33</td>\n      <td>red</td>\n    </tr>\n    <tr>\n      <th>1</th>\n      <td>pencil</td>\n      <td>11.44</td>\n      <td>white</td>\n    </tr>\n    <tr>\n      <th>2</th>\n      <td>pencil</td>\n      <td>11.44</td>\n      <td>red</td>\n    </tr>\n    <tr>\n      <th>3</th>\n      <td>pen</td>\n      <td>33.21</td>\n      <td>black</td>\n    </tr>\n  </tbody>\n</table>\n</div>"
     },
     "metadata": {}
    }
   ]
  },
  {
   "cell_type": "markdown",
   "source": "We can see from the result, the returned data frame consists of all rows that have an ID in common. In addition to the common column, the columns from the first and the second data frame are added. In this case, we used the merge() function without specifying any column explicitly.\n",
   "metadata": {
    "tags": [],
    "is_collapsed": false,
    "cell_id": "00011-c50d7ffe-aa1a-4e08-8136-e322e0aa2b14",
    "deepnote_cell_type": "text-cell-p"
   }
  },
  {
   "cell_type": "markdown",
   "source": "However, we will come across cases where we need to decide which column on which to base the merging. To do this, we need to add the ON option with the column name as the key for the merging.\n",
   "metadata": {
    "tags": [],
    "is_collapsed": false,
    "cell_id": "00012-7ef9fe8e-e793-4c2f-9af4-549876cdf312",
    "deepnote_cell_type": "text-cell-p"
   }
  },
  {
   "cell_type": "markdown",
   "source": "Let's do this by adding another column named \"brand\" to the two  data frames so that we can have two similar columns on each data frame",
   "metadata": {
    "tags": [],
    "is_collapsed": false,
    "cell_id": "00013-364c2db1-9996-4e6f-8ec9-d93bce43f84a",
    "deepnote_cell_type": "text-cell-p"
   }
  },
  {
   "cell_type": "code",
   "metadata": {
    "tags": [],
    "cell_id": "00014-2a52bc12-f22c-4cd0-95d3-1330fcc27adc",
    "deepnote_to_be_reexecuted": false,
    "source_hash": "e7be4d28",
    "execution_start": 1637296978434,
    "execution_millis": 2,
    "deepnote_cell_type": "code"
   },
   "source": "data1 = pd.DataFrame( {'id':['ball','pencil','pen','mug','ashtray'],  \n                      'color':  ['white','red','red','black','green'], \n                      'brand': ['OMG','ABC','ABC','POD','POD']})\ndata1",
   "execution_count": 4,
   "outputs": [
    {
     "output_type": "execute_result",
     "execution_count": 4,
     "data": {
      "application/vnd.deepnote.dataframe.v2+json": {
       "row_count": 5,
       "column_count": 3,
       "columns": [
        {
         "name": "id",
         "dtype": "object",
         "stats": {
          "unique_count": 5,
          "nan_count": 0,
          "categories": [
           {
            "name": "ball",
            "count": 1
           },
           {
            "name": "pencil",
            "count": 1
           },
           {
            "name": "3 others",
            "count": 3
           }
          ]
         }
        },
        {
         "name": "color",
         "dtype": "object",
         "stats": {
          "unique_count": 4,
          "nan_count": 0,
          "categories": [
           {
            "name": "red",
            "count": 2
           },
           {
            "name": "white",
            "count": 1
           },
           {
            "name": "2 others",
            "count": 2
           }
          ]
         }
        },
        {
         "name": "brand",
         "dtype": "object",
         "stats": {
          "unique_count": 3,
          "nan_count": 0,
          "categories": [
           {
            "name": "ABC",
            "count": 2
           },
           {
            "name": "POD",
            "count": 2
           },
           {
            "name": "OMG",
            "count": 1
           }
          ]
         }
        },
        {
         "name": "_deepnote_index_column",
         "dtype": "int64"
        }
       ],
       "rows_top": [
        {
         "id": "ball",
         "color": "white",
         "brand": "OMG",
         "_deepnote_index_column": 0
        },
        {
         "id": "pencil",
         "color": "red",
         "brand": "ABC",
         "_deepnote_index_column": 1
        },
        {
         "id": "pen",
         "color": "red",
         "brand": "ABC",
         "_deepnote_index_column": 2
        },
        {
         "id": "mug",
         "color": "black",
         "brand": "POD",
         "_deepnote_index_column": 3
        },
        {
         "id": "ashtray",
         "color": "green",
         "brand": "POD",
         "_deepnote_index_column": 4
        }
       ],
       "rows_bottom": null
      },
      "text/plain": "        id  color brand\n0     ball  white   OMG\n1   pencil    red   ABC\n2      pen    red   ABC\n3      mug  black   POD\n4  ashtray  green   POD",
      "text/html": "<div>\n<style scoped>\n    .dataframe tbody tr th:only-of-type {\n        vertical-align: middle;\n    }\n\n    .dataframe tbody tr th {\n        vertical-align: top;\n    }\n\n    .dataframe thead th {\n        text-align: right;\n    }\n</style>\n<table border=\"1\" class=\"dataframe\">\n  <thead>\n    <tr style=\"text-align: right;\">\n      <th></th>\n      <th>id</th>\n      <th>color</th>\n      <th>brand</th>\n    </tr>\n  </thead>\n  <tbody>\n    <tr>\n      <th>0</th>\n      <td>ball</td>\n      <td>white</td>\n      <td>OMG</td>\n    </tr>\n    <tr>\n      <th>1</th>\n      <td>pencil</td>\n      <td>red</td>\n      <td>ABC</td>\n    </tr>\n    <tr>\n      <th>2</th>\n      <td>pen</td>\n      <td>red</td>\n      <td>ABC</td>\n    </tr>\n    <tr>\n      <th>3</th>\n      <td>mug</td>\n      <td>black</td>\n      <td>POD</td>\n    </tr>\n    <tr>\n      <th>4</th>\n      <td>ashtray</td>\n      <td>green</td>\n      <td>POD</td>\n    </tr>\n  </tbody>\n</table>\n</div>"
     },
     "metadata": {}
    }
   ]
  },
  {
   "cell_type": "code",
   "metadata": {
    "tags": [],
    "cell_id": "00015-fd1f2f81-f686-41e6-b125-bd33fb1fe321",
    "deepnote_to_be_reexecuted": false,
    "source_hash": "ff4fcb22",
    "execution_start": 1637296978435,
    "execution_millis": 44,
    "deepnote_cell_type": "code"
   },
   "source": "data2 = pd.DataFrame( {'id':['pencil','pencil','ball','pen'],\n                     'brand': ['OMG','POD','ABC','POD']})\ndata2",
   "execution_count": 5,
   "outputs": [
    {
     "output_type": "execute_result",
     "execution_count": 5,
     "data": {
      "application/vnd.deepnote.dataframe.v2+json": {
       "row_count": 4,
       "column_count": 2,
       "columns": [
        {
         "name": "id",
         "dtype": "object",
         "stats": {
          "unique_count": 3,
          "nan_count": 0,
          "categories": [
           {
            "name": "pencil",
            "count": 2
           },
           {
            "name": "ball",
            "count": 1
           },
           {
            "name": "pen",
            "count": 1
           }
          ]
         }
        },
        {
         "name": "brand",
         "dtype": "object",
         "stats": {
          "unique_count": 3,
          "nan_count": 0,
          "categories": [
           {
            "name": "POD",
            "count": 2
           },
           {
            "name": "OMG",
            "count": 1
           },
           {
            "name": "ABC",
            "count": 1
           }
          ]
         }
        },
        {
         "name": "_deepnote_index_column",
         "dtype": "int64"
        }
       ],
       "rows_top": [
        {
         "id": "pencil",
         "brand": "OMG",
         "_deepnote_index_column": 0
        },
        {
         "id": "pencil",
         "brand": "POD",
         "_deepnote_index_column": 1
        },
        {
         "id": "ball",
         "brand": "ABC",
         "_deepnote_index_column": 2
        },
        {
         "id": "pen",
         "brand": "POD",
         "_deepnote_index_column": 3
        }
       ],
       "rows_bottom": null
      },
      "text/plain": "       id brand\n0  pencil   OMG\n1  pencil   POD\n2    ball   ABC\n3     pen   POD",
      "text/html": "<div>\n<style scoped>\n    .dataframe tbody tr th:only-of-type {\n        vertical-align: middle;\n    }\n\n    .dataframe tbody tr th {\n        vertical-align: top;\n    }\n\n    .dataframe thead th {\n        text-align: right;\n    }\n</style>\n<table border=\"1\" class=\"dataframe\">\n  <thead>\n    <tr style=\"text-align: right;\">\n      <th></th>\n      <th>id</th>\n      <th>brand</th>\n    </tr>\n  </thead>\n  <tbody>\n    <tr>\n      <th>0</th>\n      <td>pencil</td>\n      <td>OMG</td>\n    </tr>\n    <tr>\n      <th>1</th>\n      <td>pencil</td>\n      <td>POD</td>\n    </tr>\n    <tr>\n      <th>2</th>\n      <td>ball</td>\n      <td>ABC</td>\n    </tr>\n    <tr>\n      <th>3</th>\n      <td>pen</td>\n      <td>POD</td>\n    </tr>\n  </tbody>\n</table>\n</div>"
     },
     "metadata": {}
    }
   ]
  },
  {
   "cell_type": "markdown",
   "source": "\nNow that we have two data frames having columns with the same name, let us use our merge() function\n\n",
   "metadata": {
    "tags": [],
    "is_collapsed": false,
    "cell_id": "00015-be3dd5a5-315b-484b-87f6-788993e81b6a",
    "deepnote_cell_type": "text-cell-p"
   }
  },
  {
   "cell_type": "code",
   "metadata": {
    "tags": [],
    "cell_id": "00016-a02a7bc3-bd6a-459d-9bf0-b660ec2b8824",
    "deepnote_to_be_reexecuted": false,
    "source_hash": "54127ba0",
    "execution_start": 1637296978481,
    "execution_millis": 41,
    "deepnote_cell_type": "code"
   },
   "source": "pd.merge(data1,data2)",
   "execution_count": 6,
   "outputs": [
    {
     "output_type": "execute_result",
     "execution_count": 6,
     "data": {
      "application/vnd.deepnote.dataframe.v2+json": {
       "row_count": 0,
       "column_count": 3,
       "columns": [
        {
         "name": "id",
         "dtype": "object",
         "stats": {
          "unique_count": 0,
          "nan_count": 0,
          "categories": []
         }
        },
        {
         "name": "color",
         "dtype": "object",
         "stats": {
          "unique_count": 0,
          "nan_count": 0,
          "categories": []
         }
        },
        {
         "name": "brand",
         "dtype": "object",
         "stats": {
          "unique_count": 0,
          "nan_count": 0,
          "categories": []
         }
        },
        {
         "name": "_deepnote_index_column",
         "dtype": "object"
        }
       ],
       "rows_top": [],
       "rows_bottom": null
      },
      "text/plain": "Empty DataFrame\nColumns: [id, color, brand]\nIndex: []",
      "text/html": "<div>\n<style scoped>\n    .dataframe tbody tr th:only-of-type {\n        vertical-align: middle;\n    }\n\n    .dataframe tbody tr th {\n        vertical-align: top;\n    }\n\n    .dataframe thead th {\n        text-align: right;\n    }\n</style>\n<table border=\"1\" class=\"dataframe\">\n  <thead>\n    <tr style=\"text-align: right;\">\n      <th></th>\n      <th>id</th>\n      <th>color</th>\n      <th>brand</th>\n    </tr>\n  </thead>\n  <tbody>\n  </tbody>\n</table>\n</div>"
     },
     "metadata": {}
    }
   ]
  },
  {
   "cell_type": "markdown",
   "source": "We can see that our code returns an empty data frame because it does not know which of the columns it should carry out the merging.",
   "metadata": {
    "tags": [],
    "is_collapsed": false,
    "cell_id": "00017-bf347a1b-5a35-41ba-ace2-6773499bc35b",
    "deepnote_cell_type": "text-cell-p"
   }
  },
  {
   "cell_type": "markdown",
   "source": "So let's try to explicitly define the criteria for merging by specifying the name of the key column in the ON option.\n",
   "metadata": {
    "tags": [],
    "is_collapsed": false,
    "cell_id": "00018-f840c3e2-0e6c-4406-95c9-c84427d2b85e",
    "deepnote_cell_type": "text-cell-p"
   }
  },
  {
   "cell_type": "code",
   "metadata": {
    "tags": [],
    "cell_id": "00019-6d40114a-de87-47fb-9661-9d5a0ae0457d",
    "deepnote_to_be_reexecuted": false,
    "source_hash": "36237d39",
    "execution_start": 1637296978610,
    "execution_millis": 143,
    "deepnote_output_heights": [
     607
    ],
    "deepnote_cell_type": "code"
   },
   "source": "# merging using id\npd.merge(data1,data2,on='id')",
   "execution_count": 7,
   "outputs": [
    {
     "output_type": "execute_result",
     "execution_count": 7,
     "data": {
      "application/vnd.deepnote.dataframe.v2+json": {
       "row_count": 4,
       "column_count": 4,
       "columns": [
        {
         "name": "id",
         "dtype": "object",
         "stats": {
          "unique_count": 3,
          "nan_count": 0,
          "categories": [
           {
            "name": "pencil",
            "count": 2
           },
           {
            "name": "ball",
            "count": 1
           },
           {
            "name": "pen",
            "count": 1
           }
          ]
         }
        },
        {
         "name": "color",
         "dtype": "object",
         "stats": {
          "unique_count": 2,
          "nan_count": 0,
          "categories": [
           {
            "name": "red",
            "count": 3
           },
           {
            "name": "white",
            "count": 1
           }
          ]
         }
        },
        {
         "name": "brand_x",
         "dtype": "object",
         "stats": {
          "unique_count": 2,
          "nan_count": 0,
          "categories": [
           {
            "name": "ABC",
            "count": 3
           },
           {
            "name": "OMG",
            "count": 1
           }
          ]
         }
        },
        {
         "name": "brand_y",
         "dtype": "object",
         "stats": {
          "unique_count": 3,
          "nan_count": 0,
          "categories": [
           {
            "name": "POD",
            "count": 2
           },
           {
            "name": "ABC",
            "count": 1
           },
           {
            "name": "OMG",
            "count": 1
           }
          ]
         }
        },
        {
         "name": "_deepnote_index_column",
         "dtype": "int64"
        }
       ],
       "rows_top": [
        {
         "id": "ball",
         "color": "white",
         "brand_x": "OMG",
         "brand_y": "ABC",
         "_deepnote_index_column": 0
        },
        {
         "id": "pencil",
         "color": "red",
         "brand_x": "ABC",
         "brand_y": "OMG",
         "_deepnote_index_column": 1
        },
        {
         "id": "pencil",
         "color": "red",
         "brand_x": "ABC",
         "brand_y": "POD",
         "_deepnote_index_column": 2
        },
        {
         "id": "pen",
         "color": "red",
         "brand_x": "ABC",
         "brand_y": "POD",
         "_deepnote_index_column": 3
        }
       ],
       "rows_bottom": null
      },
      "text/plain": "       id  color brand_x brand_y\n0    ball  white     OMG     ABC\n1  pencil    red     ABC     OMG\n2  pencil    red     ABC     POD\n3     pen    red     ABC     POD",
      "text/html": "<div>\n<style scoped>\n    .dataframe tbody tr th:only-of-type {\n        vertical-align: middle;\n    }\n\n    .dataframe tbody tr th {\n        vertical-align: top;\n    }\n\n    .dataframe thead th {\n        text-align: right;\n    }\n</style>\n<table border=\"1\" class=\"dataframe\">\n  <thead>\n    <tr style=\"text-align: right;\">\n      <th></th>\n      <th>id</th>\n      <th>color</th>\n      <th>brand_x</th>\n      <th>brand_y</th>\n    </tr>\n  </thead>\n  <tbody>\n    <tr>\n      <th>0</th>\n      <td>ball</td>\n      <td>white</td>\n      <td>OMG</td>\n      <td>ABC</td>\n    </tr>\n    <tr>\n      <th>1</th>\n      <td>pencil</td>\n      <td>red</td>\n      <td>ABC</td>\n      <td>OMG</td>\n    </tr>\n    <tr>\n      <th>2</th>\n      <td>pencil</td>\n      <td>red</td>\n      <td>ABC</td>\n      <td>POD</td>\n    </tr>\n    <tr>\n      <th>3</th>\n      <td>pen</td>\n      <td>red</td>\n      <td>ABC</td>\n      <td>POD</td>\n    </tr>\n  </tbody>\n</table>\n</div>"
     },
     "metadata": {}
    }
   ]
  },
  {
   "cell_type": "code",
   "metadata": {
    "tags": [],
    "cell_id": "00020-d2249c48-cdc2-499c-a1b5-c3df8c08526e",
    "deepnote_to_be_reexecuted": false,
    "source_hash": "456803c6",
    "execution_start": 1637296978611,
    "execution_millis": 143,
    "deepnote_cell_type": "code"
   },
   "source": "# merging using color\npd.merge(data1, data2, on=\"brand\")",
   "execution_count": 8,
   "outputs": [
    {
     "output_type": "execute_result",
     "execution_count": 8,
     "data": {
      "application/vnd.deepnote.dataframe.v2+json": {
       "row_count": 7,
       "column_count": 4,
       "columns": [
        {
         "name": "id_x",
         "dtype": "object",
         "stats": {
          "unique_count": 5,
          "nan_count": 0,
          "categories": [
           {
            "name": "mug",
            "count": 2
           },
           {
            "name": "ashtray",
            "count": 2
           },
           {
            "name": "3 others",
            "count": 3
           }
          ]
         }
        },
        {
         "name": "color",
         "dtype": "object",
         "stats": {
          "unique_count": 4,
          "nan_count": 0,
          "categories": [
           {
            "name": "red",
            "count": 2
           },
           {
            "name": "black",
            "count": 2
           },
           {
            "name": "2 others",
            "count": 3
           }
          ]
         }
        },
        {
         "name": "brand",
         "dtype": "object",
         "stats": {
          "unique_count": 3,
          "nan_count": 0,
          "categories": [
           {
            "name": "POD",
            "count": 4
           },
           {
            "name": "ABC",
            "count": 2
           },
           {
            "name": "OMG",
            "count": 1
           }
          ]
         }
        },
        {
         "name": "id_y",
         "dtype": "object",
         "stats": {
          "unique_count": 3,
          "nan_count": 0,
          "categories": [
           {
            "name": "pencil",
            "count": 3
           },
           {
            "name": "ball",
            "count": 2
           },
           {
            "name": "pen",
            "count": 2
           }
          ]
         }
        },
        {
         "name": "_deepnote_index_column",
         "dtype": "int64"
        }
       ],
       "rows_top": [
        {
         "id_x": "ball",
         "color": "white",
         "brand": "OMG",
         "id_y": "pencil",
         "_deepnote_index_column": 0
        },
        {
         "id_x": "pencil",
         "color": "red",
         "brand": "ABC",
         "id_y": "ball",
         "_deepnote_index_column": 1
        },
        {
         "id_x": "pen",
         "color": "red",
         "brand": "ABC",
         "id_y": "ball",
         "_deepnote_index_column": 2
        },
        {
         "id_x": "mug",
         "color": "black",
         "brand": "POD",
         "id_y": "pencil",
         "_deepnote_index_column": 3
        },
        {
         "id_x": "mug",
         "color": "black",
         "brand": "POD",
         "id_y": "pen",
         "_deepnote_index_column": 4
        },
        {
         "id_x": "ashtray",
         "color": "green",
         "brand": "POD",
         "id_y": "pencil",
         "_deepnote_index_column": 5
        },
        {
         "id_x": "ashtray",
         "color": "green",
         "brand": "POD",
         "id_y": "pen",
         "_deepnote_index_column": 6
        }
       ],
       "rows_bottom": null
      },
      "text/plain": "      id_x  color brand    id_y\n0     ball  white   OMG  pencil\n1   pencil    red   ABC    ball\n2      pen    red   ABC    ball\n3      mug  black   POD  pencil\n4      mug  black   POD     pen\n5  ashtray  green   POD  pencil\n6  ashtray  green   POD     pen",
      "text/html": "<div>\n<style scoped>\n    .dataframe tbody tr th:only-of-type {\n        vertical-align: middle;\n    }\n\n    .dataframe tbody tr th {\n        vertical-align: top;\n    }\n\n    .dataframe thead th {\n        text-align: right;\n    }\n</style>\n<table border=\"1\" class=\"dataframe\">\n  <thead>\n    <tr style=\"text-align: right;\">\n      <th></th>\n      <th>id_x</th>\n      <th>color</th>\n      <th>brand</th>\n      <th>id_y</th>\n    </tr>\n  </thead>\n  <tbody>\n    <tr>\n      <th>0</th>\n      <td>ball</td>\n      <td>white</td>\n      <td>OMG</td>\n      <td>pencil</td>\n    </tr>\n    <tr>\n      <th>1</th>\n      <td>pencil</td>\n      <td>red</td>\n      <td>ABC</td>\n      <td>ball</td>\n    </tr>\n    <tr>\n      <th>2</th>\n      <td>pen</td>\n      <td>red</td>\n      <td>ABC</td>\n      <td>ball</td>\n    </tr>\n    <tr>\n      <th>3</th>\n      <td>mug</td>\n      <td>black</td>\n      <td>POD</td>\n      <td>pencil</td>\n    </tr>\n    <tr>\n      <th>4</th>\n      <td>mug</td>\n      <td>black</td>\n      <td>POD</td>\n      <td>pen</td>\n    </tr>\n    <tr>\n      <th>5</th>\n      <td>ashtray</td>\n      <td>green</td>\n      <td>POD</td>\n      <td>pencil</td>\n    </tr>\n    <tr>\n      <th>6</th>\n      <td>ashtray</td>\n      <td>green</td>\n      <td>POD</td>\n      <td>pen</td>\n    </tr>\n  </tbody>\n</table>\n</div>"
     },
     "metadata": {}
    }
   ]
  },
  {
   "cell_type": "markdown",
   "source": "As expected, the results above vary considerably depending on the criteria of merging. ",
   "metadata": {
    "tags": [],
    "is_collapsed": false,
    "cell_id": "00021-58cbf661-3c9f-4738-ab44-ee3ea6a63431",
    "deepnote_cell_type": "text-cell-p"
   }
  },
  {
   "cell_type": "markdown",
   "source": "How about a situation where the key columns in the two data frames do not have the same name? What do we do?",
   "metadata": {
    "tags": [],
    "is_collapsed": false,
    "cell_id": "00023-a8740509-9560-4971-bfe6-1c9529ad6b64",
    "deepnote_cell_type": "text-cell-p"
   }
  },
  {
   "cell_type": "markdown",
   "source": "To remedy this situation, we have to use the LEFT_ON and RIGHT_ON options, which specify the key column for the first and for the second data frame. Let’s see an example.\n",
   "metadata": {
    "tags": [],
    "is_collapsed": false,
    "cell_id": "00023-77378dcc-16b3-4cf3-aa34-148b74acad37",
    "deepnote_cell_type": "text-cell-p"
   }
  },
  {
   "cell_type": "markdown",
   "source": "First, Let us change our \"id\" column of our second data frame to \"sid\".",
   "metadata": {
    "tags": [],
    "is_collapsed": false,
    "cell_id": "00024-0d3995fa-a52d-43a4-b3ed-c1516ea523d6",
    "deepnote_cell_type": "text-cell-p"
   }
  },
  {
   "cell_type": "code",
   "metadata": {
    "tags": [],
    "cell_id": "00025-9d603128-0e86-4e25-85a7-ae87dc812ae8",
    "deepnote_to_be_reexecuted": false,
    "source_hash": "7ddfdf67",
    "execution_start": 1637296978722,
    "execution_millis": 37,
    "deepnote_cell_type": "code"
   },
   "source": "# changing id to sid\ndata2 = data2.rename(columns ={'id':'sid'})\ndata2",
   "execution_count": 9,
   "outputs": [
    {
     "output_type": "execute_result",
     "execution_count": 9,
     "data": {
      "application/vnd.deepnote.dataframe.v2+json": {
       "row_count": 4,
       "column_count": 2,
       "columns": [
        {
         "name": "sid",
         "dtype": "object",
         "stats": {
          "unique_count": 3,
          "nan_count": 0,
          "categories": [
           {
            "name": "pencil",
            "count": 2
           },
           {
            "name": "ball",
            "count": 1
           },
           {
            "name": "pen",
            "count": 1
           }
          ]
         }
        },
        {
         "name": "brand",
         "dtype": "object",
         "stats": {
          "unique_count": 3,
          "nan_count": 0,
          "categories": [
           {
            "name": "POD",
            "count": 2
           },
           {
            "name": "OMG",
            "count": 1
           },
           {
            "name": "ABC",
            "count": 1
           }
          ]
         }
        },
        {
         "name": "_deepnote_index_column",
         "dtype": "int64"
        }
       ],
       "rows_top": [
        {
         "sid": "pencil",
         "brand": "OMG",
         "_deepnote_index_column": 0
        },
        {
         "sid": "pencil",
         "brand": "POD",
         "_deepnote_index_column": 1
        },
        {
         "sid": "ball",
         "brand": "ABC",
         "_deepnote_index_column": 2
        },
        {
         "sid": "pen",
         "brand": "POD",
         "_deepnote_index_column": 3
        }
       ],
       "rows_bottom": null
      },
      "text/plain": "      sid brand\n0  pencil   OMG\n1  pencil   POD\n2    ball   ABC\n3     pen   POD",
      "text/html": "<div>\n<style scoped>\n    .dataframe tbody tr th:only-of-type {\n        vertical-align: middle;\n    }\n\n    .dataframe tbody tr th {\n        vertical-align: top;\n    }\n\n    .dataframe thead th {\n        text-align: right;\n    }\n</style>\n<table border=\"1\" class=\"dataframe\">\n  <thead>\n    <tr style=\"text-align: right;\">\n      <th></th>\n      <th>sid</th>\n      <th>brand</th>\n    </tr>\n  </thead>\n  <tbody>\n    <tr>\n      <th>0</th>\n      <td>pencil</td>\n      <td>OMG</td>\n    </tr>\n    <tr>\n      <th>1</th>\n      <td>pencil</td>\n      <td>POD</td>\n    </tr>\n    <tr>\n      <th>2</th>\n      <td>ball</td>\n      <td>ABC</td>\n    </tr>\n    <tr>\n      <th>3</th>\n      <td>pen</td>\n      <td>POD</td>\n    </tr>\n  </tbody>\n</table>\n</div>"
     },
     "metadata": {}
    }
   ]
  },
  {
   "cell_type": "markdown",
   "source": "Now let's merge by using LEFT_ON and RIGHT_ON options.",
   "metadata": {
    "tags": [],
    "is_collapsed": false,
    "cell_id": "00026-4360fcdd-1964-4f30-8340-214d5f3f40da",
    "deepnote_cell_type": "text-cell-p"
   }
  },
  {
   "cell_type": "code",
   "metadata": {
    "tags": [],
    "cell_id": "00027-dd779b25-61b8-4b76-95ac-36d20f6ca234",
    "deepnote_to_be_reexecuted": false,
    "source_hash": "2dae55f2",
    "execution_start": 1637296978762,
    "execution_millis": 4,
    "deepnote_cell_type": "code"
   },
   "source": "pd.merge(data1, data2, left_on='id', right_on='sid')",
   "execution_count": 10,
   "outputs": [
    {
     "output_type": "execute_result",
     "execution_count": 10,
     "data": {
      "application/vnd.deepnote.dataframe.v2+json": {
       "row_count": 4,
       "column_count": 5,
       "columns": [
        {
         "name": "id",
         "dtype": "object",
         "stats": {
          "unique_count": 3,
          "nan_count": 0,
          "categories": [
           {
            "name": "pencil",
            "count": 2
           },
           {
            "name": "ball",
            "count": 1
           },
           {
            "name": "pen",
            "count": 1
           }
          ]
         }
        },
        {
         "name": "color",
         "dtype": "object",
         "stats": {
          "unique_count": 2,
          "nan_count": 0,
          "categories": [
           {
            "name": "red",
            "count": 3
           },
           {
            "name": "white",
            "count": 1
           }
          ]
         }
        },
        {
         "name": "brand_x",
         "dtype": "object",
         "stats": {
          "unique_count": 2,
          "nan_count": 0,
          "categories": [
           {
            "name": "ABC",
            "count": 3
           },
           {
            "name": "OMG",
            "count": 1
           }
          ]
         }
        },
        {
         "name": "sid",
         "dtype": "object",
         "stats": {
          "unique_count": 3,
          "nan_count": 0,
          "categories": [
           {
            "name": "pencil",
            "count": 2
           },
           {
            "name": "ball",
            "count": 1
           },
           {
            "name": "pen",
            "count": 1
           }
          ]
         }
        },
        {
         "name": "brand_y",
         "dtype": "object",
         "stats": {
          "unique_count": 3,
          "nan_count": 0,
          "categories": [
           {
            "name": "POD",
            "count": 2
           },
           {
            "name": "ABC",
            "count": 1
           },
           {
            "name": "OMG",
            "count": 1
           }
          ]
         }
        },
        {
         "name": "_deepnote_index_column",
         "dtype": "int64"
        }
       ],
       "rows_top": [
        {
         "id": "ball",
         "color": "white",
         "brand_x": "OMG",
         "sid": "ball",
         "brand_y": "ABC",
         "_deepnote_index_column": 0
        },
        {
         "id": "pencil",
         "color": "red",
         "brand_x": "ABC",
         "sid": "pencil",
         "brand_y": "OMG",
         "_deepnote_index_column": 1
        },
        {
         "id": "pencil",
         "color": "red",
         "brand_x": "ABC",
         "sid": "pencil",
         "brand_y": "POD",
         "_deepnote_index_column": 2
        },
        {
         "id": "pen",
         "color": "red",
         "brand_x": "ABC",
         "sid": "pen",
         "brand_y": "POD",
         "_deepnote_index_column": 3
        }
       ],
       "rows_bottom": null
      },
      "text/plain": "       id  color brand_x     sid brand_y\n0    ball  white     OMG    ball     ABC\n1  pencil    red     ABC  pencil     OMG\n2  pencil    red     ABC  pencil     POD\n3     pen    red     ABC     pen     POD",
      "text/html": "<div>\n<style scoped>\n    .dataframe tbody tr th:only-of-type {\n        vertical-align: middle;\n    }\n\n    .dataframe tbody tr th {\n        vertical-align: top;\n    }\n\n    .dataframe thead th {\n        text-align: right;\n    }\n</style>\n<table border=\"1\" class=\"dataframe\">\n  <thead>\n    <tr style=\"text-align: right;\">\n      <th></th>\n      <th>id</th>\n      <th>color</th>\n      <th>brand_x</th>\n      <th>sid</th>\n      <th>brand_y</th>\n    </tr>\n  </thead>\n  <tbody>\n    <tr>\n      <th>0</th>\n      <td>ball</td>\n      <td>white</td>\n      <td>OMG</td>\n      <td>ball</td>\n      <td>ABC</td>\n    </tr>\n    <tr>\n      <th>1</th>\n      <td>pencil</td>\n      <td>red</td>\n      <td>ABC</td>\n      <td>pencil</td>\n      <td>OMG</td>\n    </tr>\n    <tr>\n      <th>2</th>\n      <td>pencil</td>\n      <td>red</td>\n      <td>ABC</td>\n      <td>pencil</td>\n      <td>POD</td>\n    </tr>\n    <tr>\n      <th>3</th>\n      <td>pen</td>\n      <td>red</td>\n      <td>ABC</td>\n      <td>pen</td>\n      <td>POD</td>\n    </tr>\n  </tbody>\n</table>\n</div>"
     },
     "metadata": {}
    }
   ]
  },
  {
   "cell_type": "markdown",
   "source": "By default, the merge() function performs an inner join; the keys in the result are the result of an intersection.",
   "metadata": {
    "tags": [],
    "is_collapsed": false,
    "cell_id": "00029-d95b6968-6243-43c3-8739-8c724b68f0dc",
    "deepnote_cell_type": "text-cell-p"
   }
  },
  {
   "cell_type": "markdown",
   "source": "Other possible options are the left join, the right join, and the outer join. The outer join produces the union of all keys, combining the effect of a left join with a right join. To select the type of join you have to use the HOW option.\nLet's do that with examples\n",
   "metadata": {
    "tags": [],
    "is_collapsed": false,
    "cell_id": "00030-180fc8a8-95fe-472f-87ff-8707bd7cccaa",
    "deepnote_cell_type": "text-cell-p"
   }
  },
  {
   "cell_type": "markdown",
   "source": "Lets rename our \"id\" column back to its original name.",
   "metadata": {
    "tags": [],
    "is_collapsed": false,
    "cell_id": "00031-e5eec5a5-b4c8-4527-9ef3-3068998b8524",
    "deepnote_cell_type": "text-cell-p"
   }
  },
  {
   "cell_type": "code",
   "metadata": {
    "tags": [],
    "cell_id": "00032-32b38e24-0df2-45b1-be3a-4bc0798d4726",
    "deepnote_to_be_reexecuted": false,
    "source_hash": "9ce01ad1",
    "execution_start": 1637296978763,
    "execution_millis": 6,
    "deepnote_cell_type": "code"
   },
   "source": "# changing id to sid\ndata2 = data2.rename(columns ={'sid':'id'})\ndata2",
   "execution_count": 11,
   "outputs": [
    {
     "output_type": "execute_result",
     "execution_count": 11,
     "data": {
      "application/vnd.deepnote.dataframe.v2+json": {
       "row_count": 4,
       "column_count": 2,
       "columns": [
        {
         "name": "id",
         "dtype": "object",
         "stats": {
          "unique_count": 3,
          "nan_count": 0,
          "categories": [
           {
            "name": "pencil",
            "count": 2
           },
           {
            "name": "ball",
            "count": 1
           },
           {
            "name": "pen",
            "count": 1
           }
          ]
         }
        },
        {
         "name": "brand",
         "dtype": "object",
         "stats": {
          "unique_count": 3,
          "nan_count": 0,
          "categories": [
           {
            "name": "POD",
            "count": 2
           },
           {
            "name": "OMG",
            "count": 1
           },
           {
            "name": "ABC",
            "count": 1
           }
          ]
         }
        },
        {
         "name": "_deepnote_index_column",
         "dtype": "int64"
        }
       ],
       "rows_top": [
        {
         "id": "pencil",
         "brand": "OMG",
         "_deepnote_index_column": 0
        },
        {
         "id": "pencil",
         "brand": "POD",
         "_deepnote_index_column": 1
        },
        {
         "id": "ball",
         "brand": "ABC",
         "_deepnote_index_column": 2
        },
        {
         "id": "pen",
         "brand": "POD",
         "_deepnote_index_column": 3
        }
       ],
       "rows_bottom": null
      },
      "text/plain": "       id brand\n0  pencil   OMG\n1  pencil   POD\n2    ball   ABC\n3     pen   POD",
      "text/html": "<div>\n<style scoped>\n    .dataframe tbody tr th:only-of-type {\n        vertical-align: middle;\n    }\n\n    .dataframe tbody tr th {\n        vertical-align: top;\n    }\n\n    .dataframe thead th {\n        text-align: right;\n    }\n</style>\n<table border=\"1\" class=\"dataframe\">\n  <thead>\n    <tr style=\"text-align: right;\">\n      <th></th>\n      <th>id</th>\n      <th>brand</th>\n    </tr>\n  </thead>\n  <tbody>\n    <tr>\n      <th>0</th>\n      <td>pencil</td>\n      <td>OMG</td>\n    </tr>\n    <tr>\n      <th>1</th>\n      <td>pencil</td>\n      <td>POD</td>\n    </tr>\n    <tr>\n      <th>2</th>\n      <td>ball</td>\n      <td>ABC</td>\n    </tr>\n    <tr>\n      <th>3</th>\n      <td>pen</td>\n      <td>POD</td>\n    </tr>\n  </tbody>\n</table>\n</div>"
     },
     "metadata": {}
    }
   ]
  },
  {
   "cell_type": "code",
   "metadata": {
    "tags": [],
    "cell_id": "00033-56f927af-e51e-4a39-8485-09f29ed7ff29",
    "deepnote_to_be_reexecuted": false,
    "source_hash": "2befb353",
    "execution_start": 1637296978826,
    "execution_millis": 2,
    "deepnote_cell_type": "code"
   },
   "source": "# performing the outer merging\npd.merge(data1,data2,on='id',how='outer')",
   "execution_count": 12,
   "outputs": [
    {
     "output_type": "execute_result",
     "execution_count": 12,
     "data": {
      "application/vnd.deepnote.dataframe.v2+json": {
       "row_count": 6,
       "column_count": 4,
       "columns": [
        {
         "name": "id",
         "dtype": "object",
         "stats": {
          "unique_count": 5,
          "nan_count": 0,
          "categories": [
           {
            "name": "pencil",
            "count": 2
           },
           {
            "name": "ball",
            "count": 1
           },
           {
            "name": "3 others",
            "count": 3
           }
          ]
         }
        },
        {
         "name": "color",
         "dtype": "object",
         "stats": {
          "unique_count": 4,
          "nan_count": 0,
          "categories": [
           {
            "name": "red",
            "count": 3
           },
           {
            "name": "white",
            "count": 1
           },
           {
            "name": "2 others",
            "count": 2
           }
          ]
         }
        },
        {
         "name": "brand_x",
         "dtype": "object",
         "stats": {
          "unique_count": 3,
          "nan_count": 0,
          "categories": [
           {
            "name": "ABC",
            "count": 3
           },
           {
            "name": "POD",
            "count": 2
           },
           {
            "name": "OMG",
            "count": 1
           }
          ]
         }
        },
        {
         "name": "brand_y",
         "dtype": "object",
         "stats": {
          "unique_count": 3,
          "nan_count": 2,
          "categories": [
           {
            "name": "POD",
            "count": 2
           },
           {
            "name": "2 others",
            "count": 2
           },
           {
            "name": "Missing",
            "count": 2
           }
          ]
         }
        },
        {
         "name": "_deepnote_index_column",
         "dtype": "int64"
        }
       ],
       "rows_top": [
        {
         "id": "ball",
         "color": "white",
         "brand_x": "OMG",
         "brand_y": "ABC",
         "_deepnote_index_column": 0
        },
        {
         "id": "pencil",
         "color": "red",
         "brand_x": "ABC",
         "brand_y": "OMG",
         "_deepnote_index_column": 1
        },
        {
         "id": "pencil",
         "color": "red",
         "brand_x": "ABC",
         "brand_y": "POD",
         "_deepnote_index_column": 2
        },
        {
         "id": "pen",
         "color": "red",
         "brand_x": "ABC",
         "brand_y": "POD",
         "_deepnote_index_column": 3
        },
        {
         "id": "mug",
         "color": "black",
         "brand_x": "POD",
         "brand_y": "nan",
         "_deepnote_index_column": 4
        },
        {
         "id": "ashtray",
         "color": "green",
         "brand_x": "POD",
         "brand_y": "nan",
         "_deepnote_index_column": 5
        }
       ],
       "rows_bottom": null
      },
      "text/plain": "        id  color brand_x brand_y\n0     ball  white     OMG     ABC\n1   pencil    red     ABC     OMG\n2   pencil    red     ABC     POD\n3      pen    red     ABC     POD\n4      mug  black     POD     NaN\n5  ashtray  green     POD     NaN",
      "text/html": "<div>\n<style scoped>\n    .dataframe tbody tr th:only-of-type {\n        vertical-align: middle;\n    }\n\n    .dataframe tbody tr th {\n        vertical-align: top;\n    }\n\n    .dataframe thead th {\n        text-align: right;\n    }\n</style>\n<table border=\"1\" class=\"dataframe\">\n  <thead>\n    <tr style=\"text-align: right;\">\n      <th></th>\n      <th>id</th>\n      <th>color</th>\n      <th>brand_x</th>\n      <th>brand_y</th>\n    </tr>\n  </thead>\n  <tbody>\n    <tr>\n      <th>0</th>\n      <td>ball</td>\n      <td>white</td>\n      <td>OMG</td>\n      <td>ABC</td>\n    </tr>\n    <tr>\n      <th>1</th>\n      <td>pencil</td>\n      <td>red</td>\n      <td>ABC</td>\n      <td>OMG</td>\n    </tr>\n    <tr>\n      <th>2</th>\n      <td>pencil</td>\n      <td>red</td>\n      <td>ABC</td>\n      <td>POD</td>\n    </tr>\n    <tr>\n      <th>3</th>\n      <td>pen</td>\n      <td>red</td>\n      <td>ABC</td>\n      <td>POD</td>\n    </tr>\n    <tr>\n      <th>4</th>\n      <td>mug</td>\n      <td>black</td>\n      <td>POD</td>\n      <td>NaN</td>\n    </tr>\n    <tr>\n      <th>5</th>\n      <td>ashtray</td>\n      <td>green</td>\n      <td>POD</td>\n      <td>NaN</td>\n    </tr>\n  </tbody>\n</table>\n</div>"
     },
     "metadata": {}
    }
   ]
  },
  {
   "cell_type": "code",
   "metadata": {
    "tags": [],
    "cell_id": "00034-e6b4723d-32d5-4d28-bd4a-b53d4bb20e12",
    "deepnote_to_be_reexecuted": false,
    "source_hash": "931130fd",
    "execution_start": 1637296978871,
    "execution_millis": 2,
    "deepnote_cell_type": "code"
   },
   "source": "# performing the left merging\npd.merge(data1,data2,on='id',how='left')\n",
   "execution_count": 13,
   "outputs": [
    {
     "output_type": "execute_result",
     "execution_count": 13,
     "data": {
      "application/vnd.deepnote.dataframe.v2+json": {
       "row_count": 6,
       "column_count": 4,
       "columns": [
        {
         "name": "id",
         "dtype": "object",
         "stats": {
          "unique_count": 5,
          "nan_count": 0,
          "categories": [
           {
            "name": "pencil",
            "count": 2
           },
           {
            "name": "ball",
            "count": 1
           },
           {
            "name": "3 others",
            "count": 3
           }
          ]
         }
        },
        {
         "name": "color",
         "dtype": "object",
         "stats": {
          "unique_count": 4,
          "nan_count": 0,
          "categories": [
           {
            "name": "red",
            "count": 3
           },
           {
            "name": "white",
            "count": 1
           },
           {
            "name": "2 others",
            "count": 2
           }
          ]
         }
        },
        {
         "name": "brand_x",
         "dtype": "object",
         "stats": {
          "unique_count": 3,
          "nan_count": 0,
          "categories": [
           {
            "name": "ABC",
            "count": 3
           },
           {
            "name": "POD",
            "count": 2
           },
           {
            "name": "OMG",
            "count": 1
           }
          ]
         }
        },
        {
         "name": "brand_y",
         "dtype": "object",
         "stats": {
          "unique_count": 3,
          "nan_count": 2,
          "categories": [
           {
            "name": "POD",
            "count": 2
           },
           {
            "name": "2 others",
            "count": 2
           },
           {
            "name": "Missing",
            "count": 2
           }
          ]
         }
        },
        {
         "name": "_deepnote_index_column",
         "dtype": "int64"
        }
       ],
       "rows_top": [
        {
         "id": "ball",
         "color": "white",
         "brand_x": "OMG",
         "brand_y": "ABC",
         "_deepnote_index_column": 0
        },
        {
         "id": "pencil",
         "color": "red",
         "brand_x": "ABC",
         "brand_y": "OMG",
         "_deepnote_index_column": 1
        },
        {
         "id": "pencil",
         "color": "red",
         "brand_x": "ABC",
         "brand_y": "POD",
         "_deepnote_index_column": 2
        },
        {
         "id": "pen",
         "color": "red",
         "brand_x": "ABC",
         "brand_y": "POD",
         "_deepnote_index_column": 3
        },
        {
         "id": "mug",
         "color": "black",
         "brand_x": "POD",
         "brand_y": "nan",
         "_deepnote_index_column": 4
        },
        {
         "id": "ashtray",
         "color": "green",
         "brand_x": "POD",
         "brand_y": "nan",
         "_deepnote_index_column": 5
        }
       ],
       "rows_bottom": null
      },
      "text/plain": "        id  color brand_x brand_y\n0     ball  white     OMG     ABC\n1   pencil    red     ABC     OMG\n2   pencil    red     ABC     POD\n3      pen    red     ABC     POD\n4      mug  black     POD     NaN\n5  ashtray  green     POD     NaN",
      "text/html": "<div>\n<style scoped>\n    .dataframe tbody tr th:only-of-type {\n        vertical-align: middle;\n    }\n\n    .dataframe tbody tr th {\n        vertical-align: top;\n    }\n\n    .dataframe thead th {\n        text-align: right;\n    }\n</style>\n<table border=\"1\" class=\"dataframe\">\n  <thead>\n    <tr style=\"text-align: right;\">\n      <th></th>\n      <th>id</th>\n      <th>color</th>\n      <th>brand_x</th>\n      <th>brand_y</th>\n    </tr>\n  </thead>\n  <tbody>\n    <tr>\n      <th>0</th>\n      <td>ball</td>\n      <td>white</td>\n      <td>OMG</td>\n      <td>ABC</td>\n    </tr>\n    <tr>\n      <th>1</th>\n      <td>pencil</td>\n      <td>red</td>\n      <td>ABC</td>\n      <td>OMG</td>\n    </tr>\n    <tr>\n      <th>2</th>\n      <td>pencil</td>\n      <td>red</td>\n      <td>ABC</td>\n      <td>POD</td>\n    </tr>\n    <tr>\n      <th>3</th>\n      <td>pen</td>\n      <td>red</td>\n      <td>ABC</td>\n      <td>POD</td>\n    </tr>\n    <tr>\n      <th>4</th>\n      <td>mug</td>\n      <td>black</td>\n      <td>POD</td>\n      <td>NaN</td>\n    </tr>\n    <tr>\n      <th>5</th>\n      <td>ashtray</td>\n      <td>green</td>\n      <td>POD</td>\n      <td>NaN</td>\n    </tr>\n  </tbody>\n</table>\n</div>"
     },
     "metadata": {}
    }
   ]
  },
  {
   "cell_type": "code",
   "metadata": {
    "tags": [],
    "cell_id": "00035-21fb91eb-ce92-4204-bbb8-fd2b6a52d732",
    "deepnote_to_be_reexecuted": false,
    "source_hash": "e33216a",
    "execution_start": 1637296978872,
    "execution_millis": 44,
    "deepnote_cell_type": "code"
   },
   "source": "# performing right merging\npd.merge(data1,data2,on='id',how='right')",
   "execution_count": 14,
   "outputs": [
    {
     "output_type": "execute_result",
     "execution_count": 14,
     "data": {
      "application/vnd.deepnote.dataframe.v2+json": {
       "row_count": 4,
       "column_count": 4,
       "columns": [
        {
         "name": "id",
         "dtype": "object",
         "stats": {
          "unique_count": 3,
          "nan_count": 0,
          "categories": [
           {
            "name": "pencil",
            "count": 2
           },
           {
            "name": "ball",
            "count": 1
           },
           {
            "name": "pen",
            "count": 1
           }
          ]
         }
        },
        {
         "name": "color",
         "dtype": "object",
         "stats": {
          "unique_count": 2,
          "nan_count": 0,
          "categories": [
           {
            "name": "red",
            "count": 3
           },
           {
            "name": "white",
            "count": 1
           }
          ]
         }
        },
        {
         "name": "brand_x",
         "dtype": "object",
         "stats": {
          "unique_count": 2,
          "nan_count": 0,
          "categories": [
           {
            "name": "ABC",
            "count": 3
           },
           {
            "name": "OMG",
            "count": 1
           }
          ]
         }
        },
        {
         "name": "brand_y",
         "dtype": "object",
         "stats": {
          "unique_count": 3,
          "nan_count": 0,
          "categories": [
           {
            "name": "POD",
            "count": 2
           },
           {
            "name": "OMG",
            "count": 1
           },
           {
            "name": "ABC",
            "count": 1
           }
          ]
         }
        },
        {
         "name": "_deepnote_index_column",
         "dtype": "int64"
        }
       ],
       "rows_top": [
        {
         "id": "pencil",
         "color": "red",
         "brand_x": "ABC",
         "brand_y": "OMG",
         "_deepnote_index_column": 0
        },
        {
         "id": "pencil",
         "color": "red",
         "brand_x": "ABC",
         "brand_y": "POD",
         "_deepnote_index_column": 1
        },
        {
         "id": "ball",
         "color": "white",
         "brand_x": "OMG",
         "brand_y": "ABC",
         "_deepnote_index_column": 2
        },
        {
         "id": "pen",
         "color": "red",
         "brand_x": "ABC",
         "brand_y": "POD",
         "_deepnote_index_column": 3
        }
       ],
       "rows_bottom": null
      },
      "text/plain": "       id  color brand_x brand_y\n0  pencil    red     ABC     OMG\n1  pencil    red     ABC     POD\n2    ball  white     OMG     ABC\n3     pen    red     ABC     POD",
      "text/html": "<div>\n<style scoped>\n    .dataframe tbody tr th:only-of-type {\n        vertical-align: middle;\n    }\n\n    .dataframe tbody tr th {\n        vertical-align: top;\n    }\n\n    .dataframe thead th {\n        text-align: right;\n    }\n</style>\n<table border=\"1\" class=\"dataframe\">\n  <thead>\n    <tr style=\"text-align: right;\">\n      <th></th>\n      <th>id</th>\n      <th>color</th>\n      <th>brand_x</th>\n      <th>brand_y</th>\n    </tr>\n  </thead>\n  <tbody>\n    <tr>\n      <th>0</th>\n      <td>pencil</td>\n      <td>red</td>\n      <td>ABC</td>\n      <td>OMG</td>\n    </tr>\n    <tr>\n      <th>1</th>\n      <td>pencil</td>\n      <td>red</td>\n      <td>ABC</td>\n      <td>POD</td>\n    </tr>\n    <tr>\n      <th>2</th>\n      <td>ball</td>\n      <td>white</td>\n      <td>OMG</td>\n      <td>ABC</td>\n    </tr>\n    <tr>\n      <th>3</th>\n      <td>pen</td>\n      <td>red</td>\n      <td>ABC</td>\n      <td>POD</td>\n    </tr>\n  </tbody>\n</table>\n</div>"
     },
     "metadata": {}
    }
   ]
  },
  {
   "cell_type": "code",
   "metadata": {
    "tags": [],
    "cell_id": "00036-857eea0f-9ec9-43c7-9ad3-af5834307b99",
    "deepnote_to_be_reexecuted": false,
    "source_hash": "34e84997",
    "execution_start": 1637296978921,
    "execution_millis": 9,
    "deepnote_cell_type": "code"
   },
   "source": "# performing inner merging which is the default merging\n# the inner phrase may or may not be included\npd.merge(data1,data2,on='id',how='inner')",
   "execution_count": 15,
   "outputs": [
    {
     "output_type": "execute_result",
     "execution_count": 15,
     "data": {
      "application/vnd.deepnote.dataframe.v2+json": {
       "row_count": 4,
       "column_count": 4,
       "columns": [
        {
         "name": "id",
         "dtype": "object",
         "stats": {
          "unique_count": 3,
          "nan_count": 0,
          "categories": [
           {
            "name": "pencil",
            "count": 2
           },
           {
            "name": "ball",
            "count": 1
           },
           {
            "name": "pen",
            "count": 1
           }
          ]
         }
        },
        {
         "name": "color",
         "dtype": "object",
         "stats": {
          "unique_count": 2,
          "nan_count": 0,
          "categories": [
           {
            "name": "red",
            "count": 3
           },
           {
            "name": "white",
            "count": 1
           }
          ]
         }
        },
        {
         "name": "brand_x",
         "dtype": "object",
         "stats": {
          "unique_count": 2,
          "nan_count": 0,
          "categories": [
           {
            "name": "ABC",
            "count": 3
           },
           {
            "name": "OMG",
            "count": 1
           }
          ]
         }
        },
        {
         "name": "brand_y",
         "dtype": "object",
         "stats": {
          "unique_count": 3,
          "nan_count": 0,
          "categories": [
           {
            "name": "POD",
            "count": 2
           },
           {
            "name": "ABC",
            "count": 1
           },
           {
            "name": "OMG",
            "count": 1
           }
          ]
         }
        },
        {
         "name": "_deepnote_index_column",
         "dtype": "int64"
        }
       ],
       "rows_top": [
        {
         "id": "ball",
         "color": "white",
         "brand_x": "OMG",
         "brand_y": "ABC",
         "_deepnote_index_column": 0
        },
        {
         "id": "pencil",
         "color": "red",
         "brand_x": "ABC",
         "brand_y": "OMG",
         "_deepnote_index_column": 1
        },
        {
         "id": "pencil",
         "color": "red",
         "brand_x": "ABC",
         "brand_y": "POD",
         "_deepnote_index_column": 2
        },
        {
         "id": "pen",
         "color": "red",
         "brand_x": "ABC",
         "brand_y": "POD",
         "_deepnote_index_column": 3
        }
       ],
       "rows_bottom": null
      },
      "text/plain": "       id  color brand_x brand_y\n0    ball  white     OMG     ABC\n1  pencil    red     ABC     OMG\n2  pencil    red     ABC     POD\n3     pen    red     ABC     POD",
      "text/html": "<div>\n<style scoped>\n    .dataframe tbody tr th:only-of-type {\n        vertical-align: middle;\n    }\n\n    .dataframe tbody tr th {\n        vertical-align: top;\n    }\n\n    .dataframe thead th {\n        text-align: right;\n    }\n</style>\n<table border=\"1\" class=\"dataframe\">\n  <thead>\n    <tr style=\"text-align: right;\">\n      <th></th>\n      <th>id</th>\n      <th>color</th>\n      <th>brand_x</th>\n      <th>brand_y</th>\n    </tr>\n  </thead>\n  <tbody>\n    <tr>\n      <th>0</th>\n      <td>ball</td>\n      <td>white</td>\n      <td>OMG</td>\n      <td>ABC</td>\n    </tr>\n    <tr>\n      <th>1</th>\n      <td>pencil</td>\n      <td>red</td>\n      <td>ABC</td>\n      <td>OMG</td>\n    </tr>\n    <tr>\n      <th>2</th>\n      <td>pencil</td>\n      <td>red</td>\n      <td>ABC</td>\n      <td>POD</td>\n    </tr>\n    <tr>\n      <th>3</th>\n      <td>pen</td>\n      <td>red</td>\n      <td>ABC</td>\n      <td>POD</td>\n    </tr>\n  </tbody>\n</table>\n</div>"
     },
     "metadata": {}
    }
   ]
  },
  {
   "cell_type": "markdown",
   "source": "we may also merge on  multiple columns, you simply add a list to the ON option.\n",
   "metadata": {
    "tags": [],
    "is_collapsed": false,
    "cell_id": "00037-5ec3be4a-5aa5-43cc-a9ca-5a4bbdd189e4",
    "deepnote_cell_type": "text-cell-p"
   }
  },
  {
   "cell_type": "code",
   "metadata": {
    "tags": [],
    "cell_id": "00037-ae07403d-5616-4a5f-ae20-a770096781b2",
    "deepnote_to_be_reexecuted": false,
    "source_hash": "3253c483",
    "execution_start": 1637296978992,
    "execution_millis": 2,
    "deepnote_cell_type": "code"
   },
   "source": "pd.merge(data1,data2,on=['id','brand'],how='outer')",
   "execution_count": 16,
   "outputs": [
    {
     "output_type": "execute_result",
     "execution_count": 16,
     "data": {
      "application/vnd.deepnote.dataframe.v2+json": {
       "row_count": 9,
       "column_count": 3,
       "columns": [
        {
         "name": "id",
         "dtype": "object",
         "stats": {
          "unique_count": 5,
          "nan_count": 0,
          "categories": [
           {
            "name": "pencil",
            "count": 3
           },
           {
            "name": "ball",
            "count": 2
           },
           {
            "name": "3 others",
            "count": 4
           }
          ]
         }
        },
        {
         "name": "color",
         "dtype": "object",
         "stats": {
          "unique_count": 4,
          "nan_count": 4,
          "categories": [
           {
            "name": "red",
            "count": 2
           },
           {
            "name": "3 others",
            "count": 3
           },
           {
            "name": "Missing",
            "count": 4
           }
          ]
         }
        },
        {
         "name": "brand",
         "dtype": "object",
         "stats": {
          "unique_count": 3,
          "nan_count": 0,
          "categories": [
           {
            "name": "POD",
            "count": 4
           },
           {
            "name": "ABC",
            "count": 3
           },
           {
            "name": "OMG",
            "count": 2
           }
          ]
         }
        },
        {
         "name": "_deepnote_index_column",
         "dtype": "int64"
        }
       ],
       "rows_top": [
        {
         "id": "ball",
         "color": "white",
         "brand": "OMG",
         "_deepnote_index_column": 0
        },
        {
         "id": "pencil",
         "color": "red",
         "brand": "ABC",
         "_deepnote_index_column": 1
        },
        {
         "id": "pen",
         "color": "red",
         "brand": "ABC",
         "_deepnote_index_column": 2
        },
        {
         "id": "mug",
         "color": "black",
         "brand": "POD",
         "_deepnote_index_column": 3
        },
        {
         "id": "ashtray",
         "color": "green",
         "brand": "POD",
         "_deepnote_index_column": 4
        },
        {
         "id": "pencil",
         "color": "nan",
         "brand": "OMG",
         "_deepnote_index_column": 5
        },
        {
         "id": "pencil",
         "color": "nan",
         "brand": "POD",
         "_deepnote_index_column": 6
        },
        {
         "id": "ball",
         "color": "nan",
         "brand": "ABC",
         "_deepnote_index_column": 7
        },
        {
         "id": "pen",
         "color": "nan",
         "brand": "POD",
         "_deepnote_index_column": 8
        }
       ],
       "rows_bottom": null
      },
      "text/plain": "        id  color brand\n0     ball  white   OMG\n1   pencil    red   ABC\n2      pen    red   ABC\n3      mug  black   POD\n4  ashtray  green   POD\n5   pencil    NaN   OMG\n6   pencil    NaN   POD\n7     ball    NaN   ABC\n8      pen    NaN   POD",
      "text/html": "<div>\n<style scoped>\n    .dataframe tbody tr th:only-of-type {\n        vertical-align: middle;\n    }\n\n    .dataframe tbody tr th {\n        vertical-align: top;\n    }\n\n    .dataframe thead th {\n        text-align: right;\n    }\n</style>\n<table border=\"1\" class=\"dataframe\">\n  <thead>\n    <tr style=\"text-align: right;\">\n      <th></th>\n      <th>id</th>\n      <th>color</th>\n      <th>brand</th>\n    </tr>\n  </thead>\n  <tbody>\n    <tr>\n      <th>0</th>\n      <td>ball</td>\n      <td>white</td>\n      <td>OMG</td>\n    </tr>\n    <tr>\n      <th>1</th>\n      <td>pencil</td>\n      <td>red</td>\n      <td>ABC</td>\n    </tr>\n    <tr>\n      <th>2</th>\n      <td>pen</td>\n      <td>red</td>\n      <td>ABC</td>\n    </tr>\n    <tr>\n      <th>3</th>\n      <td>mug</td>\n      <td>black</td>\n      <td>POD</td>\n    </tr>\n    <tr>\n      <th>4</th>\n      <td>ashtray</td>\n      <td>green</td>\n      <td>POD</td>\n    </tr>\n    <tr>\n      <th>5</th>\n      <td>pencil</td>\n      <td>NaN</td>\n      <td>OMG</td>\n    </tr>\n    <tr>\n      <th>6</th>\n      <td>pencil</td>\n      <td>NaN</td>\n      <td>POD</td>\n    </tr>\n    <tr>\n      <th>7</th>\n      <td>ball</td>\n      <td>NaN</td>\n      <td>ABC</td>\n    </tr>\n    <tr>\n      <th>8</th>\n      <td>pen</td>\n      <td>NaN</td>\n      <td>POD</td>\n    </tr>\n  </tbody>\n</table>\n</div>"
     },
     "metadata": {}
    }
   ]
  },
  {
   "cell_type": "markdown",
   "source": "## 2. Mapping",
   "metadata": {
    "tags": [],
    "is_collapsed": false,
    "cell_id": "00039-dfc5ea2a-1179-412d-822e-46926254a3c8",
    "deepnote_cell_type": "text-cell-h2"
   }
  },
  {
   "cell_type": "markdown",
   "source": "Mapping is nothing more than the creation of a list of matches between two different values, with the ability to bind a value to a particular label or string. To define mapping there is no better object than dictionary objects.",
   "metadata": {
    "tags": [],
    "is_collapsed": false,
    "cell_id": "00040-81f40255-b88a-4962-aad8-b7b0fcfbf476",
    "deepnote_cell_type": "text-cell-p"
   }
  },
  {
   "cell_type": "markdown",
   "source": "map = {'label1' : 'value1, 'label2': 'value2,}\n",
   "metadata": {
    "tags": [],
    "is_collapsed": false,
    "cell_id": "00041-938c1120-4bc9-4d8f-af68-e177b41d5050",
    "deepnote_cell_type": "text-cell-p"
   }
  },
  {
   "cell_type": "markdown",
   "source": "The functions that are used for mapping perform specific operations, and they all accept a dictionary object.  These are\n",
   "metadata": {
    "tags": [],
    "is_collapsed": false,
    "cell_id": "00042-149dc6b6-86ab-412e-ac70-7afe189eaa09",
    "deepnote_cell_type": "text-cell-p"
   }
  },
  {
   "cell_type": "markdown",
   "source": "• replace(): The replace () is used to replaces values\n• map(): This is&nbsp; used to creates new column\n• rename(): This replaces the index values\n",
   "metadata": {
    "tags": [],
    "is_collapsed": false,
    "cell_id": "00042-f3b94019-9e96-46d1-ae57-09fdb81cafe6",
    "deepnote_cell_type": "text-cell-p"
   }
  },
  {
   "cell_type": "markdown",
   "source": "### a. Replacing Values via Mapping\n",
   "metadata": {
    "tags": [],
    "is_collapsed": false,
    "cell_id": "00044-66f73de9-92be-4e1c-902d-61a462b8ad1b",
    "deepnote_cell_type": "text-cell-h3"
   }
  },
  {
   "cell_type": "markdown",
   "source": "Data structure values may sometimes not meet the specific requirement or may contain the wrong value.&nbsp;  In such cases, a replacement operation of various values using the replace() function is often a necessary process. \n",
   "metadata": {
    "tags": [],
    "is_collapsed": false,
    "cell_id": "00045-29293c33-0ee1-4f5a-80e7-32cb059bf56b",
    "deepnote_cell_type": "text-cell-p"
   }
  },
  {
   "cell_type": "markdown",
   "source": "For example, lets us define a data frame containing various colors and object and we try replacing them",
   "metadata": {
    "tags": [],
    "is_collapsed": false,
    "cell_id": "00046-5db6cd4e-4d85-49b0-bee6-7edbb2eda614",
    "deepnote_cell_type": "text-cell-p"
   }
  },
  {
   "cell_type": "code",
   "source": "# first we create  data frame\nitems = pd.DataFrame({ 'item':['ball','mug','pen','pencil','ashtray'],\n                 'color':['white','rosso','verde','black','yellow'],})\nitems",
   "metadata": {
    "tags": [],
    "cell_id": "00047-8c98c40d-63d8-4bc0-8e2d-93509b6db2c1",
    "deepnote_to_be_reexecuted": false,
    "source_hash": "7432ccb7",
    "execution_start": 1637296978993,
    "execution_millis": 3,
    "deepnote_cell_type": "code"
   },
   "outputs": [
    {
     "output_type": "execute_result",
     "execution_count": 17,
     "data": {
      "application/vnd.deepnote.dataframe.v2+json": {
       "row_count": 5,
       "column_count": 2,
       "columns": [
        {
         "name": "item",
         "dtype": "object",
         "stats": {
          "unique_count": 5,
          "nan_count": 0,
          "categories": [
           {
            "name": "ball",
            "count": 1
           },
           {
            "name": "mug",
            "count": 1
           },
           {
            "name": "3 others",
            "count": 3
           }
          ]
         }
        },
        {
         "name": "color",
         "dtype": "object",
         "stats": {
          "unique_count": 5,
          "nan_count": 0,
          "categories": [
           {
            "name": "white",
            "count": 1
           },
           {
            "name": "rosso",
            "count": 1
           },
           {
            "name": "3 others",
            "count": 3
           }
          ]
         }
        },
        {
         "name": "_deepnote_index_column",
         "dtype": "int64"
        }
       ],
       "rows_top": [
        {
         "item": "ball",
         "color": "white",
         "_deepnote_index_column": 0
        },
        {
         "item": "mug",
         "color": "rosso",
         "_deepnote_index_column": 1
        },
        {
         "item": "pen",
         "color": "verde",
         "_deepnote_index_column": 2
        },
        {
         "item": "pencil",
         "color": "black",
         "_deepnote_index_column": 3
        },
        {
         "item": "ashtray",
         "color": "yellow",
         "_deepnote_index_column": 4
        }
       ],
       "rows_bottom": null
      },
      "text/plain": "      item   color\n0     ball   white\n1      mug   rosso\n2      pen   verde\n3   pencil   black\n4  ashtray  yellow",
      "text/html": "<div>\n<style scoped>\n    .dataframe tbody tr th:only-of-type {\n        vertical-align: middle;\n    }\n\n    .dataframe tbody tr th {\n        vertical-align: top;\n    }\n\n    .dataframe thead th {\n        text-align: right;\n    }\n</style>\n<table border=\"1\" class=\"dataframe\">\n  <thead>\n    <tr style=\"text-align: right;\">\n      <th></th>\n      <th>item</th>\n      <th>color</th>\n    </tr>\n  </thead>\n  <tbody>\n    <tr>\n      <th>0</th>\n      <td>ball</td>\n      <td>white</td>\n    </tr>\n    <tr>\n      <th>1</th>\n      <td>mug</td>\n      <td>rosso</td>\n    </tr>\n    <tr>\n      <th>2</th>\n      <td>pen</td>\n      <td>verde</td>\n    </tr>\n    <tr>\n      <th>3</th>\n      <td>pencil</td>\n      <td>black</td>\n    </tr>\n    <tr>\n      <th>4</th>\n      <td>ashtray</td>\n      <td>yellow</td>\n    </tr>\n  </tbody>\n</table>\n</div>"
     },
     "metadata": {}
    }
   ],
   "execution_count": 17
  },
  {
   "cell_type": "markdown",
   "source": "To be able to replace the incorrect values with new values, it is necessary to define a mapping of correspondences, containing as a key the new values.",
   "metadata": {
    "tags": [],
    "is_collapsed": false,
    "cell_id": "00048-1965971e-01b2-423a-9694-9190dfcfcd0b",
    "deepnote_cell_type": "text-cell-p"
   }
  },
  {
   "cell_type": "code",
   "source": "# create a new napping\nnewcolors ={'rosso': 'red',\n            'verde': 'green'}",
   "metadata": {
    "tags": [],
    "cell_id": "00049-da66ed3c-614e-4c83-8260-6712caae1d7c",
    "deepnote_to_be_reexecuted": false,
    "source_hash": "51870691",
    "execution_start": 1637296979042,
    "execution_millis": 1,
    "deepnote_cell_type": "code"
   },
   "outputs": [],
   "execution_count": 18
  },
  {
   "cell_type": "markdown",
   "source": "Now the next thing is use the replace() function with the mapping as an argument.",
   "metadata": {
    "tags": [],
    "is_collapsed": false,
    "cell_id": "00050-0112d141-7d78-4c7b-a030-8ea4f94c94a7",
    "deepnote_cell_type": "text-cell-p"
   }
  },
  {
   "cell_type": "code",
   "source": "items.replace(newcolors)",
   "metadata": {
    "tags": [],
    "cell_id": "00050-32b36443-06c8-4216-a5be-532f1690aca1",
    "deepnote_to_be_reexecuted": false,
    "source_hash": "bc93f224",
    "execution_start": 1637296979043,
    "execution_millis": 3,
    "deepnote_cell_type": "code"
   },
   "outputs": [
    {
     "output_type": "execute_result",
     "execution_count": 19,
     "data": {
      "application/vnd.deepnote.dataframe.v2+json": {
       "row_count": 5,
       "column_count": 2,
       "columns": [
        {
         "name": "item",
         "dtype": "object",
         "stats": {
          "unique_count": 5,
          "nan_count": 0,
          "categories": [
           {
            "name": "ball",
            "count": 1
           },
           {
            "name": "mug",
            "count": 1
           },
           {
            "name": "3 others",
            "count": 3
           }
          ]
         }
        },
        {
         "name": "color",
         "dtype": "object",
         "stats": {
          "unique_count": 5,
          "nan_count": 0,
          "categories": [
           {
            "name": "white",
            "count": 1
           },
           {
            "name": "red",
            "count": 1
           },
           {
            "name": "3 others",
            "count": 3
           }
          ]
         }
        },
        {
         "name": "_deepnote_index_column",
         "dtype": "int64"
        }
       ],
       "rows_top": [
        {
         "item": "ball",
         "color": "white",
         "_deepnote_index_column": 0
        },
        {
         "item": "mug",
         "color": "red",
         "_deepnote_index_column": 1
        },
        {
         "item": "pen",
         "color": "green",
         "_deepnote_index_column": 2
        },
        {
         "item": "pencil",
         "color": "black",
         "_deepnote_index_column": 3
        },
        {
         "item": "ashtray",
         "color": "yellow",
         "_deepnote_index_column": 4
        }
       ],
       "rows_bottom": null
      },
      "text/plain": "      item   color\n0     ball   white\n1      mug     red\n2      pen   green\n3   pencil   black\n4  ashtray  yellow",
      "text/html": "<div>\n<style scoped>\n    .dataframe tbody tr th:only-of-type {\n        vertical-align: middle;\n    }\n\n    .dataframe tbody tr th {\n        vertical-align: top;\n    }\n\n    .dataframe thead th {\n        text-align: right;\n    }\n</style>\n<table border=\"1\" class=\"dataframe\">\n  <thead>\n    <tr style=\"text-align: right;\">\n      <th></th>\n      <th>item</th>\n      <th>color</th>\n    </tr>\n  </thead>\n  <tbody>\n    <tr>\n      <th>0</th>\n      <td>ball</td>\n      <td>white</td>\n    </tr>\n    <tr>\n      <th>1</th>\n      <td>mug</td>\n      <td>red</td>\n    </tr>\n    <tr>\n      <th>2</th>\n      <td>pen</td>\n      <td>green</td>\n    </tr>\n    <tr>\n      <th>3</th>\n      <td>pencil</td>\n      <td>black</td>\n    </tr>\n    <tr>\n      <th>4</th>\n      <td>ashtray</td>\n      <td>yellow</td>\n    </tr>\n  </tbody>\n</table>\n</div>"
     },
     "metadata": {}
    }
   ],
   "execution_count": 19
  },
  {
   "cell_type": "markdown",
   "source": "From our result we can see that we have successfully replaced rosso with red and verde with green.",
   "metadata": {
    "tags": [],
    "is_collapsed": false,
    "cell_id": "00052-5dc07743-0080-4927-945e-c01c35532f94",
    "deepnote_cell_type": "text-cell-p"
   }
  },
  {
   "cell_type": "markdown",
   "source": "### b.  Adding Values via Mapping\n",
   "metadata": {
    "tags": [],
    "is_collapsed": false,
    "cell_id": "00053-8541f172-c2c4-41ca-bbc3-721594575f80",
    "deepnote_cell_type": "text-cell-h3"
   }
  },
  {
   "cell_type": "markdown",
   "source": "In this case, we are exploiting mapping to add values in a column depending on the values contained in another. The mapping will always be defined separately. The map() function applied to a series or to a column of a data frame accepts a function or an object containing a dictionary with\nmapping. Let's see an example using the previous data frame by adding a price column to the data frame\n",
   "metadata": {
    "tags": [],
    "is_collapsed": false,
    "cell_id": "00054-39cd79a4-d7ae-4464-a3a0-31ce9aa6269d",
    "deepnote_cell_type": "text-cell-p"
   }
  },
  {
   "cell_type": "code",
   "source": "items",
   "metadata": {
    "tags": [],
    "cell_id": "00055-7ef61336-4390-440f-b933-18aa95d57cbe",
    "deepnote_to_be_reexecuted": false,
    "source_hash": "5b5236a3",
    "execution_start": 1637296979087,
    "execution_millis": 2,
    "deepnote_cell_type": "code"
   },
   "outputs": [
    {
     "output_type": "execute_result",
     "execution_count": 20,
     "data": {
      "application/vnd.deepnote.dataframe.v2+json": {
       "row_count": 5,
       "column_count": 2,
       "columns": [
        {
         "name": "item",
         "dtype": "object",
         "stats": {
          "unique_count": 5,
          "nan_count": 0,
          "categories": [
           {
            "name": "ball",
            "count": 1
           },
           {
            "name": "mug",
            "count": 1
           },
           {
            "name": "3 others",
            "count": 3
           }
          ]
         }
        },
        {
         "name": "color",
         "dtype": "object",
         "stats": {
          "unique_count": 5,
          "nan_count": 0,
          "categories": [
           {
            "name": "white",
            "count": 1
           },
           {
            "name": "rosso",
            "count": 1
           },
           {
            "name": "3 others",
            "count": 3
           }
          ]
         }
        },
        {
         "name": "_deepnote_index_column",
         "dtype": "int64"
        }
       ],
       "rows_top": [
        {
         "item": "ball",
         "color": "white",
         "_deepnote_index_column": 0
        },
        {
         "item": "mug",
         "color": "rosso",
         "_deepnote_index_column": 1
        },
        {
         "item": "pen",
         "color": "verde",
         "_deepnote_index_column": 2
        },
        {
         "item": "pencil",
         "color": "black",
         "_deepnote_index_column": 3
        },
        {
         "item": "ashtray",
         "color": "yellow",
         "_deepnote_index_column": 4
        }
       ],
       "rows_bottom": null
      },
      "text/plain": "      item   color\n0     ball   white\n1      mug   rosso\n2      pen   verde\n3   pencil   black\n4  ashtray  yellow",
      "text/html": "<div>\n<style scoped>\n    .dataframe tbody tr th:only-of-type {\n        vertical-align: middle;\n    }\n\n    .dataframe tbody tr th {\n        vertical-align: top;\n    }\n\n    .dataframe thead th {\n        text-align: right;\n    }\n</style>\n<table border=\"1\" class=\"dataframe\">\n  <thead>\n    <tr style=\"text-align: right;\">\n      <th></th>\n      <th>item</th>\n      <th>color</th>\n    </tr>\n  </thead>\n  <tbody>\n    <tr>\n      <th>0</th>\n      <td>ball</td>\n      <td>white</td>\n    </tr>\n    <tr>\n      <th>1</th>\n      <td>mug</td>\n      <td>rosso</td>\n    </tr>\n    <tr>\n      <th>2</th>\n      <td>pen</td>\n      <td>verde</td>\n    </tr>\n    <tr>\n      <th>3</th>\n      <td>pencil</td>\n      <td>black</td>\n    </tr>\n    <tr>\n      <th>4</th>\n      <td>ashtray</td>\n      <td>yellow</td>\n    </tr>\n  </tbody>\n</table>\n</div>"
     },
     "metadata": {}
    }
   ],
   "execution_count": 20
  },
  {
   "cell_type": "markdown",
   "source": "lets create the price column we want to map",
   "metadata": {
    "tags": [],
    "is_collapsed": false,
    "cell_id": "00056-4fac650d-2a33-4a79-bfc7-201c63d06c86",
    "deepnote_cell_type": "text-cell-p"
   }
  },
  {
   "cell_type": "code",
   "source": "# creating the prices column\nprices = {'ball' : 5.56, 'mug' : 4.20,'pen' : 1.30, 'pencil' : 0.56, 'ashtray' : 2.75}",
   "metadata": {
    "tags": [],
    "cell_id": "00056-614eda96-02dc-4b93-b06f-2d912cfd8aa3",
    "deepnote_to_be_reexecuted": false,
    "source_hash": "67b1aef5",
    "execution_start": 1637296979088,
    "execution_millis": 0,
    "deepnote_cell_type": "code"
   },
   "outputs": [],
   "execution_count": 21
  },
  {
   "cell_type": "code",
   "source": "# lets map our price to our dataframe\nitems['price'] = items['item'].map(prices)\nitems",
   "metadata": {
    "tags": [],
    "cell_id": "00058-543bb6f8-7bac-45a1-b9ae-7fb025cb1bee",
    "deepnote_to_be_reexecuted": false,
    "source_hash": "cdb5449c",
    "execution_start": 1637296979131,
    "execution_millis": 2,
    "deepnote_cell_type": "code"
   },
   "outputs": [
    {
     "output_type": "execute_result",
     "execution_count": 22,
     "data": {
      "application/vnd.deepnote.dataframe.v2+json": {
       "row_count": 5,
       "column_count": 3,
       "columns": [
        {
         "name": "item",
         "dtype": "object",
         "stats": {
          "unique_count": 5,
          "nan_count": 0,
          "categories": [
           {
            "name": "ball",
            "count": 1
           },
           {
            "name": "mug",
            "count": 1
           },
           {
            "name": "3 others",
            "count": 3
           }
          ]
         }
        },
        {
         "name": "color",
         "dtype": "object",
         "stats": {
          "unique_count": 5,
          "nan_count": 0,
          "categories": [
           {
            "name": "white",
            "count": 1
           },
           {
            "name": "rosso",
            "count": 1
           },
           {
            "name": "3 others",
            "count": 3
           }
          ]
         }
        },
        {
         "name": "price",
         "dtype": "float64",
         "stats": {
          "unique_count": 5,
          "nan_count": 0,
          "min": "0.56",
          "max": "5.56",
          "histogram": [
           {
            "bin_start": 0.56,
            "bin_end": 1.06,
            "count": 1
           },
           {
            "bin_start": 1.06,
            "bin_end": 1.56,
            "count": 1
           },
           {
            "bin_start": 1.56,
            "bin_end": 2.06,
            "count": 0
           },
           {
            "bin_start": 2.06,
            "bin_end": 2.56,
            "count": 0
           },
           {
            "bin_start": 2.56,
            "bin_end": 3.06,
            "count": 1
           },
           {
            "bin_start": 3.06,
            "bin_end": 3.56,
            "count": 0
           },
           {
            "bin_start": 3.56,
            "bin_end": 4.0600000000000005,
            "count": 0
           },
           {
            "bin_start": 4.0600000000000005,
            "bin_end": 4.5600000000000005,
            "count": 1
           },
           {
            "bin_start": 4.5600000000000005,
            "bin_end": 5.0600000000000005,
            "count": 0
           },
           {
            "bin_start": 5.0600000000000005,
            "bin_end": 5.56,
            "count": 1
           }
          ]
         }
        },
        {
         "name": "_deepnote_index_column",
         "dtype": "int64"
        }
       ],
       "rows_top": [
        {
         "item": "ball",
         "color": "white",
         "price": 5.56,
         "_deepnote_index_column": 0
        },
        {
         "item": "mug",
         "color": "rosso",
         "price": 4.2,
         "_deepnote_index_column": 1
        },
        {
         "item": "pen",
         "color": "verde",
         "price": 1.3,
         "_deepnote_index_column": 2
        },
        {
         "item": "pencil",
         "color": "black",
         "price": 0.56,
         "_deepnote_index_column": 3
        },
        {
         "item": "ashtray",
         "color": "yellow",
         "price": 2.75,
         "_deepnote_index_column": 4
        }
       ],
       "rows_bottom": null
      },
      "text/plain": "      item   color  price\n0     ball   white   5.56\n1      mug   rosso   4.20\n2      pen   verde   1.30\n3   pencil   black   0.56\n4  ashtray  yellow   2.75",
      "text/html": "<div>\n<style scoped>\n    .dataframe tbody tr th:only-of-type {\n        vertical-align: middle;\n    }\n\n    .dataframe tbody tr th {\n        vertical-align: top;\n    }\n\n    .dataframe thead th {\n        text-align: right;\n    }\n</style>\n<table border=\"1\" class=\"dataframe\">\n  <thead>\n    <tr style=\"text-align: right;\">\n      <th></th>\n      <th>item</th>\n      <th>color</th>\n      <th>price</th>\n    </tr>\n  </thead>\n  <tbody>\n    <tr>\n      <th>0</th>\n      <td>ball</td>\n      <td>white</td>\n      <td>5.56</td>\n    </tr>\n    <tr>\n      <th>1</th>\n      <td>mug</td>\n      <td>rosso</td>\n      <td>4.20</td>\n    </tr>\n    <tr>\n      <th>2</th>\n      <td>pen</td>\n      <td>verde</td>\n      <td>1.30</td>\n    </tr>\n    <tr>\n      <th>3</th>\n      <td>pencil</td>\n      <td>black</td>\n      <td>0.56</td>\n    </tr>\n    <tr>\n      <th>4</th>\n      <td>ashtray</td>\n      <td>yellow</td>\n      <td>2.75</td>\n    </tr>\n  </tbody>\n</table>\n</div>"
     },
     "metadata": {}
    }
   ],
   "execution_count": 22
  },
  {
   "cell_type": "markdown",
   "source": "### c. Rename the Indexes of the Axes\n",
   "metadata": {
    "tags": [],
    "is_collapsed": false,
    "cell_id": "00059-5de8f755-8a1b-4daf-afbe-8af44429cfeb",
    "deepnote_cell_type": "text-cell-h3"
   }
  },
  {
   "cell_type": "markdown",
   "source": "In a manner very similar to what we did for the values contained within the data frame, even the axis label can be transformed in a very similar way using the mapping. So to replace the label indexes, pandas provides the rename() function, which takes the mapping as an argument.",
   "metadata": {
    "tags": [],
    "is_collapsed": false,
    "cell_id": "00060-adbac7b8-dd72-43b8-9f66-6ecedc2db53f",
    "deepnote_cell_type": "text-cell-p"
   }
  },
  {
   "cell_type": "markdown",
   "source": "Lets see an example where we will replace the index of our previous data frame",
   "metadata": {
    "tags": [],
    "is_collapsed": false,
    "deepnote_cell_type": "text-cell-p"
   }
  },
  {
   "cell_type": "code",
   "source": "items",
   "metadata": {
    "tags": [],
    "cell_id": "00062-7699436c-454f-41ec-939d-e8b4e036ad50",
    "deepnote_to_be_reexecuted": false,
    "source_hash": "5b5236a3",
    "execution_start": 1637296979135,
    "execution_millis": 9,
    "deepnote_cell_type": "code"
   },
   "outputs": [
    {
     "output_type": "execute_result",
     "execution_count": 23,
     "data": {
      "application/vnd.deepnote.dataframe.v2+json": {
       "row_count": 5,
       "column_count": 3,
       "columns": [
        {
         "name": "item",
         "dtype": "object",
         "stats": {
          "unique_count": 5,
          "nan_count": 0,
          "categories": [
           {
            "name": "ball",
            "count": 1
           },
           {
            "name": "mug",
            "count": 1
           },
           {
            "name": "3 others",
            "count": 3
           }
          ]
         }
        },
        {
         "name": "color",
         "dtype": "object",
         "stats": {
          "unique_count": 5,
          "nan_count": 0,
          "categories": [
           {
            "name": "white",
            "count": 1
           },
           {
            "name": "rosso",
            "count": 1
           },
           {
            "name": "3 others",
            "count": 3
           }
          ]
         }
        },
        {
         "name": "price",
         "dtype": "float64",
         "stats": {
          "unique_count": 5,
          "nan_count": 0,
          "min": "0.56",
          "max": "5.56",
          "histogram": [
           {
            "bin_start": 0.56,
            "bin_end": 1.06,
            "count": 1
           },
           {
            "bin_start": 1.06,
            "bin_end": 1.56,
            "count": 1
           },
           {
            "bin_start": 1.56,
            "bin_end": 2.06,
            "count": 0
           },
           {
            "bin_start": 2.06,
            "bin_end": 2.56,
            "count": 0
           },
           {
            "bin_start": 2.56,
            "bin_end": 3.06,
            "count": 1
           },
           {
            "bin_start": 3.06,
            "bin_end": 3.56,
            "count": 0
           },
           {
            "bin_start": 3.56,
            "bin_end": 4.0600000000000005,
            "count": 0
           },
           {
            "bin_start": 4.0600000000000005,
            "bin_end": 4.5600000000000005,
            "count": 1
           },
           {
            "bin_start": 4.5600000000000005,
            "bin_end": 5.0600000000000005,
            "count": 0
           },
           {
            "bin_start": 5.0600000000000005,
            "bin_end": 5.56,
            "count": 1
           }
          ]
         }
        },
        {
         "name": "_deepnote_index_column",
         "dtype": "int64"
        }
       ],
       "rows_top": [
        {
         "item": "ball",
         "color": "white",
         "price": 5.56,
         "_deepnote_index_column": 0
        },
        {
         "item": "mug",
         "color": "rosso",
         "price": 4.2,
         "_deepnote_index_column": 1
        },
        {
         "item": "pen",
         "color": "verde",
         "price": 1.3,
         "_deepnote_index_column": 2
        },
        {
         "item": "pencil",
         "color": "black",
         "price": 0.56,
         "_deepnote_index_column": 3
        },
        {
         "item": "ashtray",
         "color": "yellow",
         "price": 2.75,
         "_deepnote_index_column": 4
        }
       ],
       "rows_bottom": null
      },
      "text/plain": "      item   color  price\n0     ball   white   5.56\n1      mug   rosso   4.20\n2      pen   verde   1.30\n3   pencil   black   0.56\n4  ashtray  yellow   2.75",
      "text/html": "<div>\n<style scoped>\n    .dataframe tbody tr th:only-of-type {\n        vertical-align: middle;\n    }\n\n    .dataframe tbody tr th {\n        vertical-align: top;\n    }\n\n    .dataframe thead th {\n        text-align: right;\n    }\n</style>\n<table border=\"1\" class=\"dataframe\">\n  <thead>\n    <tr style=\"text-align: right;\">\n      <th></th>\n      <th>item</th>\n      <th>color</th>\n      <th>price</th>\n    </tr>\n  </thead>\n  <tbody>\n    <tr>\n      <th>0</th>\n      <td>ball</td>\n      <td>white</td>\n      <td>5.56</td>\n    </tr>\n    <tr>\n      <th>1</th>\n      <td>mug</td>\n      <td>rosso</td>\n      <td>4.20</td>\n    </tr>\n    <tr>\n      <th>2</th>\n      <td>pen</td>\n      <td>verde</td>\n      <td>1.30</td>\n    </tr>\n    <tr>\n      <th>3</th>\n      <td>pencil</td>\n      <td>black</td>\n      <td>0.56</td>\n    </tr>\n    <tr>\n      <th>4</th>\n      <td>ashtray</td>\n      <td>yellow</td>\n      <td>2.75</td>\n    </tr>\n  </tbody>\n</table>\n</div>"
     },
     "metadata": {}
    }
   ],
   "execution_count": 23
  },
  {
   "cell_type": "code",
   "source": "# create a mapping value to change the row index value\nreindex = {0: 'first',\n            1: 'seconnd',\n            2: 'third',\n             3: 'fourth',\n             4: 'fifth'}",
   "metadata": {
    "tags": [],
    "cell_id": "00063-47e1d9e7-e3d9-41f3-b22e-c780104b323e",
    "deepnote_to_be_reexecuted": false,
    "source_hash": "dff27044",
    "execution_start": 1637296979190,
    "execution_millis": 5296404,
    "deepnote_cell_type": "code"
   },
   "outputs": [],
   "execution_count": 24
  },
  {
   "cell_type": "code",
   "source": "# now lets use the rename()to change our axis name\nitems.rename(reindex)",
   "metadata": {
    "tags": [],
    "cell_id": "00064-f0851c19-bf3e-4c73-a857-c1cfd1f19296",
    "deepnote_to_be_reexecuted": false,
    "source_hash": "752b2ee5",
    "execution_start": 1637296979191,
    "execution_millis": 1,
    "deepnote_cell_type": "code"
   },
   "outputs": [
    {
     "output_type": "execute_result",
     "execution_count": 25,
     "data": {
      "application/vnd.deepnote.dataframe.v2+json": {
       "row_count": 5,
       "column_count": 3,
       "columns": [
        {
         "name": "item",
         "dtype": "object",
         "stats": {
          "unique_count": 5,
          "nan_count": 0,
          "categories": [
           {
            "name": "ball",
            "count": 1
           },
           {
            "name": "mug",
            "count": 1
           },
           {
            "name": "3 others",
            "count": 3
           }
          ]
         }
        },
        {
         "name": "color",
         "dtype": "object",
         "stats": {
          "unique_count": 5,
          "nan_count": 0,
          "categories": [
           {
            "name": "white",
            "count": 1
           },
           {
            "name": "rosso",
            "count": 1
           },
           {
            "name": "3 others",
            "count": 3
           }
          ]
         }
        },
        {
         "name": "price",
         "dtype": "float64",
         "stats": {
          "unique_count": 5,
          "nan_count": 0,
          "min": "0.56",
          "max": "5.56",
          "histogram": [
           {
            "bin_start": 0.56,
            "bin_end": 1.06,
            "count": 1
           },
           {
            "bin_start": 1.06,
            "bin_end": 1.56,
            "count": 1
           },
           {
            "bin_start": 1.56,
            "bin_end": 2.06,
            "count": 0
           },
           {
            "bin_start": 2.06,
            "bin_end": 2.56,
            "count": 0
           },
           {
            "bin_start": 2.56,
            "bin_end": 3.06,
            "count": 1
           },
           {
            "bin_start": 3.06,
            "bin_end": 3.56,
            "count": 0
           },
           {
            "bin_start": 3.56,
            "bin_end": 4.0600000000000005,
            "count": 0
           },
           {
            "bin_start": 4.0600000000000005,
            "bin_end": 4.5600000000000005,
            "count": 1
           },
           {
            "bin_start": 4.5600000000000005,
            "bin_end": 5.0600000000000005,
            "count": 0
           },
           {
            "bin_start": 5.0600000000000005,
            "bin_end": 5.56,
            "count": 1
           }
          ]
         }
        },
        {
         "name": "_deepnote_index_column",
         "dtype": "object"
        }
       ],
       "rows_top": [
        {
         "item": "ball",
         "color": "white",
         "price": 5.56,
         "_deepnote_index_column": "first"
        },
        {
         "item": "mug",
         "color": "rosso",
         "price": 4.2,
         "_deepnote_index_column": "seconnd"
        },
        {
         "item": "pen",
         "color": "verde",
         "price": 1.3,
         "_deepnote_index_column": "third"
        },
        {
         "item": "pencil",
         "color": "black",
         "price": 0.56,
         "_deepnote_index_column": "fourth"
        },
        {
         "item": "ashtray",
         "color": "yellow",
         "price": 2.75,
         "_deepnote_index_column": "fifth"
        }
       ],
       "rows_bottom": null
      },
      "text/plain": "            item   color  price\nfirst       ball   white   5.56\nseconnd      mug   rosso   4.20\nthird        pen   verde   1.30\nfourth    pencil   black   0.56\nfifth    ashtray  yellow   2.75",
      "text/html": "<div>\n<style scoped>\n    .dataframe tbody tr th:only-of-type {\n        vertical-align: middle;\n    }\n\n    .dataframe tbody tr th {\n        vertical-align: top;\n    }\n\n    .dataframe thead th {\n        text-align: right;\n    }\n</style>\n<table border=\"1\" class=\"dataframe\">\n  <thead>\n    <tr style=\"text-align: right;\">\n      <th></th>\n      <th>item</th>\n      <th>color</th>\n      <th>price</th>\n    </tr>\n  </thead>\n  <tbody>\n    <tr>\n      <th>first</th>\n      <td>ball</td>\n      <td>white</td>\n      <td>5.56</td>\n    </tr>\n    <tr>\n      <th>seconnd</th>\n      <td>mug</td>\n      <td>rosso</td>\n      <td>4.20</td>\n    </tr>\n    <tr>\n      <th>third</th>\n      <td>pen</td>\n      <td>verde</td>\n      <td>1.30</td>\n    </tr>\n    <tr>\n      <th>fourth</th>\n      <td>pencil</td>\n      <td>black</td>\n      <td>0.56</td>\n    </tr>\n    <tr>\n      <th>fifth</th>\n      <td>ashtray</td>\n      <td>yellow</td>\n      <td>2.75</td>\n    </tr>\n  </tbody>\n</table>\n</div>"
     },
     "metadata": {}
    }
   ],
   "execution_count": 25
  },
  {
   "cell_type": "markdown",
   "source": "As you can see, by default, the indexes are renamed. If you want to rename columns you must use the columns option. ",
   "metadata": {
    "tags": [],
    "is_collapsed": false,
    "cell_id": "00065-28f26527-2cba-43db-a997-7df076be6f38",
    "deepnote_cell_type": "text-cell-p"
   }
  },
  {
   "cell_type": "code",
   "source": "# creating a mapping for the colums\nrecolumn = {'item':'object', 'price': 'value'}",
   "metadata": {
    "tags": [],
    "cell_id": "00065-24790f7a-5c58-458f-b20a-f5c1d46629cf",
    "deepnote_to_be_reexecuted": false,
    "source_hash": "d8a0e983",
    "execution_start": 1637296979229,
    "execution_millis": 4887531,
    "deepnote_cell_type": "code"
   },
   "outputs": [],
   "execution_count": 26
  },
  {
   "cell_type": "code",
   "source": "# now lets apply our changes to both index and column\nitems.rename(index=reindex, columns=recolumn)",
   "metadata": {
    "tags": [],
    "cell_id": "00067-0b8913a0-dd52-4c5d-af04-3c5bd55c78c7",
    "deepnote_to_be_reexecuted": false,
    "source_hash": "f99f1e3a",
    "execution_start": 1637296979230,
    "execution_millis": 1,
    "deepnote_cell_type": "code"
   },
   "outputs": [
    {
     "output_type": "execute_result",
     "execution_count": 27,
     "data": {
      "application/vnd.deepnote.dataframe.v2+json": {
       "row_count": 5,
       "column_count": 3,
       "columns": [
        {
         "name": "object",
         "dtype": "object",
         "stats": {
          "unique_count": 5,
          "nan_count": 0,
          "categories": [
           {
            "name": "ball",
            "count": 1
           },
           {
            "name": "mug",
            "count": 1
           },
           {
            "name": "3 others",
            "count": 3
           }
          ]
         }
        },
        {
         "name": "color",
         "dtype": "object",
         "stats": {
          "unique_count": 5,
          "nan_count": 0,
          "categories": [
           {
            "name": "white",
            "count": 1
           },
           {
            "name": "rosso",
            "count": 1
           },
           {
            "name": "3 others",
            "count": 3
           }
          ]
         }
        },
        {
         "name": "value",
         "dtype": "float64",
         "stats": {
          "unique_count": 5,
          "nan_count": 0,
          "min": "0.56",
          "max": "5.56",
          "histogram": [
           {
            "bin_start": 0.56,
            "bin_end": 1.06,
            "count": 1
           },
           {
            "bin_start": 1.06,
            "bin_end": 1.56,
            "count": 1
           },
           {
            "bin_start": 1.56,
            "bin_end": 2.06,
            "count": 0
           },
           {
            "bin_start": 2.06,
            "bin_end": 2.56,
            "count": 0
           },
           {
            "bin_start": 2.56,
            "bin_end": 3.06,
            "count": 1
           },
           {
            "bin_start": 3.06,
            "bin_end": 3.56,
            "count": 0
           },
           {
            "bin_start": 3.56,
            "bin_end": 4.0600000000000005,
            "count": 0
           },
           {
            "bin_start": 4.0600000000000005,
            "bin_end": 4.5600000000000005,
            "count": 1
           },
           {
            "bin_start": 4.5600000000000005,
            "bin_end": 5.0600000000000005,
            "count": 0
           },
           {
            "bin_start": 5.0600000000000005,
            "bin_end": 5.56,
            "count": 1
           }
          ]
         }
        },
        {
         "name": "_deepnote_index_column",
         "dtype": "object"
        }
       ],
       "rows_top": [
        {
         "object": "ball",
         "color": "white",
         "value": 5.56,
         "_deepnote_index_column": "first"
        },
        {
         "object": "mug",
         "color": "rosso",
         "value": 4.2,
         "_deepnote_index_column": "seconnd"
        },
        {
         "object": "pen",
         "color": "verde",
         "value": 1.3,
         "_deepnote_index_column": "third"
        },
        {
         "object": "pencil",
         "color": "black",
         "value": 0.56,
         "_deepnote_index_column": "fourth"
        },
        {
         "object": "ashtray",
         "color": "yellow",
         "value": 2.75,
         "_deepnote_index_column": "fifth"
        }
       ],
       "rows_bottom": null
      },
      "text/plain": "          object   color  value\nfirst       ball   white   5.56\nseconnd      mug   rosso   4.20\nthird        pen   verde   1.30\nfourth    pencil   black   0.56\nfifth    ashtray  yellow   2.75",
      "text/html": "<div>\n<style scoped>\n    .dataframe tbody tr th:only-of-type {\n        vertical-align: middle;\n    }\n\n    .dataframe tbody tr th {\n        vertical-align: top;\n    }\n\n    .dataframe thead th {\n        text-align: right;\n    }\n</style>\n<table border=\"1\" class=\"dataframe\">\n  <thead>\n    <tr style=\"text-align: right;\">\n      <th></th>\n      <th>object</th>\n      <th>color</th>\n      <th>value</th>\n    </tr>\n  </thead>\n  <tbody>\n    <tr>\n      <th>first</th>\n      <td>ball</td>\n      <td>white</td>\n      <td>5.56</td>\n    </tr>\n    <tr>\n      <th>seconnd</th>\n      <td>mug</td>\n      <td>rosso</td>\n      <td>4.20</td>\n    </tr>\n    <tr>\n      <th>third</th>\n      <td>pen</td>\n      <td>verde</td>\n      <td>1.30</td>\n    </tr>\n    <tr>\n      <th>fourth</th>\n      <td>pencil</td>\n      <td>black</td>\n      <td>0.56</td>\n    </tr>\n    <tr>\n      <th>fifth</th>\n      <td>ashtray</td>\n      <td>yellow</td>\n      <td>2.75</td>\n    </tr>\n  </tbody>\n</table>\n</div>"
     },
     "metadata": {}
    }
   ],
   "execution_count": 27
  },
  {
   "cell_type": "markdown",
   "source": "## 3. Removing Duplicates\n",
   "metadata": {
    "tags": [],
    "is_collapsed": false,
    "cell_id": "00068-1dae8dab-0fc2-4154-b1eb-590cefac7f7b",
    "deepnote_cell_type": "text-cell-h2"
   }
  },
  {
   "cell_type": "markdown",
   "source": "In data frames of enormous size, the detection of duplicate rows can be very problematic. In pandas, however, there are a series of tools that can be used to analyze the duplicate data present in large data structures.\n",
   "metadata": {
    "tags": [],
    "is_collapsed": false,
    "cell_id": "00069-6c597e14-06b5-48dc-8d1e-1b3ac7c6d1a0",
    "deepnote_cell_type": "text-cell-p"
   }
  },
  {
   "cell_type": "markdown",
   "source": "First, let’s create a simple data frame with some duplicate rows:\n",
   "metadata": {
    "tags": [],
    "is_collapsed": false,
    "cell_id": "00070-e10d7055-246a-4f2d-be40-c34724b433f9",
    "deepnote_cell_type": "text-cell-p"
   }
  },
  {
   "cell_type": "code",
   "source": "# creating a new dataframe\ndf =  pd.DataFrame({ 'color': ['white','white','red','red','white'], 'value': [2,1,3,3,2]})\ndf",
   "metadata": {
    "tags": [],
    "cell_id": "00071-3c4a2746-0a7f-45e4-a335-a5f7d61f8b4c",
    "deepnote_to_be_reexecuted": false,
    "source_hash": "1af3d8ca",
    "execution_start": 1637296979247,
    "execution_millis": 5,
    "deepnote_cell_type": "code"
   },
   "outputs": [
    {
     "output_type": "execute_result",
     "execution_count": 28,
     "data": {
      "application/vnd.deepnote.dataframe.v2+json": {
       "row_count": 5,
       "column_count": 2,
       "columns": [
        {
         "name": "color",
         "dtype": "object",
         "stats": {
          "unique_count": 2,
          "nan_count": 0,
          "categories": [
           {
            "name": "white",
            "count": 3
           },
           {
            "name": "red",
            "count": 2
           }
          ]
         }
        },
        {
         "name": "value",
         "dtype": "int64",
         "stats": {
          "unique_count": 3,
          "nan_count": 0,
          "min": "1",
          "max": "3",
          "histogram": [
           {
            "bin_start": 1,
            "bin_end": 1.2,
            "count": 1
           },
           {
            "bin_start": 1.2,
            "bin_end": 1.4,
            "count": 0
           },
           {
            "bin_start": 1.4,
            "bin_end": 1.6,
            "count": 0
           },
           {
            "bin_start": 1.6,
            "bin_end": 1.8,
            "count": 0
           },
           {
            "bin_start": 1.8,
            "bin_end": 2,
            "count": 0
           },
           {
            "bin_start": 2,
            "bin_end": 2.2,
            "count": 2
           },
           {
            "bin_start": 2.2,
            "bin_end": 2.4000000000000004,
            "count": 0
           },
           {
            "bin_start": 2.4000000000000004,
            "bin_end": 2.6,
            "count": 0
           },
           {
            "bin_start": 2.6,
            "bin_end": 2.8,
            "count": 0
           },
           {
            "bin_start": 2.8,
            "bin_end": 3,
            "count": 2
           }
          ]
         }
        },
        {
         "name": "_deepnote_index_column",
         "dtype": "int64"
        }
       ],
       "rows_top": [
        {
         "color": "white",
         "value": 2,
         "_deepnote_index_column": 0
        },
        {
         "color": "white",
         "value": 1,
         "_deepnote_index_column": 1
        },
        {
         "color": "red",
         "value": 3,
         "_deepnote_index_column": 2
        },
        {
         "color": "red",
         "value": 3,
         "_deepnote_index_column": 3
        },
        {
         "color": "white",
         "value": 2,
         "_deepnote_index_column": 4
        }
       ],
       "rows_bottom": null
      },
      "text/plain": "   color  value\n0  white      2\n1  white      1\n2    red      3\n3    red      3\n4  white      2",
      "text/html": "<div>\n<style scoped>\n    .dataframe tbody tr th:only-of-type {\n        vertical-align: middle;\n    }\n\n    .dataframe tbody tr th {\n        vertical-align: top;\n    }\n\n    .dataframe thead th {\n        text-align: right;\n    }\n</style>\n<table border=\"1\" class=\"dataframe\">\n  <thead>\n    <tr style=\"text-align: right;\">\n      <th></th>\n      <th>color</th>\n      <th>value</th>\n    </tr>\n  </thead>\n  <tbody>\n    <tr>\n      <th>0</th>\n      <td>white</td>\n      <td>2</td>\n    </tr>\n    <tr>\n      <th>1</th>\n      <td>white</td>\n      <td>1</td>\n    </tr>\n    <tr>\n      <th>2</th>\n      <td>red</td>\n      <td>3</td>\n    </tr>\n    <tr>\n      <th>3</th>\n      <td>red</td>\n      <td>3</td>\n    </tr>\n    <tr>\n      <th>4</th>\n      <td>white</td>\n      <td>2</td>\n    </tr>\n  </tbody>\n</table>\n</div>"
     },
     "metadata": {}
    }
   ],
   "execution_count": 28
  },
  {
   "cell_type": "markdown",
   "source": "To detect duplicate rows in a data frame, we will apply the duplicated() function to the data frame. This will return a series of Booleans where each element corresponds to a row, with True if the row is duplicated (i.e., the other occurrences, not the first), and with False if there are no duplicates in\nthe previous elements.\n",
   "metadata": {
    "tags": [],
    "is_collapsed": false,
    "cell_id": "00072-5d49b869-0ae5-42a5-a157-d570f06d7361",
    "deepnote_cell_type": "text-cell-p"
   }
  },
  {
   "cell_type": "markdown",
   "source": "Let’s apply the duplicated() function to the data frame we created earlier:\n",
   "metadata": {
    "tags": [],
    "is_collapsed": false,
    "cell_id": "00073-bb089d23-7390-4afb-ae6c-f57c9d9e9ad2",
    "deepnote_cell_type": "text-cell-p"
   }
  },
  {
   "cell_type": "code",
   "source": "# checking for duplicates\ndf.duplicated()",
   "metadata": {
    "tags": [],
    "cell_id": "00072-49d8a7cd-11ed-4f0a-8a7a-ac55f02fe613",
    "deepnote_to_be_reexecuted": false,
    "source_hash": "e1c7d50a",
    "execution_start": 1637296979302,
    "execution_millis": 1,
    "deepnote_output_heights": [
     115.3125
    ],
    "deepnote_cell_type": "code"
   },
   "outputs": [
    {
     "output_type": "execute_result",
     "execution_count": 29,
     "data": {
      "text/plain": "0    False\n1    False\n2    False\n3     True\n4     True\ndtype: bool"
     },
     "metadata": {}
    }
   ],
   "execution_count": 29
  },
  {
   "cell_type": "markdown",
   "source": "To know which are the duplicate rows, we will just type the following:&nbsp;\n",
   "metadata": {
    "tags": [],
    "is_collapsed": false,
    "cell_id": "00075-9b386eb7-b20c-49a9-9c30-510cb20daf93",
    "deepnote_cell_type": "text-cell-p"
   }
  },
  {
   "cell_type": "code",
   "source": "# checking rows with duplicates\ndf[df.duplicated()]",
   "metadata": {
    "tags": [],
    "cell_id": "00075-b37190bb-32b4-47dc-be7f-5529f201a30e",
    "deepnote_to_be_reexecuted": false,
    "source_hash": "f3b2d47e",
    "execution_start": 1637296979304,
    "execution_millis": 37,
    "deepnote_cell_type": "code"
   },
   "outputs": [
    {
     "output_type": "execute_result",
     "execution_count": 30,
     "data": {
      "application/vnd.deepnote.dataframe.v2+json": {
       "row_count": 2,
       "column_count": 2,
       "columns": [
        {
         "name": "color",
         "dtype": "object",
         "stats": {
          "unique_count": 2,
          "nan_count": 0,
          "categories": [
           {
            "name": "red",
            "count": 1
           },
           {
            "name": "white",
            "count": 1
           }
          ]
         }
        },
        {
         "name": "value",
         "dtype": "int64",
         "stats": {
          "unique_count": 2,
          "nan_count": 0,
          "min": "2",
          "max": "3",
          "histogram": [
           {
            "bin_start": 2,
            "bin_end": 2.1,
            "count": 1
           },
           {
            "bin_start": 2.1,
            "bin_end": 2.2,
            "count": 0
           },
           {
            "bin_start": 2.2,
            "bin_end": 2.3,
            "count": 0
           },
           {
            "bin_start": 2.3,
            "bin_end": 2.4,
            "count": 0
           },
           {
            "bin_start": 2.4,
            "bin_end": 2.5,
            "count": 0
           },
           {
            "bin_start": 2.5,
            "bin_end": 2.6,
            "count": 0
           },
           {
            "bin_start": 2.6,
            "bin_end": 2.7,
            "count": 0
           },
           {
            "bin_start": 2.7,
            "bin_end": 2.8,
            "count": 0
           },
           {
            "bin_start": 2.8,
            "bin_end": 2.9,
            "count": 0
           },
           {
            "bin_start": 2.9,
            "bin_end": 3,
            "count": 1
           }
          ]
         }
        },
        {
         "name": "_deepnote_index_column",
         "dtype": "int64"
        }
       ],
       "rows_top": [
        {
         "color": "red",
         "value": 3,
         "_deepnote_index_column": 3
        },
        {
         "color": "white",
         "value": 2,
         "_deepnote_index_column": 4
        }
       ],
       "rows_bottom": null
      },
      "text/plain": "   color  value\n3    red      3\n4  white      2",
      "text/html": "<div>\n<style scoped>\n    .dataframe tbody tr th:only-of-type {\n        vertical-align: middle;\n    }\n\n    .dataframe tbody tr th {\n        vertical-align: top;\n    }\n\n    .dataframe thead th {\n        text-align: right;\n    }\n</style>\n<table border=\"1\" class=\"dataframe\">\n  <thead>\n    <tr style=\"text-align: right;\">\n      <th></th>\n      <th>color</th>\n      <th>value</th>\n    </tr>\n  </thead>\n  <tbody>\n    <tr>\n      <th>3</th>\n      <td>red</td>\n      <td>3</td>\n    </tr>\n    <tr>\n      <th>4</th>\n      <td>white</td>\n      <td>2</td>\n    </tr>\n  </tbody>\n</table>\n</div>"
     },
     "metadata": {}
    }
   ],
   "execution_count": 30
  },
  {
   "cell_type": "markdown",
   "source": "Duplicated rows are to be deleted from the dataframe; this can be carried out by using&nbsp; the drop_duplicates() function provided by pandas which returns the dataframes without duplicate rows.",
   "metadata": {
    "tags": [],
    "is_collapsed": false,
    "cell_id": "00077-2db8f317-6a8e-45ab-9992-2f90d70327e6",
    "deepnote_cell_type": "text-cell-p"
   }
  },
  {
   "cell_type": "code",
   "source": "# delete duplicate rows\ndf.drop_duplicates()",
   "metadata": {
    "tags": [],
    "cell_id": "00077-6bf5a6fe-0abd-43fa-ac20-20640810bffe",
    "deepnote_to_be_reexecuted": false,
    "source_hash": "9048346b",
    "execution_start": 1637296979339,
    "execution_millis": 5,
    "deepnote_cell_type": "code"
   },
   "outputs": [
    {
     "output_type": "execute_result",
     "execution_count": 31,
     "data": {
      "application/vnd.deepnote.dataframe.v2+json": {
       "row_count": 3,
       "column_count": 2,
       "columns": [
        {
         "name": "color",
         "dtype": "object",
         "stats": {
          "unique_count": 2,
          "nan_count": 0,
          "categories": [
           {
            "name": "white",
            "count": 2
           },
           {
            "name": "red",
            "count": 1
           }
          ]
         }
        },
        {
         "name": "value",
         "dtype": "int64",
         "stats": {
          "unique_count": 3,
          "nan_count": 0,
          "min": "1",
          "max": "3",
          "histogram": [
           {
            "bin_start": 1,
            "bin_end": 1.2,
            "count": 1
           },
           {
            "bin_start": 1.2,
            "bin_end": 1.4,
            "count": 0
           },
           {
            "bin_start": 1.4,
            "bin_end": 1.6,
            "count": 0
           },
           {
            "bin_start": 1.6,
            "bin_end": 1.8,
            "count": 0
           },
           {
            "bin_start": 1.8,
            "bin_end": 2,
            "count": 0
           },
           {
            "bin_start": 2,
            "bin_end": 2.2,
            "count": 1
           },
           {
            "bin_start": 2.2,
            "bin_end": 2.4000000000000004,
            "count": 0
           },
           {
            "bin_start": 2.4000000000000004,
            "bin_end": 2.6,
            "count": 0
           },
           {
            "bin_start": 2.6,
            "bin_end": 2.8,
            "count": 0
           },
           {
            "bin_start": 2.8,
            "bin_end": 3,
            "count": 1
           }
          ]
         }
        },
        {
         "name": "_deepnote_index_column",
         "dtype": "int64"
        }
       ],
       "rows_top": [
        {
         "color": "white",
         "value": 2,
         "_deepnote_index_column": 0
        },
        {
         "color": "white",
         "value": 1,
         "_deepnote_index_column": 1
        },
        {
         "color": "red",
         "value": 3,
         "_deepnote_index_column": 2
        }
       ],
       "rows_bottom": null
      },
      "text/plain": "   color  value\n0  white      2\n1  white      1\n2    red      3",
      "text/html": "<div>\n<style scoped>\n    .dataframe tbody tr th:only-of-type {\n        vertical-align: middle;\n    }\n\n    .dataframe tbody tr th {\n        vertical-align: top;\n    }\n\n    .dataframe thead th {\n        text-align: right;\n    }\n</style>\n<table border=\"1\" class=\"dataframe\">\n  <thead>\n    <tr style=\"text-align: right;\">\n      <th></th>\n      <th>color</th>\n      <th>value</th>\n    </tr>\n  </thead>\n  <tbody>\n    <tr>\n      <th>0</th>\n      <td>white</td>\n      <td>2</td>\n    </tr>\n    <tr>\n      <th>1</th>\n      <td>white</td>\n      <td>1</td>\n    </tr>\n    <tr>\n      <th>2</th>\n      <td>red</td>\n      <td>3</td>\n    </tr>\n  </tbody>\n</table>\n</div>"
     },
     "metadata": {}
    }
   ],
   "execution_count": 31
  },
  {
   "cell_type": "markdown",
   "source": "## 4. Binning",
   "metadata": {
    "tags": [],
    "is_collapsed": false,
    "cell_id": "00079-af4ef842-aa30-422d-ad69-d89f664380e5",
    "deepnote_cell_type": "text-cell-h2"
   }
  },
  {
   "cell_type": "markdown",
   "source": "Also referred to as discretization is the process of transforming continuous numerical data into sets of discrete categories for further analysis. \nThere are 2 ways to carry out binning in pandas",
   "metadata": {
    "tags": [],
    "is_collapsed": false,
    "cell_id": "00080-e4e331b3-d325-43cc-99cc-6a194d0723d5",
    "deepnote_cell_type": "text-cell-p"
   }
  },
  {
   "cell_type": "markdown",
   "source": "a. By using the cut() function \nb. By using the qcut() function\n",
   "metadata": {
    "tags": [],
    "is_collapsed": false,
    "deepnote_cell_type": "text-cell-p"
   }
  },
  {
   "cell_type": "markdown",
   "source": "### a. using the cut() function",
   "metadata": {
    "tags": [],
    "is_collapsed": false,
    "cell_id": "00082-7cd58f65-8a36-427f-ac69-e298faff002b",
    "deepnote_cell_type": "text-cell-h3"
   }
  },
  {
   "cell_type": "markdown",
   "source": "Depending on the distribution of the data sample, by using cut(), you will have a different number of occurrences for each bin.\n",
   "metadata": {
    "tags": [],
    "is_collapsed": false,
    "cell_id": "00083-d131e01b-58b5-4d9f-850d-9e07103d84d3",
    "deepnote_cell_type": "text-cell-p"
   }
  },
  {
   "cell_type": "markdown",
   "source": "For example, we may have a reading of an experimental value between0 and 100 collected in a list.\n",
   "metadata": {
    "tags": [],
    "is_collapsed": false,
    "cell_id": "00084-61a753b7-5eae-4c49-ab2f-f9faf9df29d2",
    "deepnote_cell_type": "text-cell-p"
   }
  },
  {
   "cell_type": "code",
   "source": "# An experiment result\nresults = [12,34,67,55,28,90,99,12,3,56,74,44,87,23,49,89,87]",
   "metadata": {
    "tags": [],
    "cell_id": "00085-7a362f64-3948-43a3-9a46-16edb822d8fd",
    "deepnote_to_be_reexecuted": false,
    "source_hash": "f71f8d55",
    "execution_start": 1637296979345,
    "execution_millis": 7,
    "deepnote_cell_type": "code"
   },
   "outputs": [],
   "execution_count": 32
  },
  {
   "cell_type": "markdown",
   "source": "We can uniformly divide this interval, for example, into four equal parts, i.e., bins. The first contains the values between 0 and 25, the second between 26 and 50, the third between 51 and 75, and the last between 76 and 100.\nTo do this binning with pandas, first we have to define an array containing the values of separation of bin\n\n",
   "metadata": {
    "tags": [],
    "is_collapsed": false,
    "cell_id": "00086-33a19b72-54dd-49a4-953f-370961d5a86b",
    "deepnote_cell_type": "text-cell-p"
   }
  },
  {
   "cell_type": "code",
   "source": "# value separation list\nbins = [0,25,50,75,100]",
   "metadata": {
    "tags": [],
    "cell_id": "00086-6f5d58b7-0b25-40be-9bbb-9cf255360223",
    "deepnote_to_be_reexecuted": false,
    "source_hash": "ff0ecacd",
    "execution_start": 1637296979354,
    "execution_millis": 3,
    "deepnote_cell_type": "code"
   },
   "outputs": [],
   "execution_count": 33
  },
  {
   "cell_type": "markdown",
   "source": "Then we use a special function called cut() and apply it to the array of results also passing the bins.",
   "metadata": {
    "tags": [],
    "is_collapsed": false,
    "cell_id": "00088-fcdf6fb1-2827-48a6-ac3e-32f872bcf7a0",
    "deepnote_cell_type": "text-cell-p"
   }
  },
  {
   "cell_type": "code",
   "source": "cat = pd.cut(results, bins)\ncat",
   "metadata": {
    "tags": [],
    "cell_id": "00088-643d9d84-d7e5-4cd8-a68f-e3fee81c5df2",
    "deepnote_to_be_reexecuted": false,
    "source_hash": "fb362e18",
    "execution_start": 1637296979401,
    "execution_millis": 3,
    "deepnote_output_heights": [
     58.65625
    ],
    "deepnote_cell_type": "code"
   },
   "outputs": [
    {
     "output_type": "execute_result",
     "execution_count": 34,
     "data": {
      "text/plain": "[(0, 25], (25, 50], (50, 75], (50, 75], (25, 50], ..., (75, 100], (0, 25], (25, 50], (75, 100], (75, 100]]\nLength: 17\nCategories (4, interval[int64]): [(0, 25] < (25, 50] < (50, 75] < (75, 100]]"
     },
     "metadata": {}
    }
   ],
   "execution_count": 34
  },
  {
   "cell_type": "markdown",
   "source": "To know the occurrences for each bin, that is, how many results fall into each category, we use the value_counts() function",
   "metadata": {
    "tags": [],
    "is_collapsed": false,
    "cell_id": "00090-f7d2cfbd-dbcc-42a9-9fb1-0c4eafea4610",
    "deepnote_cell_type": "text-cell-p"
   }
  },
  {
   "cell_type": "code",
   "source": "pd.value_counts(cat)",
   "metadata": {
    "tags": [],
    "cell_id": "00090-3ca1ba5b-1e43-413f-95c3-1f3ea9e70e10",
    "deepnote_to_be_reexecuted": false,
    "source_hash": "b96c2bbe",
    "execution_start": 1637296979402,
    "execution_millis": 4,
    "deepnote_output_heights": [
     96.421875
    ],
    "deepnote_cell_type": "code"
   },
   "outputs": [
    {
     "output_type": "execute_result",
     "execution_count": 35,
     "data": {
      "text/plain": "(75, 100]    5\n(0, 25]      4\n(25, 50]     4\n(50, 75]     4\ndtype: int64"
     },
     "metadata": {}
    }
   ],
   "execution_count": 35
  },
  {
   "cell_type": "markdown",
   "source": "If the cut() function is passed as an argument to an integer instead of explicating the bin edges, this will divide the range of values of the array in many intervals as specified by the number. For example:\n",
   "metadata": {
    "tags": [],
    "is_collapsed": false,
    "cell_id": "00092-34396457-14b0-4f08-8768-2cd9c7ecf429",
    "deepnote_cell_type": "text-cell-p"
   }
  },
  {
   "cell_type": "code",
   "source": "pd.cut(results, 5)",
   "metadata": {
    "tags": [],
    "cell_id": "00092-166230c9-b354-4a99-8d78-67fbe8319349",
    "deepnote_to_be_reexecuted": false,
    "source_hash": "c034ef6b",
    "execution_start": 1637296979403,
    "execution_millis": 5,
    "deepnote_output_heights": [
     58.65625
    ],
    "deepnote_cell_type": "code"
   },
   "outputs": [
    {
     "output_type": "execute_result",
     "execution_count": 36,
     "data": {
      "text/plain": "[(2.904, 22.2], (22.2, 41.4], (60.6, 79.8], (41.4, 60.6], (22.2, 41.4], ..., (79.8, 99.0], (22.2, 41.4], (41.4, 60.6], (79.8, 99.0], (79.8, 99.0]]\nLength: 17\nCategories (5, interval[float64]): [(2.904, 22.2] < (22.2, 41.4] < (41.4, 60.6] < (60.6, 79.8] < (79.8, 99.0]]"
     },
     "metadata": {}
    }
   ],
   "execution_count": 36
  },
  {
   "cell_type": "markdown",
   "source": "### b. using the qcut() function",
   "metadata": {
    "tags": [],
    "is_collapsed": false,
    "cell_id": "00094-fcb2f9d5-f3b7-4ba4-93a0-cf046ee8e05a",
    "deepnote_cell_type": "text-cell-h3"
   }
  },
  {
   "cell_type": "markdown",
   "source": "In addition to cut(), pandas provides another method for binning: qcut(). This function divides the sample directly into quintiles. The qcut() will ensure that the number of occurrences for each bin is equal, but the edges of each bin vary.",
   "metadata": {
    "tags": [],
    "is_collapsed": false,
    "cell_id": "00095-30caec61-8f6a-48b9-9889-f270359995a8",
    "deepnote_cell_type": "text-cell-p"
   }
  },
  {
   "cell_type": "code",
   "source": "quintiles = pd.qcut(results, 5)\nquintiles",
   "metadata": {
    "tags": [],
    "cell_id": "00094-c1158063-58ca-4eb1-a03e-90ea9b342cbd",
    "deepnote_to_be_reexecuted": false,
    "source_hash": "f07ba2a5",
    "execution_start": 1637296979409,
    "execution_millis": 12,
    "deepnote_output_heights": [
     58.65625
    ],
    "deepnote_cell_type": "code"
   },
   "outputs": [
    {
     "output_type": "execute_result",
     "execution_count": 37,
     "data": {
      "text/plain": "[(2.999, 24.0], (24.0, 46.0], (62.6, 87.0], (46.0, 62.6], (24.0, 46.0], ..., (62.6, 87.0], (2.999, 24.0], (46.0, 62.6], (87.0, 99.0], (62.6, 87.0]]\nLength: 17\nCategories (5, interval[float64]): [(2.999, 24.0] < (24.0, 46.0] < (46.0, 62.6] < (62.6, 87.0] < (87.0, 99.0]]"
     },
     "metadata": {}
    }
   ],
   "execution_count": 37
  },
  {
   "cell_type": "markdown",
   "source": "\nwe can determine the occurrences for each bin using the value_counts() function.\n",
   "metadata": {
    "tags": [],
    "is_collapsed": false,
    "cell_id": "00097-e4a3ff7f-879a-4942-baf3-e3a46f3c1e22",
    "deepnote_cell_type": "text-cell-p"
   }
  },
  {
   "cell_type": "code",
   "source": "pd.value_counts(quintiles)",
   "metadata": {
    "tags": [],
    "cell_id": "00097-a18b17f8-d1f9-41b1-aafd-b5dda28eedfa",
    "deepnote_to_be_reexecuted": false,
    "source_hash": "4211cfbe",
    "execution_start": 1637296979467,
    "execution_millis": 3,
    "deepnote_output_heights": [
     115.3125
    ],
    "deepnote_cell_type": "code"
   },
   "outputs": [
    {
     "output_type": "execute_result",
     "execution_count": 38,
     "data": {
      "text/plain": "(2.999, 24.0]    4\n(62.6, 87.0]     4\n(24.0, 46.0]     3\n(46.0, 62.6]     3\n(87.0, 99.0]     3\ndtype: int64"
     },
     "metadata": {}
    }
   ],
   "execution_count": 38
  },
  {
   "cell_type": "markdown",
   "source": "## 5. Sorting",
   "metadata": {
    "tags": [],
    "is_collapsed": false,
    "cell_id": "00099-97014f15-f156-4ecf-a081-764accde7047",
    "deepnote_cell_type": "text-cell-h2"
   }
  },
  {
   "cell_type": "markdown",
   "source": "Sorting is the process of putting the data into order. Sorting the data is often a necessity and it is very important to be able to do it easily. pandas provides the sort_ index() function, which returns a new object that’s identical to the start, but in which the elements are ordered. \n",
   "metadata": {
    "tags": [],
    "is_collapsed": false,
    "cell_id": "00100-bb57f51a-2e1b-463b-abb8-7f30d85533b1",
    "deepnote_cell_type": "text-cell-p"
   }
  },
  {
   "cell_type": "markdown",
   "source": "### a. Sorting by index",
   "metadata": {
    "tags": [],
    "is_collapsed": false,
    "cell_id": "00101-6e5858df-9b26-45eb-be7e-bb81ac31a341",
    "deepnote_cell_type": "text-cell-h3"
   }
  },
  {
   "cell_type": "markdown",
   "source": "Let’s start by seeing how you can sort items in a series.",
   "metadata": {
    "tags": [],
    "is_collapsed": false,
    "deepnote_cell_type": "text-cell-p"
   }
  },
  {
   "cell_type": "code",
   "source": "# lets create a series of items\nser = pd.Series([5,0,3,8,4], index=['red','blue','yellow','white','green'])\nser",
   "metadata": {
    "tags": [],
    "cell_id": "00103-3741cd88-568a-4384-a6aa-eff47368aa39",
    "deepnote_to_be_reexecuted": false,
    "source_hash": "4af08aff",
    "execution_start": 1637296979468,
    "execution_millis": 2,
    "deepnote_output_heights": [
     115.3125
    ],
    "deepnote_cell_type": "code"
   },
   "outputs": [
    {
     "output_type": "execute_result",
     "execution_count": 39,
     "data": {
      "text/plain": "red       5\nblue      0\nyellow    3\nwhite     8\ngreen     4\ndtype: int64"
     },
     "metadata": {}
    }
   ],
   "execution_count": 39
  },
  {
   "cell_type": "code",
   "source": "# lets apply sort_index() to sort the items\nser.sort_index()",
   "metadata": {
    "tags": [],
    "cell_id": "00104-191c8704-3ec2-43d5-a090-6b301a2f8ecc",
    "deepnote_to_be_reexecuted": false,
    "source_hash": "330d04b",
    "execution_start": 1637296979510,
    "execution_millis": 0,
    "deepnote_output_heights": [
     115.3125
    ],
    "deepnote_cell_type": "code"
   },
   "outputs": [
    {
     "output_type": "execute_result",
     "execution_count": 40,
     "data": {
      "text/plain": "blue      0\ngreen     4\nred       5\nwhite     8\nyellow    3\ndtype: int64"
     },
     "metadata": {}
    }
   ],
   "execution_count": 40
  },
  {
   "cell_type": "markdown",
   "source": "We can see from the result above that the items were sorted in ascending alphabetical order based on their labels (from A to Z).\nThis is the default behavior, but you can set the opposite order by setting the ascending option to False",
   "metadata": {
    "tags": [],
    "is_collapsed": false,
    "cell_id": "00105-58d07bbb-9086-4c61-a53a-e64c07992c62",
    "deepnote_cell_type": "text-cell-p"
   }
  },
  {
   "cell_type": "code",
   "source": "# sorting in descending order\nser.sort_index(ascending=False)",
   "metadata": {
    "tags": [],
    "cell_id": "00105-c40fcea1-294c-42cf-a33d-62e7cf8afefc",
    "deepnote_to_be_reexecuted": false,
    "source_hash": "6fa88519",
    "execution_start": 1637296979511,
    "execution_millis": 1,
    "deepnote_output_heights": [
     115.3125
    ],
    "deepnote_cell_type": "code"
   },
   "outputs": [
    {
     "output_type": "execute_result",
     "execution_count": 41,
     "data": {
      "text/plain": "yellow    3\nwhite     8\nred       5\ngreen     4\nblue      0\ndtype: int64"
     },
     "metadata": {}
    }
   ],
   "execution_count": 41
  },
  {
   "cell_type": "markdown",
   "source": "With the data frame, the sorting can be performed independently on each of its two axes. So if you want to order by row following the indexes, you just continue to use the sort_index() function without arguments as you’ve seen before, or if you prefer to order by columns, you need to set the axis options to 1.",
   "metadata": {
    "tags": [],
    "is_collapsed": false,
    "cell_id": "00107-a2bcd417-dd2a-4632-a2b8-1221fe697327",
    "deepnote_cell_type": "text-cell-p"
   }
  },
  {
   "cell_type": "code",
   "source": "# creating a new data frame\ndf = pd.DataFrame(np.arange(16).reshape((4,4)), index=['red','blue','yellow','white'],\n                     columns=['ball','pen','pencil','paper'])\ndf\n",
   "metadata": {
    "tags": [],
    "cell_id": "00107-f6c9b14d-24b0-42e8-aa65-0a142fc0cf47",
    "deepnote_to_be_reexecuted": false,
    "source_hash": "6b3a010",
    "execution_start": 1637296979548,
    "execution_millis": 3,
    "deepnote_cell_type": "code"
   },
   "outputs": [
    {
     "output_type": "execute_result",
     "execution_count": 42,
     "data": {
      "application/vnd.deepnote.dataframe.v2+json": {
       "row_count": 4,
       "column_count": 4,
       "columns": [
        {
         "name": "ball",
         "dtype": "int64",
         "stats": {
          "unique_count": 4,
          "nan_count": 0,
          "min": "0",
          "max": "12",
          "histogram": [
           {
            "bin_start": 0,
            "bin_end": 1.2,
            "count": 1
           },
           {
            "bin_start": 1.2,
            "bin_end": 2.4,
            "count": 0
           },
           {
            "bin_start": 2.4,
            "bin_end": 3.5999999999999996,
            "count": 0
           },
           {
            "bin_start": 3.5999999999999996,
            "bin_end": 4.8,
            "count": 1
           },
           {
            "bin_start": 4.8,
            "bin_end": 6,
            "count": 0
           },
           {
            "bin_start": 6,
            "bin_end": 7.199999999999999,
            "count": 0
           },
           {
            "bin_start": 7.199999999999999,
            "bin_end": 8.4,
            "count": 1
           },
           {
            "bin_start": 8.4,
            "bin_end": 9.6,
            "count": 0
           },
           {
            "bin_start": 9.6,
            "bin_end": 10.799999999999999,
            "count": 0
           },
           {
            "bin_start": 10.799999999999999,
            "bin_end": 12,
            "count": 1
           }
          ]
         }
        },
        {
         "name": "pen",
         "dtype": "int64",
         "stats": {
          "unique_count": 4,
          "nan_count": 0,
          "min": "1",
          "max": "13",
          "histogram": [
           {
            "bin_start": 1,
            "bin_end": 2.2,
            "count": 1
           },
           {
            "bin_start": 2.2,
            "bin_end": 3.4,
            "count": 0
           },
           {
            "bin_start": 3.4,
            "bin_end": 4.6,
            "count": 0
           },
           {
            "bin_start": 4.6,
            "bin_end": 5.8,
            "count": 1
           },
           {
            "bin_start": 5.8,
            "bin_end": 7,
            "count": 0
           },
           {
            "bin_start": 7,
            "bin_end": 8.2,
            "count": 0
           },
           {
            "bin_start": 8.2,
            "bin_end": 9.4,
            "count": 1
           },
           {
            "bin_start": 9.4,
            "bin_end": 10.6,
            "count": 0
           },
           {
            "bin_start": 10.6,
            "bin_end": 11.799999999999999,
            "count": 0
           },
           {
            "bin_start": 11.799999999999999,
            "bin_end": 13,
            "count": 1
           }
          ]
         }
        },
        {
         "name": "pencil",
         "dtype": "int64",
         "stats": {
          "unique_count": 4,
          "nan_count": 0,
          "min": "2",
          "max": "14",
          "histogram": [
           {
            "bin_start": 2,
            "bin_end": 3.2,
            "count": 1
           },
           {
            "bin_start": 3.2,
            "bin_end": 4.4,
            "count": 0
           },
           {
            "bin_start": 4.4,
            "bin_end": 5.6,
            "count": 0
           },
           {
            "bin_start": 5.6,
            "bin_end": 6.8,
            "count": 1
           },
           {
            "bin_start": 6.8,
            "bin_end": 8,
            "count": 0
           },
           {
            "bin_start": 8,
            "bin_end": 9.2,
            "count": 0
           },
           {
            "bin_start": 9.2,
            "bin_end": 10.4,
            "count": 1
           },
           {
            "bin_start": 10.4,
            "bin_end": 11.6,
            "count": 0
           },
           {
            "bin_start": 11.6,
            "bin_end": 12.799999999999999,
            "count": 0
           },
           {
            "bin_start": 12.799999999999999,
            "bin_end": 14,
            "count": 1
           }
          ]
         }
        },
        {
         "name": "paper",
         "dtype": "int64",
         "stats": {
          "unique_count": 4,
          "nan_count": 0,
          "min": "3",
          "max": "15",
          "histogram": [
           {
            "bin_start": 3,
            "bin_end": 4.2,
            "count": 1
           },
           {
            "bin_start": 4.2,
            "bin_end": 5.4,
            "count": 0
           },
           {
            "bin_start": 5.4,
            "bin_end": 6.6,
            "count": 0
           },
           {
            "bin_start": 6.6,
            "bin_end": 7.8,
            "count": 1
           },
           {
            "bin_start": 7.8,
            "bin_end": 9,
            "count": 0
           },
           {
            "bin_start": 9,
            "bin_end": 10.2,
            "count": 0
           },
           {
            "bin_start": 10.2,
            "bin_end": 11.4,
            "count": 1
           },
           {
            "bin_start": 11.4,
            "bin_end": 12.6,
            "count": 0
           },
           {
            "bin_start": 12.6,
            "bin_end": 13.799999999999999,
            "count": 0
           },
           {
            "bin_start": 13.799999999999999,
            "bin_end": 15,
            "count": 1
           }
          ]
         }
        },
        {
         "name": "_deepnote_index_column",
         "dtype": "object"
        }
       ],
       "rows_top": [
        {
         "ball": 0,
         "pen": 1,
         "pencil": 2,
         "paper": 3,
         "_deepnote_index_column": "red"
        },
        {
         "ball": 4,
         "pen": 5,
         "pencil": 6,
         "paper": 7,
         "_deepnote_index_column": "blue"
        },
        {
         "ball": 8,
         "pen": 9,
         "pencil": 10,
         "paper": 11,
         "_deepnote_index_column": "yellow"
        },
        {
         "ball": 12,
         "pen": 13,
         "pencil": 14,
         "paper": 15,
         "_deepnote_index_column": "white"
        }
       ],
       "rows_bottom": null
      },
      "text/plain": "        ball  pen  pencil  paper\nred        0    1       2      3\nblue       4    5       6      7\nyellow     8    9      10     11\nwhite     12   13      14     15",
      "text/html": "<div>\n<style scoped>\n    .dataframe tbody tr th:only-of-type {\n        vertical-align: middle;\n    }\n\n    .dataframe tbody tr th {\n        vertical-align: top;\n    }\n\n    .dataframe thead th {\n        text-align: right;\n    }\n</style>\n<table border=\"1\" class=\"dataframe\">\n  <thead>\n    <tr style=\"text-align: right;\">\n      <th></th>\n      <th>ball</th>\n      <th>pen</th>\n      <th>pencil</th>\n      <th>paper</th>\n    </tr>\n  </thead>\n  <tbody>\n    <tr>\n      <th>red</th>\n      <td>0</td>\n      <td>1</td>\n      <td>2</td>\n      <td>3</td>\n    </tr>\n    <tr>\n      <th>blue</th>\n      <td>4</td>\n      <td>5</td>\n      <td>6</td>\n      <td>7</td>\n    </tr>\n    <tr>\n      <th>yellow</th>\n      <td>8</td>\n      <td>9</td>\n      <td>10</td>\n      <td>11</td>\n    </tr>\n    <tr>\n      <th>white</th>\n      <td>12</td>\n      <td>13</td>\n      <td>14</td>\n      <td>15</td>\n    </tr>\n  </tbody>\n</table>\n</div>"
     },
     "metadata": {}
    }
   ],
   "execution_count": 42
  },
  {
   "cell_type": "code",
   "source": "# lets sort the row\ndf.sort_index()",
   "metadata": {
    "tags": [],
    "cell_id": "00109-3ff37690-1af5-4d6b-b436-75bcd07f5ef8",
    "deepnote_to_be_reexecuted": false,
    "source_hash": "1028b906",
    "execution_start": 1637296979549,
    "execution_millis": 7,
    "deepnote_cell_type": "code"
   },
   "outputs": [
    {
     "output_type": "execute_result",
     "execution_count": 43,
     "data": {
      "application/vnd.deepnote.dataframe.v2+json": {
       "row_count": 4,
       "column_count": 4,
       "columns": [
        {
         "name": "ball",
         "dtype": "int64",
         "stats": {
          "unique_count": 4,
          "nan_count": 0,
          "min": "0",
          "max": "12",
          "histogram": [
           {
            "bin_start": 0,
            "bin_end": 1.2,
            "count": 1
           },
           {
            "bin_start": 1.2,
            "bin_end": 2.4,
            "count": 0
           },
           {
            "bin_start": 2.4,
            "bin_end": 3.5999999999999996,
            "count": 0
           },
           {
            "bin_start": 3.5999999999999996,
            "bin_end": 4.8,
            "count": 1
           },
           {
            "bin_start": 4.8,
            "bin_end": 6,
            "count": 0
           },
           {
            "bin_start": 6,
            "bin_end": 7.199999999999999,
            "count": 0
           },
           {
            "bin_start": 7.199999999999999,
            "bin_end": 8.4,
            "count": 1
           },
           {
            "bin_start": 8.4,
            "bin_end": 9.6,
            "count": 0
           },
           {
            "bin_start": 9.6,
            "bin_end": 10.799999999999999,
            "count": 0
           },
           {
            "bin_start": 10.799999999999999,
            "bin_end": 12,
            "count": 1
           }
          ]
         }
        },
        {
         "name": "pen",
         "dtype": "int64",
         "stats": {
          "unique_count": 4,
          "nan_count": 0,
          "min": "1",
          "max": "13",
          "histogram": [
           {
            "bin_start": 1,
            "bin_end": 2.2,
            "count": 1
           },
           {
            "bin_start": 2.2,
            "bin_end": 3.4,
            "count": 0
           },
           {
            "bin_start": 3.4,
            "bin_end": 4.6,
            "count": 0
           },
           {
            "bin_start": 4.6,
            "bin_end": 5.8,
            "count": 1
           },
           {
            "bin_start": 5.8,
            "bin_end": 7,
            "count": 0
           },
           {
            "bin_start": 7,
            "bin_end": 8.2,
            "count": 0
           },
           {
            "bin_start": 8.2,
            "bin_end": 9.4,
            "count": 1
           },
           {
            "bin_start": 9.4,
            "bin_end": 10.6,
            "count": 0
           },
           {
            "bin_start": 10.6,
            "bin_end": 11.799999999999999,
            "count": 0
           },
           {
            "bin_start": 11.799999999999999,
            "bin_end": 13,
            "count": 1
           }
          ]
         }
        },
        {
         "name": "pencil",
         "dtype": "int64",
         "stats": {
          "unique_count": 4,
          "nan_count": 0,
          "min": "2",
          "max": "14",
          "histogram": [
           {
            "bin_start": 2,
            "bin_end": 3.2,
            "count": 1
           },
           {
            "bin_start": 3.2,
            "bin_end": 4.4,
            "count": 0
           },
           {
            "bin_start": 4.4,
            "bin_end": 5.6,
            "count": 0
           },
           {
            "bin_start": 5.6,
            "bin_end": 6.8,
            "count": 1
           },
           {
            "bin_start": 6.8,
            "bin_end": 8,
            "count": 0
           },
           {
            "bin_start": 8,
            "bin_end": 9.2,
            "count": 0
           },
           {
            "bin_start": 9.2,
            "bin_end": 10.4,
            "count": 1
           },
           {
            "bin_start": 10.4,
            "bin_end": 11.6,
            "count": 0
           },
           {
            "bin_start": 11.6,
            "bin_end": 12.799999999999999,
            "count": 0
           },
           {
            "bin_start": 12.799999999999999,
            "bin_end": 14,
            "count": 1
           }
          ]
         }
        },
        {
         "name": "paper",
         "dtype": "int64",
         "stats": {
          "unique_count": 4,
          "nan_count": 0,
          "min": "3",
          "max": "15",
          "histogram": [
           {
            "bin_start": 3,
            "bin_end": 4.2,
            "count": 1
           },
           {
            "bin_start": 4.2,
            "bin_end": 5.4,
            "count": 0
           },
           {
            "bin_start": 5.4,
            "bin_end": 6.6,
            "count": 0
           },
           {
            "bin_start": 6.6,
            "bin_end": 7.8,
            "count": 1
           },
           {
            "bin_start": 7.8,
            "bin_end": 9,
            "count": 0
           },
           {
            "bin_start": 9,
            "bin_end": 10.2,
            "count": 0
           },
           {
            "bin_start": 10.2,
            "bin_end": 11.4,
            "count": 1
           },
           {
            "bin_start": 11.4,
            "bin_end": 12.6,
            "count": 0
           },
           {
            "bin_start": 12.6,
            "bin_end": 13.799999999999999,
            "count": 0
           },
           {
            "bin_start": 13.799999999999999,
            "bin_end": 15,
            "count": 1
           }
          ]
         }
        },
        {
         "name": "_deepnote_index_column",
         "dtype": "object"
        }
       ],
       "rows_top": [
        {
         "ball": 4,
         "pen": 5,
         "pencil": 6,
         "paper": 7,
         "_deepnote_index_column": "blue"
        },
        {
         "ball": 0,
         "pen": 1,
         "pencil": 2,
         "paper": 3,
         "_deepnote_index_column": "red"
        },
        {
         "ball": 12,
         "pen": 13,
         "pencil": 14,
         "paper": 15,
         "_deepnote_index_column": "white"
        },
        {
         "ball": 8,
         "pen": 9,
         "pencil": 10,
         "paper": 11,
         "_deepnote_index_column": "yellow"
        }
       ],
       "rows_bottom": null
      },
      "text/plain": "        ball  pen  pencil  paper\nblue       4    5       6      7\nred        0    1       2      3\nwhite     12   13      14     15\nyellow     8    9      10     11",
      "text/html": "<div>\n<style scoped>\n    .dataframe tbody tr th:only-of-type {\n        vertical-align: middle;\n    }\n\n    .dataframe tbody tr th {\n        vertical-align: top;\n    }\n\n    .dataframe thead th {\n        text-align: right;\n    }\n</style>\n<table border=\"1\" class=\"dataframe\">\n  <thead>\n    <tr style=\"text-align: right;\">\n      <th></th>\n      <th>ball</th>\n      <th>pen</th>\n      <th>pencil</th>\n      <th>paper</th>\n    </tr>\n  </thead>\n  <tbody>\n    <tr>\n      <th>blue</th>\n      <td>4</td>\n      <td>5</td>\n      <td>6</td>\n      <td>7</td>\n    </tr>\n    <tr>\n      <th>red</th>\n      <td>0</td>\n      <td>1</td>\n      <td>2</td>\n      <td>3</td>\n    </tr>\n    <tr>\n      <th>white</th>\n      <td>12</td>\n      <td>13</td>\n      <td>14</td>\n      <td>15</td>\n    </tr>\n    <tr>\n      <th>yellow</th>\n      <td>8</td>\n      <td>9</td>\n      <td>10</td>\n      <td>11</td>\n    </tr>\n  </tbody>\n</table>\n</div>"
     },
     "metadata": {}
    }
   ],
   "execution_count": 43
  },
  {
   "cell_type": "code",
   "source": "# to sort the column we need to provide the axis label\ndf.sort_index(axis=1)",
   "metadata": {
    "tags": [],
    "cell_id": "00110-91a9c492-270a-4a4d-aedf-b12c9486710f",
    "deepnote_to_be_reexecuted": false,
    "source_hash": "74e3024a",
    "execution_start": 1637296979557,
    "execution_millis": 24,
    "deepnote_cell_type": "code"
   },
   "outputs": [
    {
     "output_type": "execute_result",
     "execution_count": 44,
     "data": {
      "application/vnd.deepnote.dataframe.v2+json": {
       "row_count": 4,
       "column_count": 4,
       "columns": [
        {
         "name": "ball",
         "dtype": "int64",
         "stats": {
          "unique_count": 4,
          "nan_count": 0,
          "min": "0",
          "max": "12",
          "histogram": [
           {
            "bin_start": 0,
            "bin_end": 1.2,
            "count": 1
           },
           {
            "bin_start": 1.2,
            "bin_end": 2.4,
            "count": 0
           },
           {
            "bin_start": 2.4,
            "bin_end": 3.5999999999999996,
            "count": 0
           },
           {
            "bin_start": 3.5999999999999996,
            "bin_end": 4.8,
            "count": 1
           },
           {
            "bin_start": 4.8,
            "bin_end": 6,
            "count": 0
           },
           {
            "bin_start": 6,
            "bin_end": 7.199999999999999,
            "count": 0
           },
           {
            "bin_start": 7.199999999999999,
            "bin_end": 8.4,
            "count": 1
           },
           {
            "bin_start": 8.4,
            "bin_end": 9.6,
            "count": 0
           },
           {
            "bin_start": 9.6,
            "bin_end": 10.799999999999999,
            "count": 0
           },
           {
            "bin_start": 10.799999999999999,
            "bin_end": 12,
            "count": 1
           }
          ]
         }
        },
        {
         "name": "paper",
         "dtype": "int64",
         "stats": {
          "unique_count": 4,
          "nan_count": 0,
          "min": "3",
          "max": "15",
          "histogram": [
           {
            "bin_start": 3,
            "bin_end": 4.2,
            "count": 1
           },
           {
            "bin_start": 4.2,
            "bin_end": 5.4,
            "count": 0
           },
           {
            "bin_start": 5.4,
            "bin_end": 6.6,
            "count": 0
           },
           {
            "bin_start": 6.6,
            "bin_end": 7.8,
            "count": 1
           },
           {
            "bin_start": 7.8,
            "bin_end": 9,
            "count": 0
           },
           {
            "bin_start": 9,
            "bin_end": 10.2,
            "count": 0
           },
           {
            "bin_start": 10.2,
            "bin_end": 11.4,
            "count": 1
           },
           {
            "bin_start": 11.4,
            "bin_end": 12.6,
            "count": 0
           },
           {
            "bin_start": 12.6,
            "bin_end": 13.799999999999999,
            "count": 0
           },
           {
            "bin_start": 13.799999999999999,
            "bin_end": 15,
            "count": 1
           }
          ]
         }
        },
        {
         "name": "pen",
         "dtype": "int64",
         "stats": {
          "unique_count": 4,
          "nan_count": 0,
          "min": "1",
          "max": "13",
          "histogram": [
           {
            "bin_start": 1,
            "bin_end": 2.2,
            "count": 1
           },
           {
            "bin_start": 2.2,
            "bin_end": 3.4,
            "count": 0
           },
           {
            "bin_start": 3.4,
            "bin_end": 4.6,
            "count": 0
           },
           {
            "bin_start": 4.6,
            "bin_end": 5.8,
            "count": 1
           },
           {
            "bin_start": 5.8,
            "bin_end": 7,
            "count": 0
           },
           {
            "bin_start": 7,
            "bin_end": 8.2,
            "count": 0
           },
           {
            "bin_start": 8.2,
            "bin_end": 9.4,
            "count": 1
           },
           {
            "bin_start": 9.4,
            "bin_end": 10.6,
            "count": 0
           },
           {
            "bin_start": 10.6,
            "bin_end": 11.799999999999999,
            "count": 0
           },
           {
            "bin_start": 11.799999999999999,
            "bin_end": 13,
            "count": 1
           }
          ]
         }
        },
        {
         "name": "pencil",
         "dtype": "int64",
         "stats": {
          "unique_count": 4,
          "nan_count": 0,
          "min": "2",
          "max": "14",
          "histogram": [
           {
            "bin_start": 2,
            "bin_end": 3.2,
            "count": 1
           },
           {
            "bin_start": 3.2,
            "bin_end": 4.4,
            "count": 0
           },
           {
            "bin_start": 4.4,
            "bin_end": 5.6,
            "count": 0
           },
           {
            "bin_start": 5.6,
            "bin_end": 6.8,
            "count": 1
           },
           {
            "bin_start": 6.8,
            "bin_end": 8,
            "count": 0
           },
           {
            "bin_start": 8,
            "bin_end": 9.2,
            "count": 0
           },
           {
            "bin_start": 9.2,
            "bin_end": 10.4,
            "count": 1
           },
           {
            "bin_start": 10.4,
            "bin_end": 11.6,
            "count": 0
           },
           {
            "bin_start": 11.6,
            "bin_end": 12.799999999999999,
            "count": 0
           },
           {
            "bin_start": 12.799999999999999,
            "bin_end": 14,
            "count": 1
           }
          ]
         }
        },
        {
         "name": "_deepnote_index_column",
         "dtype": "object"
        }
       ],
       "rows_top": [
        {
         "ball": 0,
         "paper": 3,
         "pen": 1,
         "pencil": 2,
         "_deepnote_index_column": "red"
        },
        {
         "ball": 4,
         "paper": 7,
         "pen": 5,
         "pencil": 6,
         "_deepnote_index_column": "blue"
        },
        {
         "ball": 8,
         "paper": 11,
         "pen": 9,
         "pencil": 10,
         "_deepnote_index_column": "yellow"
        },
        {
         "ball": 12,
         "paper": 15,
         "pen": 13,
         "pencil": 14,
         "_deepnote_index_column": "white"
        }
       ],
       "rows_bottom": null
      },
      "text/plain": "        ball  paper  pen  pencil\nred        0      3    1       2\nblue       4      7    5       6\nyellow     8     11    9      10\nwhite     12     15   13      14",
      "text/html": "<div>\n<style scoped>\n    .dataframe tbody tr th:only-of-type {\n        vertical-align: middle;\n    }\n\n    .dataframe tbody tr th {\n        vertical-align: top;\n    }\n\n    .dataframe thead th {\n        text-align: right;\n    }\n</style>\n<table border=\"1\" class=\"dataframe\">\n  <thead>\n    <tr style=\"text-align: right;\">\n      <th></th>\n      <th>ball</th>\n      <th>paper</th>\n      <th>pen</th>\n      <th>pencil</th>\n    </tr>\n  </thead>\n  <tbody>\n    <tr>\n      <th>red</th>\n      <td>0</td>\n      <td>3</td>\n      <td>1</td>\n      <td>2</td>\n    </tr>\n    <tr>\n      <th>blue</th>\n      <td>4</td>\n      <td>7</td>\n      <td>5</td>\n      <td>6</td>\n    </tr>\n    <tr>\n      <th>yellow</th>\n      <td>8</td>\n      <td>11</td>\n      <td>9</td>\n      <td>10</td>\n    </tr>\n    <tr>\n      <th>white</th>\n      <td>12</td>\n      <td>15</td>\n      <td>13</td>\n      <td>14</td>\n    </tr>\n  </tbody>\n</table>\n</div>"
     },
     "metadata": {}
    }
   ],
   "execution_count": 44
  },
  {
   "cell_type": "markdown",
   "source": "### b. Sorting by values",
   "metadata": {
    "tags": [],
    "is_collapsed": false,
    "cell_id": "00111-55089580-c6a7-4d60-8517-932e5a082a01",
    "deepnote_cell_type": "text-cell-h3"
   }
  },
  {
   "cell_type": "markdown",
   "source": "We may sometimes need to sort the values contained in the data structure. In this case, we have to differentiate depending on whether we have to sort the values of a series or a dataframe.\n",
   "metadata": {
    "tags": [],
    "is_collapsed": false,
    "cell_id": "00112-7f32eacc-606a-4099-9884-254e4c3bfc43",
    "deepnote_cell_type": "text-cell-p"
   }
  },
  {
   "cell_type": "markdown",
   "source": "To order the series, we need to use the sort_values() function. Let's sort the values of our previous data\n",
   "metadata": {
    "tags": [],
    "is_collapsed": false,
    "cell_id": "00113-54d12ba0-dc7e-495c-ab99-304db7976e19",
    "deepnote_cell_type": "text-cell-p"
   }
  },
  {
   "cell_type": "code",
   "source": "# sorting a series of values\nser.sort_values()",
   "metadata": {
    "tags": [],
    "cell_id": "00111-ba06782e-9cc8-4164-b8d0-623b6c2a5074",
    "deepnote_to_be_reexecuted": false,
    "source_hash": "3ab7ae7f",
    "execution_start": 1637296979621,
    "execution_millis": 2,
    "deepnote_output_heights": [
     115.3125
    ],
    "deepnote_cell_type": "code"
   },
   "outputs": [
    {
     "output_type": "execute_result",
     "execution_count": 45,
     "data": {
      "text/plain": "blue      0\nyellow    3\ngreen     4\nred       5\nwhite     8\ndtype: int64"
     },
     "metadata": {}
    }
   ],
   "execution_count": 45
  },
  {
   "cell_type": "markdown",
   "source": "For us  to order the values in a data frame, we will use the sort_values() function seen previously but with the \"by\" option. Then we have to specify the name of the column on which to sort. ",
   "metadata": {
    "tags": [],
    "is_collapsed": false,
    "cell_id": "00115-d6537569-4622-4d7c-b19d-f727e33954a2",
    "deepnote_cell_type": "text-cell-p"
   }
  },
  {
   "cell_type": "code",
   "source": "# sorting a dataframe\ndf.sort_values(by='pen')",
   "metadata": {
    "tags": [],
    "cell_id": "00115-f8c1bb48-4195-405e-8764-70b07221e238",
    "deepnote_to_be_reexecuted": false,
    "source_hash": "81b5061b",
    "execution_start": 1637296979622,
    "execution_millis": 5,
    "deepnote_cell_type": "code"
   },
   "outputs": [
    {
     "output_type": "execute_result",
     "execution_count": 46,
     "data": {
      "application/vnd.deepnote.dataframe.v2+json": {
       "row_count": 4,
       "column_count": 4,
       "columns": [
        {
         "name": "ball",
         "dtype": "int64",
         "stats": {
          "unique_count": 4,
          "nan_count": 0,
          "min": "0",
          "max": "12",
          "histogram": [
           {
            "bin_start": 0,
            "bin_end": 1.2,
            "count": 1
           },
           {
            "bin_start": 1.2,
            "bin_end": 2.4,
            "count": 0
           },
           {
            "bin_start": 2.4,
            "bin_end": 3.5999999999999996,
            "count": 0
           },
           {
            "bin_start": 3.5999999999999996,
            "bin_end": 4.8,
            "count": 1
           },
           {
            "bin_start": 4.8,
            "bin_end": 6,
            "count": 0
           },
           {
            "bin_start": 6,
            "bin_end": 7.199999999999999,
            "count": 0
           },
           {
            "bin_start": 7.199999999999999,
            "bin_end": 8.4,
            "count": 1
           },
           {
            "bin_start": 8.4,
            "bin_end": 9.6,
            "count": 0
           },
           {
            "bin_start": 9.6,
            "bin_end": 10.799999999999999,
            "count": 0
           },
           {
            "bin_start": 10.799999999999999,
            "bin_end": 12,
            "count": 1
           }
          ]
         }
        },
        {
         "name": "pen",
         "dtype": "int64",
         "stats": {
          "unique_count": 4,
          "nan_count": 0,
          "min": "1",
          "max": "13",
          "histogram": [
           {
            "bin_start": 1,
            "bin_end": 2.2,
            "count": 1
           },
           {
            "bin_start": 2.2,
            "bin_end": 3.4,
            "count": 0
           },
           {
            "bin_start": 3.4,
            "bin_end": 4.6,
            "count": 0
           },
           {
            "bin_start": 4.6,
            "bin_end": 5.8,
            "count": 1
           },
           {
            "bin_start": 5.8,
            "bin_end": 7,
            "count": 0
           },
           {
            "bin_start": 7,
            "bin_end": 8.2,
            "count": 0
           },
           {
            "bin_start": 8.2,
            "bin_end": 9.4,
            "count": 1
           },
           {
            "bin_start": 9.4,
            "bin_end": 10.6,
            "count": 0
           },
           {
            "bin_start": 10.6,
            "bin_end": 11.799999999999999,
            "count": 0
           },
           {
            "bin_start": 11.799999999999999,
            "bin_end": 13,
            "count": 1
           }
          ]
         }
        },
        {
         "name": "pencil",
         "dtype": "int64",
         "stats": {
          "unique_count": 4,
          "nan_count": 0,
          "min": "2",
          "max": "14",
          "histogram": [
           {
            "bin_start": 2,
            "bin_end": 3.2,
            "count": 1
           },
           {
            "bin_start": 3.2,
            "bin_end": 4.4,
            "count": 0
           },
           {
            "bin_start": 4.4,
            "bin_end": 5.6,
            "count": 0
           },
           {
            "bin_start": 5.6,
            "bin_end": 6.8,
            "count": 1
           },
           {
            "bin_start": 6.8,
            "bin_end": 8,
            "count": 0
           },
           {
            "bin_start": 8,
            "bin_end": 9.2,
            "count": 0
           },
           {
            "bin_start": 9.2,
            "bin_end": 10.4,
            "count": 1
           },
           {
            "bin_start": 10.4,
            "bin_end": 11.6,
            "count": 0
           },
           {
            "bin_start": 11.6,
            "bin_end": 12.799999999999999,
            "count": 0
           },
           {
            "bin_start": 12.799999999999999,
            "bin_end": 14,
            "count": 1
           }
          ]
         }
        },
        {
         "name": "paper",
         "dtype": "int64",
         "stats": {
          "unique_count": 4,
          "nan_count": 0,
          "min": "3",
          "max": "15",
          "histogram": [
           {
            "bin_start": 3,
            "bin_end": 4.2,
            "count": 1
           },
           {
            "bin_start": 4.2,
            "bin_end": 5.4,
            "count": 0
           },
           {
            "bin_start": 5.4,
            "bin_end": 6.6,
            "count": 0
           },
           {
            "bin_start": 6.6,
            "bin_end": 7.8,
            "count": 1
           },
           {
            "bin_start": 7.8,
            "bin_end": 9,
            "count": 0
           },
           {
            "bin_start": 9,
            "bin_end": 10.2,
            "count": 0
           },
           {
            "bin_start": 10.2,
            "bin_end": 11.4,
            "count": 1
           },
           {
            "bin_start": 11.4,
            "bin_end": 12.6,
            "count": 0
           },
           {
            "bin_start": 12.6,
            "bin_end": 13.799999999999999,
            "count": 0
           },
           {
            "bin_start": 13.799999999999999,
            "bin_end": 15,
            "count": 1
           }
          ]
         }
        },
        {
         "name": "_deepnote_index_column",
         "dtype": "object"
        }
       ],
       "rows_top": [
        {
         "ball": 0,
         "pen": 1,
         "pencil": 2,
         "paper": 3,
         "_deepnote_index_column": "red"
        },
        {
         "ball": 4,
         "pen": 5,
         "pencil": 6,
         "paper": 7,
         "_deepnote_index_column": "blue"
        },
        {
         "ball": 8,
         "pen": 9,
         "pencil": 10,
         "paper": 11,
         "_deepnote_index_column": "yellow"
        },
        {
         "ball": 12,
         "pen": 13,
         "pencil": 14,
         "paper": 15,
         "_deepnote_index_column": "white"
        }
       ],
       "rows_bottom": null
      },
      "text/plain": "        ball  pen  pencil  paper\nred        0    1       2      3\nblue       4    5       6      7\nyellow     8    9      10     11\nwhite     12   13      14     15",
      "text/html": "<div>\n<style scoped>\n    .dataframe tbody tr th:only-of-type {\n        vertical-align: middle;\n    }\n\n    .dataframe tbody tr th {\n        vertical-align: top;\n    }\n\n    .dataframe thead th {\n        text-align: right;\n    }\n</style>\n<table border=\"1\" class=\"dataframe\">\n  <thead>\n    <tr style=\"text-align: right;\">\n      <th></th>\n      <th>ball</th>\n      <th>pen</th>\n      <th>pencil</th>\n      <th>paper</th>\n    </tr>\n  </thead>\n  <tbody>\n    <tr>\n      <th>red</th>\n      <td>0</td>\n      <td>1</td>\n      <td>2</td>\n      <td>3</td>\n    </tr>\n    <tr>\n      <th>blue</th>\n      <td>4</td>\n      <td>5</td>\n      <td>6</td>\n      <td>7</td>\n    </tr>\n    <tr>\n      <th>yellow</th>\n      <td>8</td>\n      <td>9</td>\n      <td>10</td>\n      <td>11</td>\n    </tr>\n    <tr>\n      <th>white</th>\n      <td>12</td>\n      <td>13</td>\n      <td>14</td>\n      <td>15</td>\n    </tr>\n  </tbody>\n</table>\n</div>"
     },
     "metadata": {}
    }
   ],
   "execution_count": 46
  },
  {
   "cell_type": "markdown",
   "source": "If the sorting criteria will be based on two or more columns, we can assign an array containing the names of the columns to the \"by\" option.\n",
   "metadata": {
    "tags": [],
    "is_collapsed": false,
    "cell_id": "00117-0e2d3b0e-f25c-4cbb-b181-18696e69eb7f",
    "deepnote_cell_type": "text-cell-p"
   }
  },
  {
   "cell_type": "code",
   "source": "# sorting dataframe with two columns\ndf.sort_values(by=['pen','pencil'])",
   "metadata": {
    "tags": [],
    "cell_id": "00117-898f3eaf-32e1-4ba8-869b-dd62b7ee3392",
    "deepnote_to_be_reexecuted": false,
    "source_hash": "bae3fece",
    "execution_start": 1637296979630,
    "execution_millis": 26,
    "deepnote_cell_type": "code"
   },
   "outputs": [
    {
     "output_type": "execute_result",
     "execution_count": 47,
     "data": {
      "application/vnd.deepnote.dataframe.v2+json": {
       "row_count": 4,
       "column_count": 4,
       "columns": [
        {
         "name": "ball",
         "dtype": "int64",
         "stats": {
          "unique_count": 4,
          "nan_count": 0,
          "min": "0",
          "max": "12",
          "histogram": [
           {
            "bin_start": 0,
            "bin_end": 1.2,
            "count": 1
           },
           {
            "bin_start": 1.2,
            "bin_end": 2.4,
            "count": 0
           },
           {
            "bin_start": 2.4,
            "bin_end": 3.5999999999999996,
            "count": 0
           },
           {
            "bin_start": 3.5999999999999996,
            "bin_end": 4.8,
            "count": 1
           },
           {
            "bin_start": 4.8,
            "bin_end": 6,
            "count": 0
           },
           {
            "bin_start": 6,
            "bin_end": 7.199999999999999,
            "count": 0
           },
           {
            "bin_start": 7.199999999999999,
            "bin_end": 8.4,
            "count": 1
           },
           {
            "bin_start": 8.4,
            "bin_end": 9.6,
            "count": 0
           },
           {
            "bin_start": 9.6,
            "bin_end": 10.799999999999999,
            "count": 0
           },
           {
            "bin_start": 10.799999999999999,
            "bin_end": 12,
            "count": 1
           }
          ]
         }
        },
        {
         "name": "pen",
         "dtype": "int64",
         "stats": {
          "unique_count": 4,
          "nan_count": 0,
          "min": "1",
          "max": "13",
          "histogram": [
           {
            "bin_start": 1,
            "bin_end": 2.2,
            "count": 1
           },
           {
            "bin_start": 2.2,
            "bin_end": 3.4,
            "count": 0
           },
           {
            "bin_start": 3.4,
            "bin_end": 4.6,
            "count": 0
           },
           {
            "bin_start": 4.6,
            "bin_end": 5.8,
            "count": 1
           },
           {
            "bin_start": 5.8,
            "bin_end": 7,
            "count": 0
           },
           {
            "bin_start": 7,
            "bin_end": 8.2,
            "count": 0
           },
           {
            "bin_start": 8.2,
            "bin_end": 9.4,
            "count": 1
           },
           {
            "bin_start": 9.4,
            "bin_end": 10.6,
            "count": 0
           },
           {
            "bin_start": 10.6,
            "bin_end": 11.799999999999999,
            "count": 0
           },
           {
            "bin_start": 11.799999999999999,
            "bin_end": 13,
            "count": 1
           }
          ]
         }
        },
        {
         "name": "pencil",
         "dtype": "int64",
         "stats": {
          "unique_count": 4,
          "nan_count": 0,
          "min": "2",
          "max": "14",
          "histogram": [
           {
            "bin_start": 2,
            "bin_end": 3.2,
            "count": 1
           },
           {
            "bin_start": 3.2,
            "bin_end": 4.4,
            "count": 0
           },
           {
            "bin_start": 4.4,
            "bin_end": 5.6,
            "count": 0
           },
           {
            "bin_start": 5.6,
            "bin_end": 6.8,
            "count": 1
           },
           {
            "bin_start": 6.8,
            "bin_end": 8,
            "count": 0
           },
           {
            "bin_start": 8,
            "bin_end": 9.2,
            "count": 0
           },
           {
            "bin_start": 9.2,
            "bin_end": 10.4,
            "count": 1
           },
           {
            "bin_start": 10.4,
            "bin_end": 11.6,
            "count": 0
           },
           {
            "bin_start": 11.6,
            "bin_end": 12.799999999999999,
            "count": 0
           },
           {
            "bin_start": 12.799999999999999,
            "bin_end": 14,
            "count": 1
           }
          ]
         }
        },
        {
         "name": "paper",
         "dtype": "int64",
         "stats": {
          "unique_count": 4,
          "nan_count": 0,
          "min": "3",
          "max": "15",
          "histogram": [
           {
            "bin_start": 3,
            "bin_end": 4.2,
            "count": 1
           },
           {
            "bin_start": 4.2,
            "bin_end": 5.4,
            "count": 0
           },
           {
            "bin_start": 5.4,
            "bin_end": 6.6,
            "count": 0
           },
           {
            "bin_start": 6.6,
            "bin_end": 7.8,
            "count": 1
           },
           {
            "bin_start": 7.8,
            "bin_end": 9,
            "count": 0
           },
           {
            "bin_start": 9,
            "bin_end": 10.2,
            "count": 0
           },
           {
            "bin_start": 10.2,
            "bin_end": 11.4,
            "count": 1
           },
           {
            "bin_start": 11.4,
            "bin_end": 12.6,
            "count": 0
           },
           {
            "bin_start": 12.6,
            "bin_end": 13.799999999999999,
            "count": 0
           },
           {
            "bin_start": 13.799999999999999,
            "bin_end": 15,
            "count": 1
           }
          ]
         }
        },
        {
         "name": "_deepnote_index_column",
         "dtype": "object"
        }
       ],
       "rows_top": [
        {
         "ball": 0,
         "pen": 1,
         "pencil": 2,
         "paper": 3,
         "_deepnote_index_column": "red"
        },
        {
         "ball": 4,
         "pen": 5,
         "pencil": 6,
         "paper": 7,
         "_deepnote_index_column": "blue"
        },
        {
         "ball": 8,
         "pen": 9,
         "pencil": 10,
         "paper": 11,
         "_deepnote_index_column": "yellow"
        },
        {
         "ball": 12,
         "pen": 13,
         "pencil": 14,
         "paper": 15,
         "_deepnote_index_column": "white"
        }
       ],
       "rows_bottom": null
      },
      "text/plain": "        ball  pen  pencil  paper\nred        0    1       2      3\nblue       4    5       6      7\nyellow     8    9      10     11\nwhite     12   13      14     15",
      "text/html": "<div>\n<style scoped>\n    .dataframe tbody tr th:only-of-type {\n        vertical-align: middle;\n    }\n\n    .dataframe tbody tr th {\n        vertical-align: top;\n    }\n\n    .dataframe thead th {\n        text-align: right;\n    }\n</style>\n<table border=\"1\" class=\"dataframe\">\n  <thead>\n    <tr style=\"text-align: right;\">\n      <th></th>\n      <th>ball</th>\n      <th>pen</th>\n      <th>pencil</th>\n      <th>paper</th>\n    </tr>\n  </thead>\n  <tbody>\n    <tr>\n      <th>red</th>\n      <td>0</td>\n      <td>1</td>\n      <td>2</td>\n      <td>3</td>\n    </tr>\n    <tr>\n      <th>blue</th>\n      <td>4</td>\n      <td>5</td>\n      <td>6</td>\n      <td>7</td>\n    </tr>\n    <tr>\n      <th>yellow</th>\n      <td>8</td>\n      <td>9</td>\n      <td>10</td>\n      <td>11</td>\n    </tr>\n    <tr>\n      <th>white</th>\n      <td>12</td>\n      <td>13</td>\n      <td>14</td>\n      <td>15</td>\n    </tr>\n  </tbody>\n</table>\n</div>"
     },
     "metadata": {}
    }
   ],
   "execution_count": 47
  },
  {
   "cell_type": "code",
   "source": "",
   "metadata": {
    "tags": [],
    "cell_id": "00119-3415786c-13e1-4064-b438-437c21cbc2e7",
    "deepnote_to_be_reexecuted": false,
    "source_hash": "b623e53d",
    "execution_start": 1637296979661,
    "deepnote_cell_type": "code"
   },
   "outputs": [],
   "execution_count": 47
  },
  {
   "cell_type": "markdown",
   "source": "<a style='text-decoration:none;line-height:16px;display:flex;color:#5B5B62;padding:10px;justify-content:end;' href='https://deepnote.com?utm_source=created-in-deepnote-cell&projectId=5835449d-43ac-4e5e-a010-a26d5d3006dc' target=\"_blank\">\n<img alt='Created in deepnote.com' style='display:inline;max-height:16px;margin:0px;margin-right:7.5px;' src='data:image/svg+xml;base64,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' > </img>\nCreated in <span style='font-weight:600;margin-left:4px;'>Deepnote</span></a>",
   "metadata": {
    "tags": [],
    "created_in_deepnote_cell": true,
    "deepnote_cell_type": "markdown"
   }
  }
 ],
 "nbformat": 4,
 "nbformat_minor": 2,
 "metadata": {
  "orig_nbformat": 2,
  "deepnote": {
   "is_reactive": false
  },
  "deepnote_notebook_id": "15156b1a-d1c1-4a1f-82b0-5ef57dd1ee06",
  "deepnote_execution_queue": []
 }
}