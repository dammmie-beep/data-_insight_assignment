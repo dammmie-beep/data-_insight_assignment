{
  "cells": [
    {
      "cell_type": "markdown",
      "metadata": {
        "id": "view-in-github",
        "colab_type": "text"
      },
      "source": [
        "<a href=\"https://colab.research.google.com/github/dammmie-beep/data-_insight_assignment/blob/main/Rashidat_Sikiru_Stage_B.ipynb\" target=\"_parent\"><img src=\"https://colab.research.google.com/assets/colab-badge.svg\" alt=\"Open In Colab\"/></a>"
      ]
    },
    {
      "cell_type": "code",
      "execution_count": 17,
      "metadata": {
        "id": "HLA5E3jO-lW8"
      },
      "outputs": [],
      "source": [
        "import pandas as pd\n",
        "import numpy as np\n",
        "import matplotlib.pyplot as plt\n",
        "import seaborn as sns"
      ]
    },
    {
      "cell_type": "code",
      "execution_count": 18,
      "metadata": {
        "colab": {
          "base_uri": "https://localhost:8080/"
        },
        "id": "7Ijplu68_55M",
        "outputId": "96d88d9b-33c2-44ba-aedd-3931a5f4fe9e"
      },
      "outputs": [
        {
          "output_type": "stream",
          "name": "stderr",
          "text": [
            "/usr/local/lib/python3.7/dist-packages/IPython/core/interactiveshell.py:3326: FutureWarning: The error_bad_lines argument has been deprecated and will be removed in a future version.\n",
            "\n",
            "\n",
            "  exec(code_obj, self.user_global_ns, self.user_ns)\n",
            "Skipping line 17276: unexpected end of data\n"
          ]
        }
      ],
      "source": [
        "df = pd.read_csv(\"energydata_complete.csv\",engine =\"python\",encoding='utf-8', error_bad_lines=False)"
      ]
    },
    {
      "cell_type": "code",
      "execution_count": 19,
      "metadata": {
        "colab": {
          "base_uri": "https://localhost:8080/"
        },
        "id": "VKAwYnC4Algo",
        "outputId": "1acc1194-4cc2-4302-efa0-4470ac850312"
      },
      "outputs": [
        {
          "output_type": "stream",
          "name": "stdout",
          "text": [
            "<class 'pandas.core.frame.DataFrame'>\n",
            "RangeIndex: 17274 entries, 0 to 17273\n",
            "Data columns (total 29 columns):\n",
            " #   Column       Non-Null Count  Dtype  \n",
            "---  ------       --------------  -----  \n",
            " 0   date         17274 non-null  object \n",
            " 1   Appliances   17274 non-null  int64  \n",
            " 2   lights       17274 non-null  int64  \n",
            " 3   T1           17274 non-null  float64\n",
            " 4   RH_1         17274 non-null  float64\n",
            " 5   T2           17274 non-null  float64\n",
            " 6   RH_2         17274 non-null  float64\n",
            " 7   T3           17274 non-null  float64\n",
            " 8   RH_3         17274 non-null  float64\n",
            " 9   T4           17274 non-null  float64\n",
            " 10  RH_4         17274 non-null  float64\n",
            " 11  T5           17274 non-null  float64\n",
            " 12  RH_5         17274 non-null  float64\n",
            " 13  T6           17274 non-null  float64\n",
            " 14  RH_6         17274 non-null  float64\n",
            " 15  T7           17274 non-null  float64\n",
            " 16  RH_7         17274 non-null  float64\n",
            " 17  T8           17274 non-null  float64\n",
            " 18  RH_8         17274 non-null  float64\n",
            " 19  T9           17274 non-null  float64\n",
            " 20  RH_9         17274 non-null  float64\n",
            " 21  T_out        17274 non-null  float64\n",
            " 22  Press_mm_hg  17274 non-null  float64\n",
            " 23  RH_out       17274 non-null  float64\n",
            " 24  Windspeed    17274 non-null  float64\n",
            " 25  Visibility   17274 non-null  float64\n",
            " 26  Tdewpoint    17274 non-null  float64\n",
            " 27  rv1          17274 non-null  float64\n",
            " 28  rv2          17274 non-null  float64\n",
            "dtypes: float64(26), int64(2), object(1)\n",
            "memory usage: 3.8+ MB\n"
          ]
        }
      ],
      "source": [
        "df.info()"
      ]
    },
    {
      "cell_type": "code",
      "execution_count": 20,
      "metadata": {
        "id": "pLNk6z3wEJvb"
      },
      "outputs": [],
      "source": [
        "x = df.T2\n",
        "y = df.T6"
      ]
    },
    {
      "cell_type": "code",
      "execution_count": 21,
      "metadata": {
        "id": "x1ZMjyPdHd6r"
      },
      "outputs": [],
      "source": [
        "from sklearn.linear_model import LinearRegression "
      ]
    },
    {
      "cell_type": "code",
      "execution_count": 22,
      "metadata": {
        "id": "6Of55jYnItCB"
      },
      "outputs": [],
      "source": [
        "# x = x.values.reshape(1,-1)\n"
      ]
    },
    {
      "cell_type": "code",
      "execution_count": 23,
      "metadata": {
        "id": "RdFYeBD9JT07"
      },
      "outputs": [],
      "source": [
        "# y =y.values.reshape(1,-1)"
      ]
    },
    {
      "cell_type": "code",
      "execution_count": 24,
      "metadata": {
        "id": "wub71kAoHwOG"
      },
      "outputs": [],
      "source": [
        "model = LinearRegression()"
      ]
    },
    {
      "cell_type": "code",
      "execution_count": 32,
      "metadata": {
        "id": "zLqCqjKPIOOb"
      },
      "outputs": [],
      "source": [
        "# reg = model.fit(x,y)/"
      ]
    },
    {
      "cell_type": "code",
      "execution_count": 40,
      "metadata": {
        "id": "0-8kS9pMIbS1"
      },
      "outputs": [],
      "source": [
        "from sklearn.metrics import r2_score,mean_absolute_error"
      ]
    },
    {
      "cell_type": "code",
      "execution_count": 27,
      "metadata": {
        "id": "6wMBRvBZJzVZ"
      },
      "outputs": [],
      "source": [
        "R2 = r2_score(x,y)"
      ]
    },
    {
      "cell_type": "code",
      "execution_count": 28,
      "metadata": {
        "colab": {
          "base_uri": "https://localhost:8080/"
        },
        "id": "w008RDPBJ_8p",
        "outputId": "2ae26473-487f-499b-88b6-b613be188215"
      },
      "outputs": [
        {
          "output_type": "execute_result",
          "data": {
            "text/plain": [
              "-51.24421111862586"
            ]
          },
          "metadata": {},
          "execution_count": 28
        }
      ],
      "source": [
        "R2"
      ]
    },
    {
      "cell_type": "code",
      "execution_count": 29,
      "metadata": {
        "id": "42hvRjNLLwnu"
      },
      "outputs": [],
      "source": [
        "cols = [\"date\", \"lights\"]\n",
        "X = df.drop(columns = cols, inplace = True)"
      ]
    },
    {
      "cell_type": "code",
      "source": [
        "X = df.drop(\"Appliances\", axis =1)\n",
        "y = df.Appliances"
      ],
      "metadata": {
        "id": "zPL4zMrBQNp7"
      },
      "execution_count": 33,
      "outputs": []
    },
    {
      "cell_type": "code",
      "source": [
        "from sklearn.preprocessing import MinMaxScaler"
      ],
      "metadata": {
        "id": "I8i7SyV7Qwfd"
      },
      "execution_count": 35,
      "outputs": []
    },
    {
      "cell_type": "code",
      "source": [
        "scaler = MinMaxScaler()\n",
        "scaler.fit(X)"
      ],
      "metadata": {
        "colab": {
          "base_uri": "https://localhost:8080/"
        },
        "id": "BV__wRjqQ9i2",
        "outputId": "19a60d00-d8a0-419f-c695-1b72bdbc330c"
      },
      "execution_count": 37,
      "outputs": [
        {
          "output_type": "execute_result",
          "data": {
            "text/plain": [
              "MinMaxScaler()"
            ]
          },
          "metadata": {},
          "execution_count": 37
        }
      ]
    },
    {
      "cell_type": "code",
      "source": [
        "y.values.reshape(1,-1)"
      ],
      "metadata": {
        "colab": {
          "base_uri": "https://localhost:8080/"
        },
        "id": "WBcpwUTARNSt",
        "outputId": "014102d7-280d-4161-d154-452ce46718a0"
      },
      "execution_count": 47,
      "outputs": [
        {
          "output_type": "execute_result",
          "data": {
            "text/plain": [
              "array([[60, 60, 50, ..., 60, 60, 50]])"
            ]
          },
          "metadata": {},
          "execution_count": 47
        }
      ]
    },
    {
      "cell_type": "code",
      "execution_count": 48,
      "metadata": {
        "id": "c5ag0obGMx6B"
      },
      "outputs": [],
      "source": [
        "from sklearn.model_selection import train_test_split\n",
        "X_train, X_test, y_train, y_test = train_test_split(X, y, test_size=.3, random_state=42)"
      ]
    },
    {
      "cell_type": "code",
      "execution_count": 53,
      "metadata": {
        "id": "_WN9HFIUNKT3"
      },
      "outputs": [],
      "source": [
        "reg2 = model.fit(X_train,y_train)"
      ]
    },
    {
      "cell_type": "code",
      "source": [
        "y_pred = model.predict(X_test)"
      ],
      "metadata": {
        "id": "VsGlwBX4Tu7U"
      },
      "execution_count": 54,
      "outputs": []
    },
    {
      "cell_type": "code",
      "execution_count": 56,
      "metadata": {
        "id": "eBa2wLpzNWnY",
        "colab": {
          "base_uri": "https://localhost:8080/"
        },
        "outputId": "980ff4d5-2583-45f6-abf3-251d5023c956"
      },
      "outputs": [
        {
          "output_type": "execute_result",
          "data": {
            "text/plain": [
              "55.18284489522282"
            ]
          },
          "metadata": {},
          "execution_count": 56
        }
      ],
      "source": [
        "MAE = mean_absolute_error(y_test,y_pred)\n",
        "MAE"
      ]
    },
    {
      "cell_type": "code",
      "source": [
        "df2 = pd.DataFrame({'Actual': y_test, 'Predicted':y_pred})\n",
        "print(' residual sum of squares is : '+ str(np.sum(np.square(df2['Predicted'] - df2['Actual']))))"
      ],
      "metadata": {
        "colab": {
          "base_uri": "https://localhost:8080/"
        },
        "id": "Ewkz9bc4SZVU",
        "outputId": "6124d527-954f-40f6-ecfa-9f910c6a53fb"
      },
      "execution_count": 61,
      "outputs": [
        {
          "output_type": "stream",
          "name": "stdout",
          "text": [
            " residual sum of squares is : 48531169.33177467\n"
          ]
        }
      ]
    },
    {
      "cell_type": "code",
      "source": [
        "RMSE =np.sqrt(MAE)\n",
        "RMSE"
      ],
      "metadata": {
        "colab": {
          "base_uri": "https://localhost:8080/"
        },
        "id": "heYI7-TPUW5E",
        "outputId": "21016176-b36d-4716-9d8d-553fb0629a32"
      },
      "execution_count": 63,
      "outputs": [
        {
          "output_type": "execute_result",
          "data": {
            "text/plain": [
              "7.428515658947138"
            ]
          },
          "metadata": {},
          "execution_count": 63
        }
      ]
    },
    {
      "cell_type": "code",
      "source": [
        "coe =r2_score(y_test,y_pred)\n",
        "coe"
      ],
      "metadata": {
        "colab": {
          "base_uri": "https://localhost:8080/"
        },
        "id": "6d2nhW75VUzr",
        "outputId": "d24b4c69-8d3f-4389-de50-7a83a566bdb8"
      },
      "execution_count": 65,
      "outputs": [
        {
          "output_type": "execute_result",
          "data": {
            "text/plain": [
              "0.1386974013309461"
            ]
          },
          "metadata": {},
          "execution_count": 65
        }
      ]
    },
    {
      "cell_type": "code",
      "source": [],
      "metadata": {
        "id": "wDIAfdYEVrmy"
      },
      "execution_count": null,
      "outputs": []
    }
  ],
  "metadata": {
    "colab": {
      "provenance": [],
      "authorship_tag": "ABX9TyNPX+EofHiyCuZE7j0Y/wem",
      "include_colab_link": true
    },
    "kernelspec": {
      "display_name": "Python 3",
      "name": "python3"
    },
    "language_info": {
      "name": "python"
    }
  },
  "nbformat": 4,
  "nbformat_minor": 0
}