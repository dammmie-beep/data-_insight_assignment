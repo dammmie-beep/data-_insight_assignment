{
 "cells": [
  {
   "cell_type": "code",
   "execution_count": 8,
   "id": "6b50ede3",
   "metadata": {},
   "outputs": [
    {
     "name": "stdout",
     "output_type": "stream",
     "text": [
      "enter a phrase: rice and beans combined\n"
     ]
    }
   ],
   "source": [
    "# enter a word or phrase\n",
    "user_input = input(\"enter a phrase: \")"
   ]
  },
  {
   "cell_type": "code",
   "execution_count": 9,
   "id": "944898d0",
   "metadata": {},
   "outputs": [],
   "source": [
    "# Now we must ignore words like 'of' from the user input as most of the time\n",
    "# Also, we need to separate each word and store it individually in a form of a list\n",
    "phrase = (user_input.replace('of', '')).replace('and', '').split()"
   ]
  },
  {
   "cell_type": "code",
   "execution_count": 10,
   "id": "33e08407",
   "metadata": {},
   "outputs": [],
   "source": [
    "# We need an empty string variable to store our acronym\n",
    "acronym = \"\"\n",
    "\n",
    "# Now let's create a for loop which will iterate through phrase variable.\n",
    "for word in phrase:\n",
    "    acronym = acronym + word[0].upper()\n"
   ]
  },
  {
   "cell_type": "code",
   "execution_count": 11,
   "id": "d870e71d",
   "metadata": {},
   "outputs": [
    {
     "name": "stdout",
     "output_type": "stream",
     "text": [
      "The acronym of  rice and beans combined is : RBC\n"
     ]
    }
   ],
   "source": [
    "print(\"The acronym of \" + \" \" + user_input + \" \" + \"is\" + \" :\" + \" \" + acronym)"
   ]
  },
  {
   "cell_type": "code",
   "execution_count": null,
   "id": "725e4c6d",
   "metadata": {},
   "outputs": [],
   "source": []
  }
 ],
 "metadata": {
  "kernelspec": {
   "display_name": "Python 3",
   "language": "python",
   "name": "python3"
  },
  "language_info": {
   "codemirror_mode": {
    "name": "ipython",
    "version": 3
   },
   "file_extension": ".py",
   "mimetype": "text/x-python",
   "name": "python",
   "nbconvert_exporter": "python",
   "pygments_lexer": "ipython3",
   "version": "3.8.8"
  }
 },
 "nbformat": 4,
 "nbformat_minor": 5
}
