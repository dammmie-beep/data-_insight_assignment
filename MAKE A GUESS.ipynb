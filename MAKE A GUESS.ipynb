{
 "cells": [
  {
   "cell_type": "code",
   "execution_count": 1,
   "id": "69be1ae9",
   "metadata": {},
   "outputs": [],
   "source": [
    "# import module\n",
    "import random"
   ]
  },
  {
   "cell_type": "code",
   "execution_count": 2,
   "id": "ed5ebd96",
   "metadata": {},
   "outputs": [],
   "source": [
    "# declare a variable max_num\n",
    "max_num = 30"
   ]
  },
  {
   "cell_type": "code",
   "execution_count": 3,
   "id": "845cd25d",
   "metadata": {},
   "outputs": [],
   "source": [
    "#generate a random number\n",
    "random_number = random.randint(1, max_num)"
   ]
  },
  {
   "cell_type": "code",
   "execution_count": 4,
   "id": "d4fee22a",
   "metadata": {},
   "outputs": [],
   "source": [
    "# declare a variable guess\n",
    "guess = 0"
   ]
  },
  {
   "cell_type": "code",
   "execution_count": 5,
   "id": "8d83c0ee",
   "metadata": {},
   "outputs": [
    {
     "name": "stdout",
     "output_type": "stream",
     "text": [
      "Guess the number between 1 & 30: 13\n",
      "Wrong! Too high...\n",
      "Guess the number between 1 & 30: 8\n",
      "Wrong! Too high...\n",
      "Guess the number between 1 & 30: 5\n",
      "Wrong! Too high...\n",
      "Guess the number between 1 & 30: 2\n",
      "Wrong! Too high...\n",
      "Guess the number between 1 & 30: 1\n",
      "Thats Right! Random number is 1\n"
     ]
    }
   ],
   "source": [
    "# make awhile loop and conditional statements\n",
    "while guess != random_number:\n",
    "    guess = int(input(f\"Guess the number between 1 & {max_num}: \"))\n",
    "    if guess < random_number:\n",
    "            print(\"Wrong! Too low...\")\n",
    "    elif guess > random_number:\n",
    "            print(\"Wrong! Too high...\")\n",
    "    else:\n",
    "        print(f\"Thats Right! Random number is {random_number}\")"
   ]
  },
  {
   "cell_type": "code",
   "execution_count": null,
   "id": "578c4b46",
   "metadata": {},
   "outputs": [],
   "source": []
  }
 ],
 "metadata": {
  "kernelspec": {
   "display_name": "Python 3",
   "language": "python",
   "name": "python3"
  },
  "language_info": {
   "codemirror_mode": {
    "name": "ipython",
    "version": 3
   },
   "file_extension": ".py",
   "mimetype": "text/x-python",
   "name": "python",
   "nbconvert_exporter": "python",
   "pygments_lexer": "ipython3",
   "version": "3.8.8"
  }
 },
 "nbformat": 4,
 "nbformat_minor": 5
}
